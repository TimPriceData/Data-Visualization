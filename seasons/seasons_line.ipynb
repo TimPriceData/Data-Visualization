{
 "cells": [
  {
   "cell_type": "markdown",
   "metadata": {},
   "source": [
    "<H3>Import and format data</H3>\n",
    "<p>First we will import the weather data from the repository. The weather data contains the daily maximum and minimum temperatures and the rainfall between June 2018 and July 2019.</p>"
   ]
  },
  {
   "cell_type": "code",
   "execution_count": 205,
   "metadata": {},
   "outputs": [
    {
     "data": {
      "text/html": [
       "<div>\n",
       "<style scoped>\n",
       "    .dataframe tbody tr th:only-of-type {\n",
       "        vertical-align: middle;\n",
       "    }\n",
       "\n",
       "    .dataframe tbody tr th {\n",
       "        vertical-align: top;\n",
       "    }\n",
       "\n",
       "    .dataframe thead th {\n",
       "        text-align: right;\n",
       "    }\n",
       "</style>\n",
       "<table border=\"1\" class=\"dataframe\">\n",
       "  <thead>\n",
       "    <tr style=\"text-align: right;\">\n",
       "      <th></th>\n",
       "      <th>Max</th>\n",
       "      <th>Min</th>\n",
       "      <th>Rain</th>\n",
       "    </tr>\n",
       "    <tr>\n",
       "      <th>Date</th>\n",
       "      <th></th>\n",
       "      <th></th>\n",
       "      <th></th>\n",
       "    </tr>\n",
       "  </thead>\n",
       "  <tbody>\n",
       "    <tr>\n",
       "      <th>1/06/2018</th>\n",
       "      <td>17.7</td>\n",
       "      <td>4.0</td>\n",
       "      <td>0.0</td>\n",
       "    </tr>\n",
       "    <tr>\n",
       "      <th>2/06/2018</th>\n",
       "      <td>19.4</td>\n",
       "      <td>5.4</td>\n",
       "      <td>0.0</td>\n",
       "    </tr>\n",
       "    <tr>\n",
       "      <th>3/06/2018</th>\n",
       "      <td>17.2</td>\n",
       "      <td>4.2</td>\n",
       "      <td>0.0</td>\n",
       "    </tr>\n",
       "    <tr>\n",
       "      <th>4/06/2018</th>\n",
       "      <td>15.2</td>\n",
       "      <td>7.3</td>\n",
       "      <td>0.0</td>\n",
       "    </tr>\n",
       "    <tr>\n",
       "      <th>5/06/2018</th>\n",
       "      <td>15.6</td>\n",
       "      <td>3.9</td>\n",
       "      <td>0.0</td>\n",
       "    </tr>\n",
       "  </tbody>\n",
       "</table>\n",
       "</div>"
      ],
      "text/plain": [
       "            Max  Min  Rain\n",
       "Date                      \n",
       "1/06/2018  17.7  4.0   0.0\n",
       "2/06/2018  19.4  5.4   0.0\n",
       "3/06/2018  17.2  4.2   0.0\n",
       "4/06/2018  15.2  7.3   0.0\n",
       "5/06/2018  15.6  3.9   0.0"
      ]
     },
     "execution_count": 205,
     "metadata": {},
     "output_type": "execute_result"
    }
   ],
   "source": [
    "import pandas as pd\n",
    "\n",
    "weather = pd.read_csv('seasons.csv', index_col='Date')\n",
    "weather.head()"
   ]
  },
  {
   "cell_type": "markdown",
   "metadata": {},
   "source": [
    "<p>A quick check shows that there are no missing values, but does reveal the date column is of the object file type. We want to convert the file type to the datetime64 format so that rows can be selected between certain dates, i.e between seasons.</p>"
   ]
  },
  {
   "cell_type": "code",
   "execution_count": 206,
   "metadata": {},
   "outputs": [
    {
     "name": "stdout",
     "output_type": "stream",
     "text": [
      "<class 'pandas.core.frame.DataFrame'>\n",
      "Index: 365 entries, 1/06/2018 to 31/05/2019\n",
      "Data columns (total 3 columns):\n",
      "Max     365 non-null float64\n",
      "Min     365 non-null float64\n",
      "Rain    365 non-null float64\n",
      "dtypes: float64(3)\n",
      "memory usage: 11.4+ KB\n"
     ]
    },
    {
     "data": {
      "text/plain": [
       "<bound method Index.format of Index(['1/06/2018', '2/06/2018', '3/06/2018', '4/06/2018', '5/06/2018',\n",
       "       '6/06/2018', '7/06/2018', '8/06/2018', '9/06/2018', '10/06/2018',\n",
       "       ...\n",
       "       '22/05/2019', '23/05/2019', '24/05/2019', '25/05/2019', '26/05/2019',\n",
       "       '27/05/2019', '28/05/2019', '29/05/2019', '30/05/2019', '31/05/2019'],\n",
       "      dtype='object', name='Date', length=365)>"
      ]
     },
     "execution_count": 206,
     "metadata": {},
     "output_type": "execute_result"
    }
   ],
   "source": [
    "weather.info()\n",
    "weather.index.format"
   ]
  },
  {
   "cell_type": "markdown",
   "metadata": {},
   "source": [
    "<p>The Pandas method to_datetime can be used to convert the dates into the datetime64 format. Observe that the day appears at the front of the date, dd/mm/yyy - to ensure Pandas parses the dates correctly, the dayfirst attribute must be set to True. After this operation the date format can be seen to be datetime64.</p>"
   ]
  },
  {
   "cell_type": "code",
   "execution_count": 207,
   "metadata": {},
   "outputs": [
    {
     "name": "stdout",
     "output_type": "stream",
     "text": [
      "<bound method Index.format of DatetimeIndex(['2018-06-01', '2018-06-02', '2018-06-03', '2018-06-04',\n",
      "               '2018-06-05', '2018-06-06', '2018-06-07', '2018-06-08',\n",
      "               '2018-06-09', '2018-06-10',\n",
      "               ...\n",
      "               '2019-05-22', '2019-05-23', '2019-05-24', '2019-05-25',\n",
      "               '2019-05-26', '2019-05-27', '2019-05-28', '2019-05-29',\n",
      "               '2019-05-30', '2019-05-31'],\n",
      "              dtype='datetime64[ns]', name='Date', length=365, freq=None)>\n"
     ]
    },
    {
     "data": {
      "text/html": [
       "<div>\n",
       "<style scoped>\n",
       "    .dataframe tbody tr th:only-of-type {\n",
       "        vertical-align: middle;\n",
       "    }\n",
       "\n",
       "    .dataframe tbody tr th {\n",
       "        vertical-align: top;\n",
       "    }\n",
       "\n",
       "    .dataframe thead th {\n",
       "        text-align: right;\n",
       "    }\n",
       "</style>\n",
       "<table border=\"1\" class=\"dataframe\">\n",
       "  <thead>\n",
       "    <tr style=\"text-align: right;\">\n",
       "      <th></th>\n",
       "      <th>Max</th>\n",
       "      <th>Min</th>\n",
       "      <th>Rain</th>\n",
       "    </tr>\n",
       "    <tr>\n",
       "      <th>Date</th>\n",
       "      <th></th>\n",
       "      <th></th>\n",
       "      <th></th>\n",
       "    </tr>\n",
       "  </thead>\n",
       "  <tbody>\n",
       "    <tr>\n",
       "      <th>2018-06-01</th>\n",
       "      <td>17.7</td>\n",
       "      <td>4.0</td>\n",
       "      <td>0.0</td>\n",
       "    </tr>\n",
       "    <tr>\n",
       "      <th>2018-06-02</th>\n",
       "      <td>19.4</td>\n",
       "      <td>5.4</td>\n",
       "      <td>0.0</td>\n",
       "    </tr>\n",
       "    <tr>\n",
       "      <th>2018-06-03</th>\n",
       "      <td>17.2</td>\n",
       "      <td>4.2</td>\n",
       "      <td>0.0</td>\n",
       "    </tr>\n",
       "    <tr>\n",
       "      <th>2018-06-04</th>\n",
       "      <td>15.2</td>\n",
       "      <td>7.3</td>\n",
       "      <td>0.0</td>\n",
       "    </tr>\n",
       "    <tr>\n",
       "      <th>2018-06-05</th>\n",
       "      <td>15.6</td>\n",
       "      <td>3.9</td>\n",
       "      <td>0.0</td>\n",
       "    </tr>\n",
       "  </tbody>\n",
       "</table>\n",
       "</div>"
      ],
      "text/plain": [
       "             Max  Min  Rain\n",
       "Date                       \n",
       "2018-06-01  17.7  4.0   0.0\n",
       "2018-06-02  19.4  5.4   0.0\n",
       "2018-06-03  17.2  4.2   0.0\n",
       "2018-06-04  15.2  7.3   0.0\n",
       "2018-06-05  15.6  3.9   0.0"
      ]
     },
     "execution_count": 207,
     "metadata": {},
     "output_type": "execute_result"
    }
   ],
   "source": [
    "weather.index = pd.to_datetime(weather.index, dayfirst=True)\n",
    "print(weather.index.format)\n",
    "weather.head()"
   ]
  },
  {
   "cell_type": "markdown",
   "metadata": {},
   "source": [
    "<h3>Prepare data for plotting</h3>\n",
    "<p>The final result will plot a filled line bounded by the maximum and minimum temperatures of each day and divided by colour into the four seasons. To achieve this look, each season is plotted as individual sections:</p>\n",
    "<list>\n",
    "    <li>Winter: 1 June to 31 August</li>\n",
    "    <li>Sprint: 1 September to 30 November</li>\n",
    "    <li>Summer: 1 December to 28 February</li>\n",
    "    <li>Autumn: 1 March to 31 May</li>\n",
    "</list>\n",
    "<p>A day overlap is introduced to keep consistancy between each section of the plot.</p>\n",
    "<p>To get the filled line effect for each season, the plotted line must first make its way from the left to the right of the season, then move its way back from the right to the left. This is done so that the fill attribute 'toself' fills between the max and min line.</p>\n",
    "<p> The [::-1] range selector reverses the order of the list. This is used to place the reversed order list of minimum values on the end of the maximum values, so that when they are plotted they end up as once continuous line. This must also be done for the second half of the x values so that the max and mins position correctly. The result is shown in the output of the below cell.</p>\n",
    "   "
   ]
  },
  {
   "cell_type": "code",
   "execution_count": 209,
   "metadata": {},
   "outputs": [
    {
     "data": {
      "application/vnd.plotly.v1+json": {
       "config": {
        "linkText": "Export to plot.ly",
        "plotlyServerURL": "https://plot.ly",
        "showLink": false
       },
       "data": [
        {
         "fill": "none",
         "line": {
          "color": "blue"
         },
         "mode": "lines",
         "name": "Winter",
         "type": "scatter",
         "x": [
          "2018-06-01T00:00:00",
          "2018-06-02T00:00:00",
          "2018-06-03T00:00:00",
          "2018-06-04T00:00:00",
          "2018-06-05T00:00:00",
          "2018-06-06T00:00:00",
          "2018-06-07T00:00:00",
          "2018-06-08T00:00:00",
          "2018-06-09T00:00:00",
          "2018-06-10T00:00:00",
          "2018-06-11T00:00:00",
          "2018-06-12T00:00:00",
          "2018-06-13T00:00:00",
          "2018-06-14T00:00:00",
          "2018-06-15T00:00:00",
          "2018-06-16T00:00:00",
          "2018-06-17T00:00:00",
          "2018-06-18T00:00:00",
          "2018-06-19T00:00:00",
          "2018-06-20T00:00:00",
          "2018-06-21T00:00:00",
          "2018-06-22T00:00:00",
          "2018-06-23T00:00:00",
          "2018-06-24T00:00:00",
          "2018-06-25T00:00:00",
          "2018-06-26T00:00:00",
          "2018-06-27T00:00:00",
          "2018-06-28T00:00:00",
          "2018-06-29T00:00:00",
          "2018-06-30T00:00:00",
          "2018-07-01T00:00:00",
          "2018-07-02T00:00:00",
          "2018-07-03T00:00:00",
          "2018-07-04T00:00:00",
          "2018-07-05T00:00:00",
          "2018-07-06T00:00:00",
          "2018-07-07T00:00:00",
          "2018-07-08T00:00:00",
          "2018-07-09T00:00:00",
          "2018-07-10T00:00:00",
          "2018-07-11T00:00:00",
          "2018-07-12T00:00:00",
          "2018-07-13T00:00:00",
          "2018-07-14T00:00:00",
          "2018-07-15T00:00:00",
          "2018-07-16T00:00:00",
          "2018-07-17T00:00:00",
          "2018-07-18T00:00:00",
          "2018-07-19T00:00:00",
          "2018-07-20T00:00:00",
          "2018-07-21T00:00:00",
          "2018-07-22T00:00:00",
          "2018-07-23T00:00:00",
          "2018-07-24T00:00:00",
          "2018-07-25T00:00:00",
          "2018-07-26T00:00:00",
          "2018-07-27T00:00:00",
          "2018-07-28T00:00:00",
          "2018-07-29T00:00:00",
          "2018-07-30T00:00:00",
          "2018-07-31T00:00:00",
          "2018-08-01T00:00:00",
          "2018-08-02T00:00:00",
          "2018-08-03T00:00:00",
          "2018-08-04T00:00:00",
          "2018-08-05T00:00:00",
          "2018-08-06T00:00:00",
          "2018-08-07T00:00:00",
          "2018-08-08T00:00:00",
          "2018-08-09T00:00:00",
          "2018-08-10T00:00:00",
          "2018-08-11T00:00:00",
          "2018-08-12T00:00:00",
          "2018-08-13T00:00:00",
          "2018-08-14T00:00:00",
          "2018-08-15T00:00:00",
          "2018-08-16T00:00:00",
          "2018-08-17T00:00:00",
          "2018-08-18T00:00:00",
          "2018-08-19T00:00:00",
          "2018-08-20T00:00:00",
          "2018-08-21T00:00:00",
          "2018-08-22T00:00:00",
          "2018-08-23T00:00:00",
          "2018-08-24T00:00:00",
          "2018-08-25T00:00:00",
          "2018-08-26T00:00:00",
          "2018-08-27T00:00:00",
          "2018-08-28T00:00:00",
          "2018-08-29T00:00:00",
          "2018-08-30T00:00:00",
          "2018-08-31T00:00:00",
          "2018-09-01T00:00:00",
          "2018-09-01T00:00:00",
          "2018-08-31T00:00:00",
          "2018-08-30T00:00:00",
          "2018-08-29T00:00:00",
          "2018-08-28T00:00:00",
          "2018-08-27T00:00:00",
          "2018-08-26T00:00:00",
          "2018-08-25T00:00:00",
          "2018-08-24T00:00:00",
          "2018-08-23T00:00:00",
          "2018-08-22T00:00:00",
          "2018-08-21T00:00:00",
          "2018-08-20T00:00:00",
          "2018-08-19T00:00:00",
          "2018-08-18T00:00:00",
          "2018-08-17T00:00:00",
          "2018-08-16T00:00:00",
          "2018-08-15T00:00:00",
          "2018-08-14T00:00:00",
          "2018-08-13T00:00:00",
          "2018-08-12T00:00:00",
          "2018-08-11T00:00:00",
          "2018-08-10T00:00:00",
          "2018-08-09T00:00:00",
          "2018-08-08T00:00:00",
          "2018-08-07T00:00:00",
          "2018-08-06T00:00:00",
          "2018-08-05T00:00:00",
          "2018-08-04T00:00:00",
          "2018-08-03T00:00:00",
          "2018-08-02T00:00:00",
          "2018-08-01T00:00:00",
          "2018-07-31T00:00:00",
          "2018-07-30T00:00:00",
          "2018-07-29T00:00:00",
          "2018-07-28T00:00:00",
          "2018-07-27T00:00:00",
          "2018-07-26T00:00:00",
          "2018-07-25T00:00:00",
          "2018-07-24T00:00:00",
          "2018-07-23T00:00:00",
          "2018-07-22T00:00:00",
          "2018-07-21T00:00:00",
          "2018-07-20T00:00:00",
          "2018-07-19T00:00:00",
          "2018-07-18T00:00:00",
          "2018-07-17T00:00:00",
          "2018-07-16T00:00:00",
          "2018-07-15T00:00:00",
          "2018-07-14T00:00:00",
          "2018-07-13T00:00:00",
          "2018-07-12T00:00:00",
          "2018-07-11T00:00:00",
          "2018-07-10T00:00:00",
          "2018-07-09T00:00:00",
          "2018-07-08T00:00:00",
          "2018-07-07T00:00:00",
          "2018-07-06T00:00:00",
          "2018-07-05T00:00:00",
          "2018-07-04T00:00:00",
          "2018-07-03T00:00:00",
          "2018-07-02T00:00:00",
          "2018-07-01T00:00:00",
          "2018-06-30T00:00:00",
          "2018-06-29T00:00:00",
          "2018-06-28T00:00:00",
          "2018-06-27T00:00:00",
          "2018-06-26T00:00:00",
          "2018-06-25T00:00:00",
          "2018-06-24T00:00:00",
          "2018-06-23T00:00:00",
          "2018-06-22T00:00:00",
          "2018-06-21T00:00:00",
          "2018-06-20T00:00:00",
          "2018-06-19T00:00:00",
          "2018-06-18T00:00:00",
          "2018-06-17T00:00:00",
          "2018-06-16T00:00:00",
          "2018-06-15T00:00:00",
          "2018-06-14T00:00:00",
          "2018-06-13T00:00:00",
          "2018-06-12T00:00:00",
          "2018-06-11T00:00:00",
          "2018-06-10T00:00:00",
          "2018-06-09T00:00:00",
          "2018-06-08T00:00:00",
          "2018-06-07T00:00:00",
          "2018-06-06T00:00:00",
          "2018-06-05T00:00:00",
          "2018-06-04T00:00:00",
          "2018-06-03T00:00:00",
          "2018-06-02T00:00:00",
          "2018-06-01T00:00:00"
         ],
         "y": [
          17.7,
          19.4,
          17.2,
          15.2,
          15.6,
          18.6,
          18.3,
          15.2,
          16.6,
          20.1,
          20.7,
          15.2,
          15.7,
          16.2,
          15.3,
          13.4,
          14.2,
          12.7,
          13.6,
          14.9,
          14.6,
          15.7,
          16.2,
          15.4,
          13.5,
          14.1,
          13.2,
          14.2,
          14.9,
          14.5,
          15.4,
          16,
          18.7,
          18.2,
          17.1,
          14.2,
          14.3,
          14.9,
          13.8,
          13.8,
          14.1,
          14.3,
          14,
          16.6,
          16.1,
          16.8,
          14.8,
          17.1,
          12.3,
          13.4,
          15.7,
          17.9,
          18.7,
          16.4,
          16.2,
          19.6,
          20.8,
          15.5,
          13.7,
          16.1,
          15.9,
          16.9,
          22.9,
          14.3,
          17.9,
          15,
          13.2,
          14.4,
          15.5,
          19.1,
          16.8,
          12.4,
          14.8,
          14.7,
          18.2,
          15.7,
          14,
          16.2,
          13.7,
          13.9,
          13.6,
          15.4,
          21.4,
          21.1,
          21,
          16.3,
          15,
          15.8,
          19.9,
          26.3,
          20.4,
          15.4,
          15.3,
          10.4,
          10.6,
          19.2,
          13.1,
          7.7,
          7.2,
          4.5,
          5.2,
          13,
          11.9,
          5.2,
          8.3,
          5.3,
          9.8,
          9.8,
          7.2,
          6.9,
          11.5,
          6.6,
          10.3,
          7.6,
          8.1,
          13.1,
          10.1,
          11.2,
          8,
          8.1,
          12.3,
          9.9,
          9.2,
          9.6,
          9.3,
          11.4,
          10.1,
          9.3,
          6.4,
          13,
          8,
          11.2,
          11.5,
          11.2,
          9.5,
          7.2,
          8.6,
          6.1,
          5.7,
          12.1,
          10.4,
          5.8,
          4.2,
          3,
          7.4,
          4.3,
          4.6,
          9.8,
          10.4,
          8.9,
          9.3,
          13.1,
          11.3,
          8.9,
          3.8,
          2.9,
          10.1,
          6.8,
          2.2,
          2.5,
          2.7,
          2.8,
          5.2,
          3.2,
          2.8,
          6.4,
          7.9,
          6.6,
          5.4,
          8.5,
          10.4,
          10.3,
          11.4,
          9.9,
          12.7,
          13.2,
          8.6,
          12.2,
          12.5,
          12.2,
          5.2,
          3.9,
          7.3,
          4.2,
          5.4,
          4
         ]
        }
       ],
       "layout": {
        "template": {
         "data": {
          "bar": [
           {
            "error_x": {
             "color": "#2a3f5f"
            },
            "error_y": {
             "color": "#2a3f5f"
            },
            "marker": {
             "line": {
              "color": "#E5ECF6",
              "width": 0.5
             }
            },
            "type": "bar"
           }
          ],
          "barpolar": [
           {
            "marker": {
             "line": {
              "color": "#E5ECF6",
              "width": 0.5
             }
            },
            "type": "barpolar"
           }
          ],
          "carpet": [
           {
            "aaxis": {
             "endlinecolor": "#2a3f5f",
             "gridcolor": "white",
             "linecolor": "white",
             "minorgridcolor": "white",
             "startlinecolor": "#2a3f5f"
            },
            "baxis": {
             "endlinecolor": "#2a3f5f",
             "gridcolor": "white",
             "linecolor": "white",
             "minorgridcolor": "white",
             "startlinecolor": "#2a3f5f"
            },
            "type": "carpet"
           }
          ],
          "choropleth": [
           {
            "colorbar": {
             "outlinewidth": 0,
             "ticks": ""
            },
            "type": "choropleth"
           }
          ],
          "contour": [
           {
            "colorbar": {
             "outlinewidth": 0,
             "ticks": ""
            },
            "colorscale": [
             [
              0,
              "#0d0887"
             ],
             [
              0.1111111111111111,
              "#46039f"
             ],
             [
              0.2222222222222222,
              "#7201a8"
             ],
             [
              0.3333333333333333,
              "#9c179e"
             ],
             [
              0.4444444444444444,
              "#bd3786"
             ],
             [
              0.5555555555555556,
              "#d8576b"
             ],
             [
              0.6666666666666666,
              "#ed7953"
             ],
             [
              0.7777777777777778,
              "#fb9f3a"
             ],
             [
              0.8888888888888888,
              "#fdca26"
             ],
             [
              1,
              "#f0f921"
             ]
            ],
            "type": "contour"
           }
          ],
          "contourcarpet": [
           {
            "colorbar": {
             "outlinewidth": 0,
             "ticks": ""
            },
            "type": "contourcarpet"
           }
          ],
          "heatmap": [
           {
            "colorbar": {
             "outlinewidth": 0,
             "ticks": ""
            },
            "colorscale": [
             [
              0,
              "#0d0887"
             ],
             [
              0.1111111111111111,
              "#46039f"
             ],
             [
              0.2222222222222222,
              "#7201a8"
             ],
             [
              0.3333333333333333,
              "#9c179e"
             ],
             [
              0.4444444444444444,
              "#bd3786"
             ],
             [
              0.5555555555555556,
              "#d8576b"
             ],
             [
              0.6666666666666666,
              "#ed7953"
             ],
             [
              0.7777777777777778,
              "#fb9f3a"
             ],
             [
              0.8888888888888888,
              "#fdca26"
             ],
             [
              1,
              "#f0f921"
             ]
            ],
            "type": "heatmap"
           }
          ],
          "heatmapgl": [
           {
            "colorbar": {
             "outlinewidth": 0,
             "ticks": ""
            },
            "colorscale": [
             [
              0,
              "#0d0887"
             ],
             [
              0.1111111111111111,
              "#46039f"
             ],
             [
              0.2222222222222222,
              "#7201a8"
             ],
             [
              0.3333333333333333,
              "#9c179e"
             ],
             [
              0.4444444444444444,
              "#bd3786"
             ],
             [
              0.5555555555555556,
              "#d8576b"
             ],
             [
              0.6666666666666666,
              "#ed7953"
             ],
             [
              0.7777777777777778,
              "#fb9f3a"
             ],
             [
              0.8888888888888888,
              "#fdca26"
             ],
             [
              1,
              "#f0f921"
             ]
            ],
            "type": "heatmapgl"
           }
          ],
          "histogram": [
           {
            "marker": {
             "colorbar": {
              "outlinewidth": 0,
              "ticks": ""
             }
            },
            "type": "histogram"
           }
          ],
          "histogram2d": [
           {
            "colorbar": {
             "outlinewidth": 0,
             "ticks": ""
            },
            "colorscale": [
             [
              0,
              "#0d0887"
             ],
             [
              0.1111111111111111,
              "#46039f"
             ],
             [
              0.2222222222222222,
              "#7201a8"
             ],
             [
              0.3333333333333333,
              "#9c179e"
             ],
             [
              0.4444444444444444,
              "#bd3786"
             ],
             [
              0.5555555555555556,
              "#d8576b"
             ],
             [
              0.6666666666666666,
              "#ed7953"
             ],
             [
              0.7777777777777778,
              "#fb9f3a"
             ],
             [
              0.8888888888888888,
              "#fdca26"
             ],
             [
              1,
              "#f0f921"
             ]
            ],
            "type": "histogram2d"
           }
          ],
          "histogram2dcontour": [
           {
            "colorbar": {
             "outlinewidth": 0,
             "ticks": ""
            },
            "colorscale": [
             [
              0,
              "#0d0887"
             ],
             [
              0.1111111111111111,
              "#46039f"
             ],
             [
              0.2222222222222222,
              "#7201a8"
             ],
             [
              0.3333333333333333,
              "#9c179e"
             ],
             [
              0.4444444444444444,
              "#bd3786"
             ],
             [
              0.5555555555555556,
              "#d8576b"
             ],
             [
              0.6666666666666666,
              "#ed7953"
             ],
             [
              0.7777777777777778,
              "#fb9f3a"
             ],
             [
              0.8888888888888888,
              "#fdca26"
             ],
             [
              1,
              "#f0f921"
             ]
            ],
            "type": "histogram2dcontour"
           }
          ],
          "mesh3d": [
           {
            "colorbar": {
             "outlinewidth": 0,
             "ticks": ""
            },
            "type": "mesh3d"
           }
          ],
          "parcoords": [
           {
            "line": {
             "colorbar": {
              "outlinewidth": 0,
              "ticks": ""
             }
            },
            "type": "parcoords"
           }
          ],
          "scatter": [
           {
            "marker": {
             "colorbar": {
              "outlinewidth": 0,
              "ticks": ""
             }
            },
            "type": "scatter"
           }
          ],
          "scatter3d": [
           {
            "line": {
             "colorbar": {
              "outlinewidth": 0,
              "ticks": ""
             }
            },
            "marker": {
             "colorbar": {
              "outlinewidth": 0,
              "ticks": ""
             }
            },
            "type": "scatter3d"
           }
          ],
          "scattercarpet": [
           {
            "marker": {
             "colorbar": {
              "outlinewidth": 0,
              "ticks": ""
             }
            },
            "type": "scattercarpet"
           }
          ],
          "scattergeo": [
           {
            "marker": {
             "colorbar": {
              "outlinewidth": 0,
              "ticks": ""
             }
            },
            "type": "scattergeo"
           }
          ],
          "scattergl": [
           {
            "marker": {
             "colorbar": {
              "outlinewidth": 0,
              "ticks": ""
             }
            },
            "type": "scattergl"
           }
          ],
          "scattermapbox": [
           {
            "marker": {
             "colorbar": {
              "outlinewidth": 0,
              "ticks": ""
             }
            },
            "type": "scattermapbox"
           }
          ],
          "scatterpolar": [
           {
            "marker": {
             "colorbar": {
              "outlinewidth": 0,
              "ticks": ""
             }
            },
            "type": "scatterpolar"
           }
          ],
          "scatterpolargl": [
           {
            "marker": {
             "colorbar": {
              "outlinewidth": 0,
              "ticks": ""
             }
            },
            "type": "scatterpolargl"
           }
          ],
          "scatterternary": [
           {
            "marker": {
             "colorbar": {
              "outlinewidth": 0,
              "ticks": ""
             }
            },
            "type": "scatterternary"
           }
          ],
          "surface": [
           {
            "colorbar": {
             "outlinewidth": 0,
             "ticks": ""
            },
            "colorscale": [
             [
              0,
              "#0d0887"
             ],
             [
              0.1111111111111111,
              "#46039f"
             ],
             [
              0.2222222222222222,
              "#7201a8"
             ],
             [
              0.3333333333333333,
              "#9c179e"
             ],
             [
              0.4444444444444444,
              "#bd3786"
             ],
             [
              0.5555555555555556,
              "#d8576b"
             ],
             [
              0.6666666666666666,
              "#ed7953"
             ],
             [
              0.7777777777777778,
              "#fb9f3a"
             ],
             [
              0.8888888888888888,
              "#fdca26"
             ],
             [
              1,
              "#f0f921"
             ]
            ],
            "type": "surface"
           }
          ],
          "table": [
           {
            "cells": {
             "fill": {
              "color": "#EBF0F8"
             },
             "line": {
              "color": "white"
             }
            },
            "header": {
             "fill": {
              "color": "#C8D4E3"
             },
             "line": {
              "color": "white"
             }
            },
            "type": "table"
           }
          ]
         },
         "layout": {
          "annotationdefaults": {
           "arrowcolor": "#2a3f5f",
           "arrowhead": 0,
           "arrowwidth": 1
          },
          "colorscale": {
           "diverging": [
            [
             0,
             "#8e0152"
            ],
            [
             0.1,
             "#c51b7d"
            ],
            [
             0.2,
             "#de77ae"
            ],
            [
             0.3,
             "#f1b6da"
            ],
            [
             0.4,
             "#fde0ef"
            ],
            [
             0.5,
             "#f7f7f7"
            ],
            [
             0.6,
             "#e6f5d0"
            ],
            [
             0.7,
             "#b8e186"
            ],
            [
             0.8,
             "#7fbc41"
            ],
            [
             0.9,
             "#4d9221"
            ],
            [
             1,
             "#276419"
            ]
           ],
           "sequential": [
            [
             0,
             "#0d0887"
            ],
            [
             0.1111111111111111,
             "#46039f"
            ],
            [
             0.2222222222222222,
             "#7201a8"
            ],
            [
             0.3333333333333333,
             "#9c179e"
            ],
            [
             0.4444444444444444,
             "#bd3786"
            ],
            [
             0.5555555555555556,
             "#d8576b"
            ],
            [
             0.6666666666666666,
             "#ed7953"
            ],
            [
             0.7777777777777778,
             "#fb9f3a"
            ],
            [
             0.8888888888888888,
             "#fdca26"
            ],
            [
             1,
             "#f0f921"
            ]
           ],
           "sequentialminus": [
            [
             0,
             "#0d0887"
            ],
            [
             0.1111111111111111,
             "#46039f"
            ],
            [
             0.2222222222222222,
             "#7201a8"
            ],
            [
             0.3333333333333333,
             "#9c179e"
            ],
            [
             0.4444444444444444,
             "#bd3786"
            ],
            [
             0.5555555555555556,
             "#d8576b"
            ],
            [
             0.6666666666666666,
             "#ed7953"
            ],
            [
             0.7777777777777778,
             "#fb9f3a"
            ],
            [
             0.8888888888888888,
             "#fdca26"
            ],
            [
             1,
             "#f0f921"
            ]
           ]
          },
          "colorway": [
           "#636efa",
           "#EF553B",
           "#00cc96",
           "#ab63fa",
           "#FFA15A",
           "#19d3f3",
           "#FF6692",
           "#B6E880",
           "#FF97FF",
           "#FECB52"
          ],
          "font": {
           "color": "#2a3f5f"
          },
          "geo": {
           "bgcolor": "white",
           "lakecolor": "white",
           "landcolor": "#E5ECF6",
           "showlakes": true,
           "showland": true,
           "subunitcolor": "white"
          },
          "hoverlabel": {
           "align": "left"
          },
          "hovermode": "closest",
          "mapbox": {
           "style": "light"
          },
          "paper_bgcolor": "white",
          "plot_bgcolor": "#E5ECF6",
          "polar": {
           "angularaxis": {
            "gridcolor": "white",
            "linecolor": "white",
            "ticks": ""
           },
           "bgcolor": "#E5ECF6",
           "radialaxis": {
            "gridcolor": "white",
            "linecolor": "white",
            "ticks": ""
           }
          },
          "scene": {
           "xaxis": {
            "backgroundcolor": "#E5ECF6",
            "gridcolor": "white",
            "gridwidth": 2,
            "linecolor": "white",
            "showbackground": true,
            "ticks": "",
            "zerolinecolor": "white"
           },
           "yaxis": {
            "backgroundcolor": "#E5ECF6",
            "gridcolor": "white",
            "gridwidth": 2,
            "linecolor": "white",
            "showbackground": true,
            "ticks": "",
            "zerolinecolor": "white"
           },
           "zaxis": {
            "backgroundcolor": "#E5ECF6",
            "gridcolor": "white",
            "gridwidth": 2,
            "linecolor": "white",
            "showbackground": true,
            "ticks": "",
            "zerolinecolor": "white"
           }
          },
          "shapedefaults": {
           "line": {
            "color": "#2a3f5f"
           }
          },
          "ternary": {
           "aaxis": {
            "gridcolor": "white",
            "linecolor": "white",
            "ticks": ""
           },
           "baxis": {
            "gridcolor": "white",
            "linecolor": "white",
            "ticks": ""
           },
           "bgcolor": "#E5ECF6",
           "caxis": {
            "gridcolor": "white",
            "linecolor": "white",
            "ticks": ""
           }
          },
          "title": {
           "x": 0.05
          },
          "xaxis": {
           "automargin": true,
           "gridcolor": "white",
           "linecolor": "white",
           "ticks": "",
           "zerolinecolor": "white",
           "zerolinewidth": 2
          },
          "yaxis": {
           "automargin": true,
           "gridcolor": "white",
           "linecolor": "white",
           "ticks": "",
           "zerolinecolor": "white",
           "zerolinewidth": 2
          }
         }
        }
       }
      },
      "text/html": [
       "<div>\n",
       "        \n",
       "        \n",
       "            <div id=\"ecb40ba2-8cf3-4a41-b071-e01085079008\" class=\"plotly-graph-div\" style=\"height:525px; width:100%;\"></div>\n",
       "            <script type=\"text/javascript\">\n",
       "                require([\"plotly\"], function(Plotly) {\n",
       "                    window.PLOTLYENV=window.PLOTLYENV || {};\n",
       "                    \n",
       "                if (document.getElementById(\"ecb40ba2-8cf3-4a41-b071-e01085079008\")) {\n",
       "                    Plotly.newPlot(\n",
       "                        'ecb40ba2-8cf3-4a41-b071-e01085079008',\n",
       "                        [{\"fill\": \"none\", \"line\": {\"color\": \"blue\"}, \"mode\": \"lines\", \"name\": \"Winter\", \"type\": \"scatter\", \"x\": [\"2018-06-01T00:00:00\", \"2018-06-02T00:00:00\", \"2018-06-03T00:00:00\", \"2018-06-04T00:00:00\", \"2018-06-05T00:00:00\", \"2018-06-06T00:00:00\", \"2018-06-07T00:00:00\", \"2018-06-08T00:00:00\", \"2018-06-09T00:00:00\", \"2018-06-10T00:00:00\", \"2018-06-11T00:00:00\", \"2018-06-12T00:00:00\", \"2018-06-13T00:00:00\", \"2018-06-14T00:00:00\", \"2018-06-15T00:00:00\", \"2018-06-16T00:00:00\", \"2018-06-17T00:00:00\", \"2018-06-18T00:00:00\", \"2018-06-19T00:00:00\", \"2018-06-20T00:00:00\", \"2018-06-21T00:00:00\", \"2018-06-22T00:00:00\", \"2018-06-23T00:00:00\", \"2018-06-24T00:00:00\", \"2018-06-25T00:00:00\", \"2018-06-26T00:00:00\", \"2018-06-27T00:00:00\", \"2018-06-28T00:00:00\", \"2018-06-29T00:00:00\", \"2018-06-30T00:00:00\", \"2018-07-01T00:00:00\", \"2018-07-02T00:00:00\", \"2018-07-03T00:00:00\", \"2018-07-04T00:00:00\", \"2018-07-05T00:00:00\", \"2018-07-06T00:00:00\", \"2018-07-07T00:00:00\", \"2018-07-08T00:00:00\", \"2018-07-09T00:00:00\", \"2018-07-10T00:00:00\", \"2018-07-11T00:00:00\", \"2018-07-12T00:00:00\", \"2018-07-13T00:00:00\", \"2018-07-14T00:00:00\", \"2018-07-15T00:00:00\", \"2018-07-16T00:00:00\", \"2018-07-17T00:00:00\", \"2018-07-18T00:00:00\", \"2018-07-19T00:00:00\", \"2018-07-20T00:00:00\", \"2018-07-21T00:00:00\", \"2018-07-22T00:00:00\", \"2018-07-23T00:00:00\", \"2018-07-24T00:00:00\", \"2018-07-25T00:00:00\", \"2018-07-26T00:00:00\", \"2018-07-27T00:00:00\", \"2018-07-28T00:00:00\", \"2018-07-29T00:00:00\", \"2018-07-30T00:00:00\", \"2018-07-31T00:00:00\", \"2018-08-01T00:00:00\", \"2018-08-02T00:00:00\", \"2018-08-03T00:00:00\", \"2018-08-04T00:00:00\", \"2018-08-05T00:00:00\", \"2018-08-06T00:00:00\", \"2018-08-07T00:00:00\", \"2018-08-08T00:00:00\", \"2018-08-09T00:00:00\", \"2018-08-10T00:00:00\", \"2018-08-11T00:00:00\", \"2018-08-12T00:00:00\", \"2018-08-13T00:00:00\", \"2018-08-14T00:00:00\", \"2018-08-15T00:00:00\", \"2018-08-16T00:00:00\", \"2018-08-17T00:00:00\", \"2018-08-18T00:00:00\", \"2018-08-19T00:00:00\", \"2018-08-20T00:00:00\", \"2018-08-21T00:00:00\", \"2018-08-22T00:00:00\", \"2018-08-23T00:00:00\", \"2018-08-24T00:00:00\", \"2018-08-25T00:00:00\", \"2018-08-26T00:00:00\", \"2018-08-27T00:00:00\", \"2018-08-28T00:00:00\", \"2018-08-29T00:00:00\", \"2018-08-30T00:00:00\", \"2018-08-31T00:00:00\", \"2018-09-01T00:00:00\", \"2018-09-01T00:00:00\", \"2018-08-31T00:00:00\", \"2018-08-30T00:00:00\", \"2018-08-29T00:00:00\", \"2018-08-28T00:00:00\", \"2018-08-27T00:00:00\", \"2018-08-26T00:00:00\", \"2018-08-25T00:00:00\", \"2018-08-24T00:00:00\", \"2018-08-23T00:00:00\", \"2018-08-22T00:00:00\", \"2018-08-21T00:00:00\", \"2018-08-20T00:00:00\", \"2018-08-19T00:00:00\", \"2018-08-18T00:00:00\", \"2018-08-17T00:00:00\", \"2018-08-16T00:00:00\", \"2018-08-15T00:00:00\", \"2018-08-14T00:00:00\", \"2018-08-13T00:00:00\", \"2018-08-12T00:00:00\", \"2018-08-11T00:00:00\", \"2018-08-10T00:00:00\", \"2018-08-09T00:00:00\", \"2018-08-08T00:00:00\", \"2018-08-07T00:00:00\", \"2018-08-06T00:00:00\", \"2018-08-05T00:00:00\", \"2018-08-04T00:00:00\", \"2018-08-03T00:00:00\", \"2018-08-02T00:00:00\", \"2018-08-01T00:00:00\", \"2018-07-31T00:00:00\", \"2018-07-30T00:00:00\", \"2018-07-29T00:00:00\", \"2018-07-28T00:00:00\", \"2018-07-27T00:00:00\", \"2018-07-26T00:00:00\", \"2018-07-25T00:00:00\", \"2018-07-24T00:00:00\", \"2018-07-23T00:00:00\", \"2018-07-22T00:00:00\", \"2018-07-21T00:00:00\", \"2018-07-20T00:00:00\", \"2018-07-19T00:00:00\", \"2018-07-18T00:00:00\", \"2018-07-17T00:00:00\", \"2018-07-16T00:00:00\", \"2018-07-15T00:00:00\", \"2018-07-14T00:00:00\", \"2018-07-13T00:00:00\", \"2018-07-12T00:00:00\", \"2018-07-11T00:00:00\", \"2018-07-10T00:00:00\", \"2018-07-09T00:00:00\", \"2018-07-08T00:00:00\", \"2018-07-07T00:00:00\", \"2018-07-06T00:00:00\", \"2018-07-05T00:00:00\", \"2018-07-04T00:00:00\", \"2018-07-03T00:00:00\", \"2018-07-02T00:00:00\", \"2018-07-01T00:00:00\", \"2018-06-30T00:00:00\", \"2018-06-29T00:00:00\", \"2018-06-28T00:00:00\", \"2018-06-27T00:00:00\", \"2018-06-26T00:00:00\", \"2018-06-25T00:00:00\", \"2018-06-24T00:00:00\", \"2018-06-23T00:00:00\", \"2018-06-22T00:00:00\", \"2018-06-21T00:00:00\", \"2018-06-20T00:00:00\", \"2018-06-19T00:00:00\", \"2018-06-18T00:00:00\", \"2018-06-17T00:00:00\", \"2018-06-16T00:00:00\", \"2018-06-15T00:00:00\", \"2018-06-14T00:00:00\", \"2018-06-13T00:00:00\", \"2018-06-12T00:00:00\", \"2018-06-11T00:00:00\", \"2018-06-10T00:00:00\", \"2018-06-09T00:00:00\", \"2018-06-08T00:00:00\", \"2018-06-07T00:00:00\", \"2018-06-06T00:00:00\", \"2018-06-05T00:00:00\", \"2018-06-04T00:00:00\", \"2018-06-03T00:00:00\", \"2018-06-02T00:00:00\", \"2018-06-01T00:00:00\"], \"y\": [17.7, 19.4, 17.2, 15.2, 15.6, 18.6, 18.3, 15.2, 16.6, 20.1, 20.7, 15.2, 15.7, 16.2, 15.3, 13.4, 14.2, 12.7, 13.6, 14.9, 14.6, 15.7, 16.2, 15.4, 13.5, 14.1, 13.2, 14.2, 14.9, 14.5, 15.4, 16.0, 18.7, 18.2, 17.1, 14.2, 14.3, 14.9, 13.8, 13.8, 14.1, 14.3, 14.0, 16.6, 16.1, 16.8, 14.8, 17.1, 12.3, 13.4, 15.7, 17.9, 18.7, 16.4, 16.2, 19.6, 20.8, 15.5, 13.7, 16.1, 15.9, 16.9, 22.9, 14.3, 17.9, 15.0, 13.2, 14.4, 15.5, 19.1, 16.8, 12.4, 14.8, 14.7, 18.2, 15.7, 14.0, 16.2, 13.7, 13.9, 13.6, 15.4, 21.4, 21.1, 21.0, 16.3, 15.0, 15.8, 19.9, 26.3, 20.4, 15.4, 15.3, 10.4, 10.6, 19.2, 13.1, 7.7, 7.2, 4.5, 5.2, 13.0, 11.9, 5.2, 8.3, 5.3, 9.8, 9.8, 7.2, 6.9, 11.5, 6.6, 10.3, 7.6, 8.1, 13.1, 10.1, 11.2, 8.0, 8.1, 12.3, 9.9, 9.2, 9.6, 9.3, 11.4, 10.1, 9.3, 6.4, 13.0, 8.0, 11.2, 11.5, 11.2, 9.5, 7.2, 8.6, 6.1, 5.7, 12.1, 10.4, 5.8, 4.2, 3.0, 7.4, 4.3, 4.6, 9.8, 10.4, 8.9, 9.3, 13.1, 11.3, 8.9, 3.8, 2.9, 10.1, 6.8, 2.2, 2.5, 2.7, 2.8, 5.2, 3.2, 2.8, 6.4, 7.9, 6.6, 5.4, 8.5, 10.4, 10.3, 11.4, 9.9, 12.7, 13.2, 8.6, 12.2, 12.5, 12.2, 5.2, 3.9, 7.3, 4.2, 5.4, 4.0]}],\n",
       "                        {\"template\": {\"data\": {\"bar\": [{\"error_x\": {\"color\": \"#2a3f5f\"}, \"error_y\": {\"color\": \"#2a3f5f\"}, \"marker\": {\"line\": {\"color\": \"#E5ECF6\", \"width\": 0.5}}, \"type\": \"bar\"}], \"barpolar\": [{\"marker\": {\"line\": {\"color\": \"#E5ECF6\", \"width\": 0.5}}, \"type\": \"barpolar\"}], \"carpet\": [{\"aaxis\": {\"endlinecolor\": \"#2a3f5f\", \"gridcolor\": \"white\", \"linecolor\": \"white\", \"minorgridcolor\": \"white\", \"startlinecolor\": \"#2a3f5f\"}, \"baxis\": {\"endlinecolor\": \"#2a3f5f\", \"gridcolor\": \"white\", \"linecolor\": \"white\", \"minorgridcolor\": \"white\", \"startlinecolor\": \"#2a3f5f\"}, \"type\": \"carpet\"}], \"choropleth\": [{\"colorbar\": {\"outlinewidth\": 0, \"ticks\": \"\"}, \"type\": \"choropleth\"}], \"contour\": [{\"colorbar\": {\"outlinewidth\": 0, \"ticks\": \"\"}, \"colorscale\": [[0.0, \"#0d0887\"], [0.1111111111111111, \"#46039f\"], [0.2222222222222222, \"#7201a8\"], [0.3333333333333333, \"#9c179e\"], [0.4444444444444444, \"#bd3786\"], [0.5555555555555556, \"#d8576b\"], [0.6666666666666666, \"#ed7953\"], [0.7777777777777778, \"#fb9f3a\"], [0.8888888888888888, \"#fdca26\"], [1.0, \"#f0f921\"]], \"type\": \"contour\"}], \"contourcarpet\": [{\"colorbar\": {\"outlinewidth\": 0, \"ticks\": \"\"}, \"type\": \"contourcarpet\"}], \"heatmap\": [{\"colorbar\": {\"outlinewidth\": 0, \"ticks\": \"\"}, \"colorscale\": [[0.0, \"#0d0887\"], [0.1111111111111111, \"#46039f\"], [0.2222222222222222, \"#7201a8\"], [0.3333333333333333, \"#9c179e\"], [0.4444444444444444, \"#bd3786\"], [0.5555555555555556, \"#d8576b\"], [0.6666666666666666, \"#ed7953\"], [0.7777777777777778, \"#fb9f3a\"], [0.8888888888888888, \"#fdca26\"], [1.0, \"#f0f921\"]], \"type\": \"heatmap\"}], \"heatmapgl\": [{\"colorbar\": {\"outlinewidth\": 0, \"ticks\": \"\"}, \"colorscale\": [[0.0, \"#0d0887\"], [0.1111111111111111, \"#46039f\"], [0.2222222222222222, \"#7201a8\"], [0.3333333333333333, \"#9c179e\"], [0.4444444444444444, \"#bd3786\"], [0.5555555555555556, \"#d8576b\"], [0.6666666666666666, \"#ed7953\"], [0.7777777777777778, \"#fb9f3a\"], [0.8888888888888888, \"#fdca26\"], [1.0, \"#f0f921\"]], \"type\": \"heatmapgl\"}], \"histogram\": [{\"marker\": {\"colorbar\": {\"outlinewidth\": 0, \"ticks\": \"\"}}, \"type\": \"histogram\"}], \"histogram2d\": [{\"colorbar\": {\"outlinewidth\": 0, \"ticks\": \"\"}, \"colorscale\": [[0.0, \"#0d0887\"], [0.1111111111111111, \"#46039f\"], [0.2222222222222222, \"#7201a8\"], [0.3333333333333333, \"#9c179e\"], [0.4444444444444444, \"#bd3786\"], [0.5555555555555556, \"#d8576b\"], [0.6666666666666666, \"#ed7953\"], [0.7777777777777778, \"#fb9f3a\"], [0.8888888888888888, \"#fdca26\"], [1.0, \"#f0f921\"]], \"type\": \"histogram2d\"}], \"histogram2dcontour\": [{\"colorbar\": {\"outlinewidth\": 0, \"ticks\": \"\"}, \"colorscale\": [[0.0, \"#0d0887\"], [0.1111111111111111, \"#46039f\"], [0.2222222222222222, \"#7201a8\"], [0.3333333333333333, \"#9c179e\"], [0.4444444444444444, \"#bd3786\"], [0.5555555555555556, \"#d8576b\"], [0.6666666666666666, \"#ed7953\"], [0.7777777777777778, \"#fb9f3a\"], [0.8888888888888888, \"#fdca26\"], [1.0, \"#f0f921\"]], \"type\": \"histogram2dcontour\"}], \"mesh3d\": [{\"colorbar\": {\"outlinewidth\": 0, \"ticks\": \"\"}, \"type\": \"mesh3d\"}], \"parcoords\": [{\"line\": {\"colorbar\": {\"outlinewidth\": 0, \"ticks\": \"\"}}, \"type\": \"parcoords\"}], \"scatter\": [{\"marker\": {\"colorbar\": {\"outlinewidth\": 0, \"ticks\": \"\"}}, \"type\": \"scatter\"}], \"scatter3d\": [{\"line\": {\"colorbar\": {\"outlinewidth\": 0, \"ticks\": \"\"}}, \"marker\": {\"colorbar\": {\"outlinewidth\": 0, \"ticks\": \"\"}}, \"type\": \"scatter3d\"}], \"scattercarpet\": [{\"marker\": {\"colorbar\": {\"outlinewidth\": 0, \"ticks\": \"\"}}, \"type\": \"scattercarpet\"}], \"scattergeo\": [{\"marker\": {\"colorbar\": {\"outlinewidth\": 0, \"ticks\": \"\"}}, \"type\": \"scattergeo\"}], \"scattergl\": [{\"marker\": {\"colorbar\": {\"outlinewidth\": 0, \"ticks\": \"\"}}, \"type\": \"scattergl\"}], \"scattermapbox\": [{\"marker\": {\"colorbar\": {\"outlinewidth\": 0, \"ticks\": \"\"}}, \"type\": \"scattermapbox\"}], \"scatterpolar\": [{\"marker\": {\"colorbar\": {\"outlinewidth\": 0, \"ticks\": \"\"}}, \"type\": \"scatterpolar\"}], \"scatterpolargl\": [{\"marker\": {\"colorbar\": {\"outlinewidth\": 0, \"ticks\": \"\"}}, \"type\": \"scatterpolargl\"}], \"scatterternary\": [{\"marker\": {\"colorbar\": {\"outlinewidth\": 0, \"ticks\": \"\"}}, \"type\": \"scatterternary\"}], \"surface\": [{\"colorbar\": {\"outlinewidth\": 0, \"ticks\": \"\"}, \"colorscale\": [[0.0, \"#0d0887\"], [0.1111111111111111, \"#46039f\"], [0.2222222222222222, \"#7201a8\"], [0.3333333333333333, \"#9c179e\"], [0.4444444444444444, \"#bd3786\"], [0.5555555555555556, \"#d8576b\"], [0.6666666666666666, \"#ed7953\"], [0.7777777777777778, \"#fb9f3a\"], [0.8888888888888888, \"#fdca26\"], [1.0, \"#f0f921\"]], \"type\": \"surface\"}], \"table\": [{\"cells\": {\"fill\": {\"color\": \"#EBF0F8\"}, \"line\": {\"color\": \"white\"}}, \"header\": {\"fill\": {\"color\": \"#C8D4E3\"}, \"line\": {\"color\": \"white\"}}, \"type\": \"table\"}]}, \"layout\": {\"annotationdefaults\": {\"arrowcolor\": \"#2a3f5f\", \"arrowhead\": 0, \"arrowwidth\": 1}, \"colorscale\": {\"diverging\": [[0, \"#8e0152\"], [0.1, \"#c51b7d\"], [0.2, \"#de77ae\"], [0.3, \"#f1b6da\"], [0.4, \"#fde0ef\"], [0.5, \"#f7f7f7\"], [0.6, \"#e6f5d0\"], [0.7, \"#b8e186\"], [0.8, \"#7fbc41\"], [0.9, \"#4d9221\"], [1, \"#276419\"]], \"sequential\": [[0.0, \"#0d0887\"], [0.1111111111111111, \"#46039f\"], [0.2222222222222222, \"#7201a8\"], [0.3333333333333333, \"#9c179e\"], [0.4444444444444444, \"#bd3786\"], [0.5555555555555556, \"#d8576b\"], [0.6666666666666666, \"#ed7953\"], [0.7777777777777778, \"#fb9f3a\"], [0.8888888888888888, \"#fdca26\"], [1.0, \"#f0f921\"]], \"sequentialminus\": [[0.0, \"#0d0887\"], [0.1111111111111111, \"#46039f\"], [0.2222222222222222, \"#7201a8\"], [0.3333333333333333, \"#9c179e\"], [0.4444444444444444, \"#bd3786\"], [0.5555555555555556, \"#d8576b\"], [0.6666666666666666, \"#ed7953\"], [0.7777777777777778, \"#fb9f3a\"], [0.8888888888888888, \"#fdca26\"], [1.0, \"#f0f921\"]]}, \"colorway\": [\"#636efa\", \"#EF553B\", \"#00cc96\", \"#ab63fa\", \"#FFA15A\", \"#19d3f3\", \"#FF6692\", \"#B6E880\", \"#FF97FF\", \"#FECB52\"], \"font\": {\"color\": \"#2a3f5f\"}, \"geo\": {\"bgcolor\": \"white\", \"lakecolor\": \"white\", \"landcolor\": \"#E5ECF6\", \"showlakes\": true, \"showland\": true, \"subunitcolor\": \"white\"}, \"hoverlabel\": {\"align\": \"left\"}, \"hovermode\": \"closest\", \"mapbox\": {\"style\": \"light\"}, \"paper_bgcolor\": \"white\", \"plot_bgcolor\": \"#E5ECF6\", \"polar\": {\"angularaxis\": {\"gridcolor\": \"white\", \"linecolor\": \"white\", \"ticks\": \"\"}, \"bgcolor\": \"#E5ECF6\", \"radialaxis\": {\"gridcolor\": \"white\", \"linecolor\": \"white\", \"ticks\": \"\"}}, \"scene\": {\"xaxis\": {\"backgroundcolor\": \"#E5ECF6\", \"gridcolor\": \"white\", \"gridwidth\": 2, \"linecolor\": \"white\", \"showbackground\": true, \"ticks\": \"\", \"zerolinecolor\": \"white\"}, \"yaxis\": {\"backgroundcolor\": \"#E5ECF6\", \"gridcolor\": \"white\", \"gridwidth\": 2, \"linecolor\": \"white\", \"showbackground\": true, \"ticks\": \"\", \"zerolinecolor\": \"white\"}, \"zaxis\": {\"backgroundcolor\": \"#E5ECF6\", \"gridcolor\": \"white\", \"gridwidth\": 2, \"linecolor\": \"white\", \"showbackground\": true, \"ticks\": \"\", \"zerolinecolor\": \"white\"}}, \"shapedefaults\": {\"line\": {\"color\": \"#2a3f5f\"}}, \"ternary\": {\"aaxis\": {\"gridcolor\": \"white\", \"linecolor\": \"white\", \"ticks\": \"\"}, \"baxis\": {\"gridcolor\": \"white\", \"linecolor\": \"white\", \"ticks\": \"\"}, \"bgcolor\": \"#E5ECF6\", \"caxis\": {\"gridcolor\": \"white\", \"linecolor\": \"white\", \"ticks\": \"\"}}, \"title\": {\"x\": 0.05}, \"xaxis\": {\"automargin\": true, \"gridcolor\": \"white\", \"linecolor\": \"white\", \"ticks\": \"\", \"zerolinecolor\": \"white\", \"zerolinewidth\": 2}, \"yaxis\": {\"automargin\": true, \"gridcolor\": \"white\", \"linecolor\": \"white\", \"ticks\": \"\", \"zerolinecolor\": \"white\", \"zerolinewidth\": 2}}}},\n",
       "                        {\"responsive\": true}\n",
       "                    ).then(function(){\n",
       "                            \n",
       "var gd = document.getElementById('ecb40ba2-8cf3-4a41-b071-e01085079008');\n",
       "var x = new MutationObserver(function (mutations, observer) {{\n",
       "        var display = window.getComputedStyle(gd).display;\n",
       "        if (!display || display === 'none') {{\n",
       "            console.log([gd, 'removed!']);\n",
       "            Plotly.purge(gd);\n",
       "            observer.disconnect();\n",
       "        }}\n",
       "}});\n",
       "\n",
       "// Listen for the removal of the full notebook cells\n",
       "var notebookContainer = gd.closest('#notebook-container');\n",
       "if (notebookContainer) {{\n",
       "    x.observe(notebookContainer, {childList: true});\n",
       "}}\n",
       "\n",
       "// Listen for the clearing of the current output cell\n",
       "var outputEl = gd.closest('.output');\n",
       "if (outputEl) {{\n",
       "    x.observe(outputEl, {childList: true});\n",
       "}}\n",
       "\n",
       "                        })\n",
       "                };\n",
       "                });\n",
       "            </script>\n",
       "        </div>"
      ]
     },
     "metadata": {},
     "output_type": "display_data"
    }
   ],
   "source": [
    "winter_max = weather.loc['2018-06-01':'2018-09-01'].Max.tolist()\n",
    "winter_min = weather.loc['2018-06-01':'2018-09-01'].Min.tolist()\n",
    "winter_x = weather.loc['2018-06-01':'2018-09-01'].index.tolist()\n",
    "\n",
    "winter_temp = winter_max + winter_min[::-1]\n",
    "winter_x = winter_x + winter_x[::-1]\n",
    "\n",
    "fig = go.Figure()\n",
    "\n",
    "fig.add_trace(go.Scatter(x=winter_x, y=winter_temp,\n",
    "    fill='none',\n",
    "    mode='lines',\n",
    "    line_color='blue',\n",
    "    name='Winter'\n",
    "    ))\n",
    "\n",
    "py.offline.iplot(fig)\n"
   ]
  },
  {
   "cell_type": "markdown",
   "metadata": {},
   "source": [
    "<p>The same process is carried out for the remainder of the seasons. The rain data is not broken down into seasons and is plotted as one continuous line.</p>"
   ]
  },
  {
   "cell_type": "code",
   "execution_count": null,
   "metadata": {},
   "outputs": [],
   "source": [
    "spring_max = weather.loc['2018-09-01':'2018-12-01'].Max.tolist()\n",
    "spring_min = weather.loc['2018-09-01':'2018-12-01'].Min.tolist()\n",
    "spring_x = weather.loc['2018-09-01':'2018-12-01'].index.tolist()\n",
    "\n",
    "spring_temp = spring_max + spring_min[::-1]\n",
    "spring_x = spring_x + spring_x[::-1]\n",
    "\n",
    "\n",
    "summer_max = weather.loc['2018-12-01':'2019-03-01'].Max.tolist()\n",
    "summer_min = weather.loc['2018-12-01':'2019-03-01'].Min.tolist()\n",
    "summer_x = weather.loc['2018-12-01':'2019-03-01'].index.tolist()\n",
    "\n",
    "summer_temp = summer_max + summer_min[::-1]\n",
    "summer_x = summer_x + summer_x[::-1]\n",
    "\n",
    "\n",
    "autumn_max = weather.loc['2019-03-01':'2019-06-01'].Max.tolist()\n",
    "autumn_min = weather.loc['2019-03-01':'2019-06-01'].Min.tolist()\n",
    "autumn_x = weather.loc['2019-03-01':'2019-06-01'].index.tolist()\n",
    "\n",
    "autumn_temp = autumn_max + autumn_min[::-1]\n",
    "autumn_x = autumn_x + autumn_x[::-1]\n",
    "\n",
    "\n",
    "rain = weather.Rain.tolist()\n",
    "rain_x = weather.index.tolist()"
   ]
  },
  {
   "cell_type": "markdown",
   "metadata": {},
   "source": [
    "<h3>Generate final plot</h3>\n",
    "<p>The plot is generated as subplots that share the same y axis (date). The figure is set up as a subplot of 4 rows and 1 column, with the specs attribute set to make the temperature plot bigger by taking up 3 row positions. The fill attribute of each trace is set to 'toself' this time and coloured for the season.</p>"
   ]
  },
  {
   "cell_type": "code",
   "execution_count": 196,
   "metadata": {},
   "outputs": [
    {
     "data": {
      "text/html": [
       "        <script type=\"text/javascript\">\n",
       "        window.PlotlyConfig = {MathJaxConfig: 'local'};\n",
       "        if (window.MathJax) {MathJax.Hub.Config({SVG: {font: \"STIX-Web\"}});}\n",
       "        if (typeof require !== 'undefined') {\n",
       "        require.undef(\"plotly\");\n",
       "        requirejs.config({\n",
       "            paths: {\n",
       "                'plotly': ['https://cdn.plot.ly/plotly-latest.min']\n",
       "            }\n",
       "        });\n",
       "        require(['plotly'], function(Plotly) {\n",
       "            window._Plotly = Plotly;\n",
       "        });\n",
       "        }\n",
       "        </script>\n",
       "        "
      ]
     },
     "metadata": {},
     "output_type": "display_data"
    },
    {
     "data": {
      "application/vnd.plotly.v1+json": {
       "config": {
        "linkText": "Export to plot.ly",
        "plotlyServerURL": "https://plot.ly",
        "showLink": false
       },
       "data": [
        {
         "fill": "toself",
         "line": {
          "color": "blue"
         },
         "mode": "lines",
         "name": "Winter",
         "type": "scatter",
         "x": [
          "2018-06-01T00:00:00",
          "2018-06-02T00:00:00",
          "2018-06-03T00:00:00",
          "2018-06-04T00:00:00",
          "2018-06-05T00:00:00",
          "2018-06-06T00:00:00",
          "2018-06-07T00:00:00",
          "2018-06-08T00:00:00",
          "2018-06-09T00:00:00",
          "2018-06-10T00:00:00",
          "2018-06-11T00:00:00",
          "2018-06-12T00:00:00",
          "2018-06-13T00:00:00",
          "2018-06-14T00:00:00",
          "2018-06-15T00:00:00",
          "2018-06-16T00:00:00",
          "2018-06-17T00:00:00",
          "2018-06-18T00:00:00",
          "2018-06-19T00:00:00",
          "2018-06-20T00:00:00",
          "2018-06-21T00:00:00",
          "2018-06-22T00:00:00",
          "2018-06-23T00:00:00",
          "2018-06-24T00:00:00",
          "2018-06-25T00:00:00",
          "2018-06-26T00:00:00",
          "2018-06-27T00:00:00",
          "2018-06-28T00:00:00",
          "2018-06-29T00:00:00",
          "2018-06-30T00:00:00",
          "2018-07-01T00:00:00",
          "2018-07-02T00:00:00",
          "2018-07-03T00:00:00",
          "2018-07-04T00:00:00",
          "2018-07-05T00:00:00",
          "2018-07-06T00:00:00",
          "2018-07-07T00:00:00",
          "2018-07-08T00:00:00",
          "2018-07-09T00:00:00",
          "2018-07-10T00:00:00",
          "2018-07-11T00:00:00",
          "2018-07-12T00:00:00",
          "2018-07-13T00:00:00",
          "2018-07-14T00:00:00",
          "2018-07-15T00:00:00",
          "2018-07-16T00:00:00",
          "2018-07-17T00:00:00",
          "2018-07-18T00:00:00",
          "2018-07-19T00:00:00",
          "2018-07-20T00:00:00",
          "2018-07-21T00:00:00",
          "2018-07-22T00:00:00",
          "2018-07-23T00:00:00",
          "2018-07-24T00:00:00",
          "2018-07-25T00:00:00",
          "2018-07-26T00:00:00",
          "2018-07-27T00:00:00",
          "2018-07-28T00:00:00",
          "2018-07-29T00:00:00",
          "2018-07-30T00:00:00",
          "2018-07-31T00:00:00",
          "2018-08-01T00:00:00",
          "2018-08-02T00:00:00",
          "2018-08-03T00:00:00",
          "2018-08-04T00:00:00",
          "2018-08-05T00:00:00",
          "2018-08-06T00:00:00",
          "2018-08-07T00:00:00",
          "2018-08-08T00:00:00",
          "2018-08-09T00:00:00",
          "2018-08-10T00:00:00",
          "2018-08-11T00:00:00",
          "2018-08-12T00:00:00",
          "2018-08-13T00:00:00",
          "2018-08-14T00:00:00",
          "2018-08-15T00:00:00",
          "2018-08-16T00:00:00",
          "2018-08-17T00:00:00",
          "2018-08-18T00:00:00",
          "2018-08-19T00:00:00",
          "2018-08-20T00:00:00",
          "2018-08-21T00:00:00",
          "2018-08-22T00:00:00",
          "2018-08-23T00:00:00",
          "2018-08-24T00:00:00",
          "2018-08-25T00:00:00",
          "2018-08-26T00:00:00",
          "2018-08-27T00:00:00",
          "2018-08-28T00:00:00",
          "2018-08-29T00:00:00",
          "2018-08-30T00:00:00",
          "2018-08-31T00:00:00",
          "2018-09-01T00:00:00",
          "2018-09-01T00:00:00",
          "2018-08-31T00:00:00",
          "2018-08-30T00:00:00",
          "2018-08-29T00:00:00",
          "2018-08-28T00:00:00",
          "2018-08-27T00:00:00",
          "2018-08-26T00:00:00",
          "2018-08-25T00:00:00",
          "2018-08-24T00:00:00",
          "2018-08-23T00:00:00",
          "2018-08-22T00:00:00",
          "2018-08-21T00:00:00",
          "2018-08-20T00:00:00",
          "2018-08-19T00:00:00",
          "2018-08-18T00:00:00",
          "2018-08-17T00:00:00",
          "2018-08-16T00:00:00",
          "2018-08-15T00:00:00",
          "2018-08-14T00:00:00",
          "2018-08-13T00:00:00",
          "2018-08-12T00:00:00",
          "2018-08-11T00:00:00",
          "2018-08-10T00:00:00",
          "2018-08-09T00:00:00",
          "2018-08-08T00:00:00",
          "2018-08-07T00:00:00",
          "2018-08-06T00:00:00",
          "2018-08-05T00:00:00",
          "2018-08-04T00:00:00",
          "2018-08-03T00:00:00",
          "2018-08-02T00:00:00",
          "2018-08-01T00:00:00",
          "2018-07-31T00:00:00",
          "2018-07-30T00:00:00",
          "2018-07-29T00:00:00",
          "2018-07-28T00:00:00",
          "2018-07-27T00:00:00",
          "2018-07-26T00:00:00",
          "2018-07-25T00:00:00",
          "2018-07-24T00:00:00",
          "2018-07-23T00:00:00",
          "2018-07-22T00:00:00",
          "2018-07-21T00:00:00",
          "2018-07-20T00:00:00",
          "2018-07-19T00:00:00",
          "2018-07-18T00:00:00",
          "2018-07-17T00:00:00",
          "2018-07-16T00:00:00",
          "2018-07-15T00:00:00",
          "2018-07-14T00:00:00",
          "2018-07-13T00:00:00",
          "2018-07-12T00:00:00",
          "2018-07-11T00:00:00",
          "2018-07-10T00:00:00",
          "2018-07-09T00:00:00",
          "2018-07-08T00:00:00",
          "2018-07-07T00:00:00",
          "2018-07-06T00:00:00",
          "2018-07-05T00:00:00",
          "2018-07-04T00:00:00",
          "2018-07-03T00:00:00",
          "2018-07-02T00:00:00",
          "2018-07-01T00:00:00",
          "2018-06-30T00:00:00",
          "2018-06-29T00:00:00",
          "2018-06-28T00:00:00",
          "2018-06-27T00:00:00",
          "2018-06-26T00:00:00",
          "2018-06-25T00:00:00",
          "2018-06-24T00:00:00",
          "2018-06-23T00:00:00",
          "2018-06-22T00:00:00",
          "2018-06-21T00:00:00",
          "2018-06-20T00:00:00",
          "2018-06-19T00:00:00",
          "2018-06-18T00:00:00",
          "2018-06-17T00:00:00",
          "2018-06-16T00:00:00",
          "2018-06-15T00:00:00",
          "2018-06-14T00:00:00",
          "2018-06-13T00:00:00",
          "2018-06-12T00:00:00",
          "2018-06-11T00:00:00",
          "2018-06-10T00:00:00",
          "2018-06-09T00:00:00",
          "2018-06-08T00:00:00",
          "2018-06-07T00:00:00",
          "2018-06-06T00:00:00",
          "2018-06-05T00:00:00",
          "2018-06-04T00:00:00",
          "2018-06-03T00:00:00",
          "2018-06-02T00:00:00",
          "2018-06-01T00:00:00"
         ],
         "xaxis": "x",
         "y": [
          17.7,
          19.4,
          17.2,
          15.2,
          15.6,
          18.6,
          18.3,
          15.2,
          16.6,
          20.1,
          20.7,
          15.2,
          15.7,
          16.2,
          15.3,
          13.4,
          14.2,
          12.7,
          13.6,
          14.9,
          14.6,
          15.7,
          16.2,
          15.4,
          13.5,
          14.1,
          13.2,
          14.2,
          14.9,
          14.5,
          15.4,
          16,
          18.7,
          18.2,
          17.1,
          14.2,
          14.3,
          14.9,
          13.8,
          13.8,
          14.1,
          14.3,
          14,
          16.6,
          16.1,
          16.8,
          14.8,
          17.1,
          12.3,
          13.4,
          15.7,
          17.9,
          18.7,
          16.4,
          16.2,
          19.6,
          20.8,
          15.5,
          13.7,
          16.1,
          15.9,
          16.9,
          22.9,
          14.3,
          17.9,
          15,
          13.2,
          14.4,
          15.5,
          19.1,
          16.8,
          12.4,
          14.8,
          14.7,
          18.2,
          15.7,
          14,
          16.2,
          13.7,
          13.9,
          13.6,
          15.4,
          21.4,
          21.1,
          21,
          16.3,
          15,
          15.8,
          19.9,
          26.3,
          20.4,
          15.4,
          15.3,
          10.4,
          10.6,
          19.2,
          13.1,
          7.7,
          7.2,
          4.5,
          5.2,
          13,
          11.9,
          5.2,
          8.3,
          5.3,
          9.8,
          9.8,
          7.2,
          6.9,
          11.5,
          6.6,
          10.3,
          7.6,
          8.1,
          13.1,
          10.1,
          11.2,
          8,
          8.1,
          12.3,
          9.9,
          9.2,
          9.6,
          9.3,
          11.4,
          10.1,
          9.3,
          6.4,
          13,
          8,
          11.2,
          11.5,
          11.2,
          9.5,
          7.2,
          8.6,
          6.1,
          5.7,
          12.1,
          10.4,
          5.8,
          4.2,
          3,
          7.4,
          4.3,
          4.6,
          9.8,
          10.4,
          8.9,
          9.3,
          13.1,
          11.3,
          8.9,
          3.8,
          2.9,
          10.1,
          6.8,
          2.2,
          2.5,
          2.7,
          2.8,
          5.2,
          3.2,
          2.8,
          6.4,
          7.9,
          6.6,
          5.4,
          8.5,
          10.4,
          10.3,
          11.4,
          9.9,
          12.7,
          13.2,
          8.6,
          12.2,
          12.5,
          12.2,
          5.2,
          3.9,
          7.3,
          4.2,
          5.4,
          4
         ],
         "yaxis": "y"
        },
        {
         "fill": "toself",
         "line": {
          "color": "green"
         },
         "mode": "lines",
         "name": "Spring",
         "type": "scatter",
         "x": [
          "2018-09-01T00:00:00",
          "2018-09-02T00:00:00",
          "2018-09-03T00:00:00",
          "2018-09-04T00:00:00",
          "2018-09-05T00:00:00",
          "2018-09-06T00:00:00",
          "2018-09-07T00:00:00",
          "2018-09-08T00:00:00",
          "2018-09-09T00:00:00",
          "2018-09-10T00:00:00",
          "2018-09-11T00:00:00",
          "2018-09-12T00:00:00",
          "2018-09-13T00:00:00",
          "2018-09-14T00:00:00",
          "2018-09-15T00:00:00",
          "2018-09-16T00:00:00",
          "2018-09-17T00:00:00",
          "2018-09-18T00:00:00",
          "2018-09-19T00:00:00",
          "2018-09-20T00:00:00",
          "2018-09-21T00:00:00",
          "2018-09-22T00:00:00",
          "2018-09-23T00:00:00",
          "2018-09-24T00:00:00",
          "2018-09-25T00:00:00",
          "2018-09-26T00:00:00",
          "2018-09-27T00:00:00",
          "2018-09-28T00:00:00",
          "2018-09-29T00:00:00",
          "2018-09-30T00:00:00",
          "2018-10-01T00:00:00",
          "2018-10-02T00:00:00",
          "2018-10-03T00:00:00",
          "2018-10-04T00:00:00",
          "2018-10-05T00:00:00",
          "2018-10-06T00:00:00",
          "2018-10-07T00:00:00",
          "2018-10-08T00:00:00",
          "2018-10-09T00:00:00",
          "2018-10-10T00:00:00",
          "2018-10-11T00:00:00",
          "2018-10-12T00:00:00",
          "2018-10-13T00:00:00",
          "2018-10-14T00:00:00",
          "2018-10-15T00:00:00",
          "2018-10-16T00:00:00",
          "2018-10-17T00:00:00",
          "2018-10-18T00:00:00",
          "2018-10-19T00:00:00",
          "2018-10-20T00:00:00",
          "2018-10-21T00:00:00",
          "2018-10-22T00:00:00",
          "2018-10-23T00:00:00",
          "2018-10-24T00:00:00",
          "2018-10-25T00:00:00",
          "2018-10-26T00:00:00",
          "2018-10-27T00:00:00",
          "2018-10-28T00:00:00",
          "2018-10-29T00:00:00",
          "2018-10-30T00:00:00",
          "2018-10-31T00:00:00",
          "2018-11-01T00:00:00",
          "2018-11-02T00:00:00",
          "2018-11-03T00:00:00",
          "2018-11-04T00:00:00",
          "2018-11-05T00:00:00",
          "2018-11-06T00:00:00",
          "2018-11-07T00:00:00",
          "2018-11-08T00:00:00",
          "2018-11-09T00:00:00",
          "2018-11-10T00:00:00",
          "2018-11-11T00:00:00",
          "2018-11-12T00:00:00",
          "2018-11-13T00:00:00",
          "2018-11-14T00:00:00",
          "2018-11-15T00:00:00",
          "2018-11-16T00:00:00",
          "2018-11-17T00:00:00",
          "2018-11-18T00:00:00",
          "2018-11-19T00:00:00",
          "2018-11-20T00:00:00",
          "2018-11-21T00:00:00",
          "2018-11-22T00:00:00",
          "2018-11-23T00:00:00",
          "2018-11-24T00:00:00",
          "2018-11-25T00:00:00",
          "2018-11-26T00:00:00",
          "2018-11-27T00:00:00",
          "2018-11-28T00:00:00",
          "2018-11-29T00:00:00",
          "2018-11-30T00:00:00",
          "2018-12-01T00:00:00",
          "2018-12-01T00:00:00",
          "2018-11-30T00:00:00",
          "2018-11-29T00:00:00",
          "2018-11-28T00:00:00",
          "2018-11-27T00:00:00",
          "2018-11-26T00:00:00",
          "2018-11-25T00:00:00",
          "2018-11-24T00:00:00",
          "2018-11-23T00:00:00",
          "2018-11-22T00:00:00",
          "2018-11-21T00:00:00",
          "2018-11-20T00:00:00",
          "2018-11-19T00:00:00",
          "2018-11-18T00:00:00",
          "2018-11-17T00:00:00",
          "2018-11-16T00:00:00",
          "2018-11-15T00:00:00",
          "2018-11-14T00:00:00",
          "2018-11-13T00:00:00",
          "2018-11-12T00:00:00",
          "2018-11-11T00:00:00",
          "2018-11-10T00:00:00",
          "2018-11-09T00:00:00",
          "2018-11-08T00:00:00",
          "2018-11-07T00:00:00",
          "2018-11-06T00:00:00",
          "2018-11-05T00:00:00",
          "2018-11-04T00:00:00",
          "2018-11-03T00:00:00",
          "2018-11-02T00:00:00",
          "2018-11-01T00:00:00",
          "2018-10-31T00:00:00",
          "2018-10-30T00:00:00",
          "2018-10-29T00:00:00",
          "2018-10-28T00:00:00",
          "2018-10-27T00:00:00",
          "2018-10-26T00:00:00",
          "2018-10-25T00:00:00",
          "2018-10-24T00:00:00",
          "2018-10-23T00:00:00",
          "2018-10-22T00:00:00",
          "2018-10-21T00:00:00",
          "2018-10-20T00:00:00",
          "2018-10-19T00:00:00",
          "2018-10-18T00:00:00",
          "2018-10-17T00:00:00",
          "2018-10-16T00:00:00",
          "2018-10-15T00:00:00",
          "2018-10-14T00:00:00",
          "2018-10-13T00:00:00",
          "2018-10-12T00:00:00",
          "2018-10-11T00:00:00",
          "2018-10-10T00:00:00",
          "2018-10-09T00:00:00",
          "2018-10-08T00:00:00",
          "2018-10-07T00:00:00",
          "2018-10-06T00:00:00",
          "2018-10-05T00:00:00",
          "2018-10-04T00:00:00",
          "2018-10-03T00:00:00",
          "2018-10-02T00:00:00",
          "2018-10-01T00:00:00",
          "2018-09-30T00:00:00",
          "2018-09-29T00:00:00",
          "2018-09-28T00:00:00",
          "2018-09-27T00:00:00",
          "2018-09-26T00:00:00",
          "2018-09-25T00:00:00",
          "2018-09-24T00:00:00",
          "2018-09-23T00:00:00",
          "2018-09-22T00:00:00",
          "2018-09-21T00:00:00",
          "2018-09-20T00:00:00",
          "2018-09-19T00:00:00",
          "2018-09-18T00:00:00",
          "2018-09-17T00:00:00",
          "2018-09-16T00:00:00",
          "2018-09-15T00:00:00",
          "2018-09-14T00:00:00",
          "2018-09-13T00:00:00",
          "2018-09-12T00:00:00",
          "2018-09-11T00:00:00",
          "2018-09-10T00:00:00",
          "2018-09-09T00:00:00",
          "2018-09-08T00:00:00",
          "2018-09-07T00:00:00",
          "2018-09-06T00:00:00",
          "2018-09-05T00:00:00",
          "2018-09-04T00:00:00",
          "2018-09-03T00:00:00",
          "2018-09-02T00:00:00",
          "2018-09-01T00:00:00"
         ],
         "xaxis": "x",
         "y": [
          15.3,
          14.8,
          15.2,
          17.8,
          21.2,
          16.1,
          14.9,
          17.8,
          19.1,
          24.8,
          22.7,
          16,
          18.7,
          26,
          13.7,
          15.1,
          19.4,
          16.1,
          15,
          15.9,
          19,
          20.3,
          19.9,
          17.9,
          18.9,
          24.5,
          17.5,
          16.5,
          16,
          23.1,
          24.9,
          29.5,
          19.9,
          17,
          18.1,
          22.7,
          28.6,
          28.9,
          16.2,
          18.7,
          22.1,
          26.5,
          29.5,
          29.3,
          27.3,
          15.8,
          15.2,
          23.5,
          27.2,
          17.7,
          23,
          29,
          18,
          20.4,
          21.4,
          21.2,
          23.6,
          20.7,
          19.4,
          24.6,
          33.2,
          33.8,
          23.5,
          20.1,
          26.6,
          25,
          20,
          17.2,
          18.7,
          22.8,
          23.9,
          29.8,
          33.8,
          23.2,
          20.5,
          23.1,
          21.4,
          25.6,
          30.7,
          36.6,
          18.9,
          16.7,
          17.8,
          18,
          20.5,
          21.4,
          20.3,
          19.8,
          20,
          20.2,
          28.8,
          32.7,
          16.5,
          9.8,
          10.5,
          13.8,
          13.6,
          11.6,
          12.7,
          7.7,
          10.8,
          9.8,
          13.5,
          14.3,
          21,
          15.9,
          11.1,
          9.5,
          11.1,
          14.8,
          18.6,
          19.6,
          10,
          9.4,
          9.3,
          8.4,
          11,
          15.3,
          17.4,
          12.1,
          15.5,
          19.3,
          20.5,
          11.9,
          7.9,
          8.5,
          13.2,
          8.8,
          8.1,
          8.4,
          7.5,
          13.6,
          13.5,
          7.8,
          13.1,
          12.1,
          11.6,
          12.7,
          14.1,
          19.1,
          21.8,
          13.6,
          13.8,
          8.5,
          10.5,
          13.6,
          18.3,
          12.9,
          8.3,
          9.5,
          11.1,
          14.6,
          13.6,
          13.9,
          4.3,
          4.6,
          11.9,
          11.5,
          7,
          4.7,
          6.2,
          7.6,
          7.3,
          11.8,
          9,
          9.7,
          11.4,
          5.1,
          6.2,
          8.3,
          9.7,
          6.7,
          11,
          13.5,
          7.6,
          7.7,
          7.1,
          4.2,
          12,
          5.9,
          2.9,
          3.5,
          7.6,
          10.4
         ],
         "yaxis": "y"
        },
        {
         "fill": "toself",
         "line": {
          "color": "red"
         },
         "mode": "lines",
         "name": "Summer",
         "type": "scatter",
         "x": [
          "2018-12-01T00:00:00",
          "2018-12-02T00:00:00",
          "2018-12-03T00:00:00",
          "2018-12-04T00:00:00",
          "2018-12-05T00:00:00",
          "2018-12-06T00:00:00",
          "2018-12-07T00:00:00",
          "2018-12-08T00:00:00",
          "2018-12-09T00:00:00",
          "2018-12-10T00:00:00",
          "2018-12-11T00:00:00",
          "2018-12-12T00:00:00",
          "2018-12-13T00:00:00",
          "2018-12-14T00:00:00",
          "2018-12-15T00:00:00",
          "2018-12-16T00:00:00",
          "2018-12-17T00:00:00",
          "2018-12-18T00:00:00",
          "2018-12-19T00:00:00",
          "2018-12-20T00:00:00",
          "2018-12-21T00:00:00",
          "2018-12-22T00:00:00",
          "2018-12-23T00:00:00",
          "2018-12-24T00:00:00",
          "2018-12-25T00:00:00",
          "2018-12-26T00:00:00",
          "2018-12-27T00:00:00",
          "2018-12-28T00:00:00",
          "2018-12-29T00:00:00",
          "2018-12-30T00:00:00",
          "2018-12-31T00:00:00",
          "2019-01-01T00:00:00",
          "2019-01-02T00:00:00",
          "2019-01-03T00:00:00",
          "2019-01-04T00:00:00",
          "2019-01-05T00:00:00",
          "2019-01-06T00:00:00",
          "2019-01-07T00:00:00",
          "2019-01-08T00:00:00",
          "2019-01-09T00:00:00",
          "2019-01-10T00:00:00",
          "2019-01-11T00:00:00",
          "2019-01-12T00:00:00",
          "2019-01-13T00:00:00",
          "2019-01-14T00:00:00",
          "2019-01-15T00:00:00",
          "2019-01-16T00:00:00",
          "2019-01-17T00:00:00",
          "2019-01-18T00:00:00",
          "2019-01-19T00:00:00",
          "2019-01-20T00:00:00",
          "2019-01-21T00:00:00",
          "2019-01-22T00:00:00",
          "2019-01-23T00:00:00",
          "2019-01-24T00:00:00",
          "2019-01-25T00:00:00",
          "2019-01-26T00:00:00",
          "2019-01-27T00:00:00",
          "2019-01-28T00:00:00",
          "2019-01-29T00:00:00",
          "2019-01-30T00:00:00",
          "2019-01-31T00:00:00",
          "2019-02-01T00:00:00",
          "2019-02-02T00:00:00",
          "2019-02-03T00:00:00",
          "2019-02-04T00:00:00",
          "2019-02-05T00:00:00",
          "2019-02-06T00:00:00",
          "2019-02-07T00:00:00",
          "2019-02-08T00:00:00",
          "2019-02-09T00:00:00",
          "2019-02-10T00:00:00",
          "2019-02-11T00:00:00",
          "2019-02-12T00:00:00",
          "2019-02-13T00:00:00",
          "2019-02-14T00:00:00",
          "2019-02-15T00:00:00",
          "2019-02-16T00:00:00",
          "2019-02-17T00:00:00",
          "2019-02-18T00:00:00",
          "2019-02-19T00:00:00",
          "2019-02-20T00:00:00",
          "2019-02-21T00:00:00",
          "2019-02-22T00:00:00",
          "2019-02-23T00:00:00",
          "2019-02-24T00:00:00",
          "2019-02-25T00:00:00",
          "2019-02-26T00:00:00",
          "2019-02-27T00:00:00",
          "2019-02-28T00:00:00",
          "2019-03-01T00:00:00",
          "2019-03-01T00:00:00",
          "2019-02-28T00:00:00",
          "2019-02-27T00:00:00",
          "2019-02-26T00:00:00",
          "2019-02-25T00:00:00",
          "2019-02-24T00:00:00",
          "2019-02-23T00:00:00",
          "2019-02-22T00:00:00",
          "2019-02-21T00:00:00",
          "2019-02-20T00:00:00",
          "2019-02-19T00:00:00",
          "2019-02-18T00:00:00",
          "2019-02-17T00:00:00",
          "2019-02-16T00:00:00",
          "2019-02-15T00:00:00",
          "2019-02-14T00:00:00",
          "2019-02-13T00:00:00",
          "2019-02-12T00:00:00",
          "2019-02-11T00:00:00",
          "2019-02-10T00:00:00",
          "2019-02-09T00:00:00",
          "2019-02-08T00:00:00",
          "2019-02-07T00:00:00",
          "2019-02-06T00:00:00",
          "2019-02-05T00:00:00",
          "2019-02-04T00:00:00",
          "2019-02-03T00:00:00",
          "2019-02-02T00:00:00",
          "2019-02-01T00:00:00",
          "2019-01-31T00:00:00",
          "2019-01-30T00:00:00",
          "2019-01-29T00:00:00",
          "2019-01-28T00:00:00",
          "2019-01-27T00:00:00",
          "2019-01-26T00:00:00",
          "2019-01-25T00:00:00",
          "2019-01-24T00:00:00",
          "2019-01-23T00:00:00",
          "2019-01-22T00:00:00",
          "2019-01-21T00:00:00",
          "2019-01-20T00:00:00",
          "2019-01-19T00:00:00",
          "2019-01-18T00:00:00",
          "2019-01-17T00:00:00",
          "2019-01-16T00:00:00",
          "2019-01-15T00:00:00",
          "2019-01-14T00:00:00",
          "2019-01-13T00:00:00",
          "2019-01-12T00:00:00",
          "2019-01-11T00:00:00",
          "2019-01-10T00:00:00",
          "2019-01-09T00:00:00",
          "2019-01-08T00:00:00",
          "2019-01-07T00:00:00",
          "2019-01-06T00:00:00",
          "2019-01-05T00:00:00",
          "2019-01-04T00:00:00",
          "2019-01-03T00:00:00",
          "2019-01-02T00:00:00",
          "2019-01-01T00:00:00",
          "2018-12-31T00:00:00",
          "2018-12-30T00:00:00",
          "2018-12-29T00:00:00",
          "2018-12-28T00:00:00",
          "2018-12-27T00:00:00",
          "2018-12-26T00:00:00",
          "2018-12-25T00:00:00",
          "2018-12-24T00:00:00",
          "2018-12-23T00:00:00",
          "2018-12-22T00:00:00",
          "2018-12-21T00:00:00",
          "2018-12-20T00:00:00",
          "2018-12-19T00:00:00",
          "2018-12-18T00:00:00",
          "2018-12-17T00:00:00",
          "2018-12-16T00:00:00",
          "2018-12-15T00:00:00",
          "2018-12-14T00:00:00",
          "2018-12-13T00:00:00",
          "2018-12-12T00:00:00",
          "2018-12-11T00:00:00",
          "2018-12-10T00:00:00",
          "2018-12-09T00:00:00",
          "2018-12-08T00:00:00",
          "2018-12-07T00:00:00",
          "2018-12-06T00:00:00",
          "2018-12-05T00:00:00",
          "2018-12-04T00:00:00",
          "2018-12-03T00:00:00",
          "2018-12-02T00:00:00",
          "2018-12-01T00:00:00"
         ],
         "xaxis": "x",
         "y": [
          32.7,
          20.3,
          21,
          27.4,
          32.6,
          37.9,
          37.5,
          22.9,
          27.6,
          28.3,
          31.2,
          34,
          17.3,
          22.4,
          22.2,
          21.5,
          27.5,
          28.9,
          35.5,
          24.8,
          22.1,
          23.1,
          27,
          35.1,
          32.4,
          32.8,
          40.9,
          35.8,
          30.5,
          29.1,
          25.8,
          29.6,
          33.6,
          40.1,
          24.1,
          22.4,
          25.1,
          24.5,
          23.7,
          25.2,
          28.5,
          37.3,
          32.4,
          34.4,
          35.2,
          39.4,
          39,
          38.9,
          25.8,
          29.2,
          31.6,
          30.5,
          35.2,
          38.6,
          45.8,
          26.9,
          24.7,
          24.8,
          26.7,
          30.1,
          38.6,
          25.7,
          29.5,
          36.8,
          33,
          27.2,
          31,
          28.1,
          29.3,
          23,
          22.7,
          22.2,
          25.6,
          20.4,
          21.7,
          22.2,
          26,
          26.8,
          32.3,
          23.1,
          22.7,
          23.2,
          26.7,
          31.8,
          32.2,
          33.5,
          35.5,
          35.7,
          35,
          33.7,
          38.8,
          19.5,
          19.8,
          20.5,
          19.3,
          20.7,
          16.1,
          17.4,
          13.2,
          14.9,
          14.5,
          16.8,
          19.3,
          15.1,
          13.9,
          12.9,
          12.1,
          13.3,
          16.2,
          18.5,
          15.5,
          16,
          17.9,
          18.5,
          19.3,
          15.9,
          18.9,
          20.8,
          13.1,
          14.5,
          17.6,
          16.5,
          15.4,
          14.9,
          16.1,
          17.3,
          23.5,
          27,
          22.7,
          21.5,
          20.2,
          16.4,
          15.6,
          21.7,
          23.7,
          20.5,
          19.5,
          16,
          15.6,
          21.4,
          15.3,
          14,
          14.4,
          13.3,
          13.7,
          13.6,
          16.9,
          23.3,
          17.3,
          15.8,
          13.2,
          15.9,
          17.4,
          23.1,
          22.2,
          17.1,
          16.1,
          15.3,
          14.1,
          10.3,
          11.3,
          15,
          17.1,
          20.6,
          18.6,
          15.8,
          17.1,
          15.2,
          12,
          12.8,
          19.9,
          16.3,
          14.7,
          16,
          18.7,
          23.7,
          21.7,
          14.4,
          12.3,
          15.3,
          14,
          16.5
         ],
         "yaxis": "y"
        },
        {
         "fill": "toself",
         "line": {
          "color": "orange"
         },
         "mode": "lines",
         "name": "Autumn",
         "type": "scatter",
         "x": [
          "2019-03-01T00:00:00",
          "2019-03-02T00:00:00",
          "2019-03-03T00:00:00",
          "2019-03-04T00:00:00",
          "2019-03-05T00:00:00",
          "2019-03-06T00:00:00",
          "2019-03-07T00:00:00",
          "2019-03-08T00:00:00",
          "2019-03-09T00:00:00",
          "2019-03-10T00:00:00",
          "2019-03-11T00:00:00",
          "2019-03-12T00:00:00",
          "2019-03-13T00:00:00",
          "2019-03-14T00:00:00",
          "2019-03-15T00:00:00",
          "2019-03-16T00:00:00",
          "2019-03-17T00:00:00",
          "2019-03-18T00:00:00",
          "2019-03-19T00:00:00",
          "2019-03-20T00:00:00",
          "2019-03-21T00:00:00",
          "2019-03-22T00:00:00",
          "2019-03-23T00:00:00",
          "2019-03-24T00:00:00",
          "2019-03-25T00:00:00",
          "2019-03-26T00:00:00",
          "2019-03-27T00:00:00",
          "2019-03-28T00:00:00",
          "2019-03-29T00:00:00",
          "2019-03-30T00:00:00",
          "2019-03-31T00:00:00",
          "2019-04-01T00:00:00",
          "2019-04-02T00:00:00",
          "2019-04-03T00:00:00",
          "2019-04-04T00:00:00",
          "2019-04-05T00:00:00",
          "2019-04-06T00:00:00",
          "2019-04-07T00:00:00",
          "2019-04-08T00:00:00",
          "2019-04-09T00:00:00",
          "2019-04-10T00:00:00",
          "2019-04-11T00:00:00",
          "2019-04-12T00:00:00",
          "2019-04-13T00:00:00",
          "2019-04-14T00:00:00",
          "2019-04-15T00:00:00",
          "2019-04-16T00:00:00",
          "2019-04-17T00:00:00",
          "2019-04-18T00:00:00",
          "2019-04-19T00:00:00",
          "2019-04-20T00:00:00",
          "2019-04-21T00:00:00",
          "2019-04-22T00:00:00",
          "2019-04-23T00:00:00",
          "2019-04-24T00:00:00",
          "2019-04-25T00:00:00",
          "2019-04-26T00:00:00",
          "2019-04-27T00:00:00",
          "2019-04-28T00:00:00",
          "2019-04-29T00:00:00",
          "2019-04-30T00:00:00",
          "2019-05-01T00:00:00",
          "2019-05-02T00:00:00",
          "2019-05-03T00:00:00",
          "2019-05-04T00:00:00",
          "2019-05-05T00:00:00",
          "2019-05-06T00:00:00",
          "2019-05-07T00:00:00",
          "2019-05-08T00:00:00",
          "2019-05-09T00:00:00",
          "2019-05-10T00:00:00",
          "2019-05-11T00:00:00",
          "2019-05-12T00:00:00",
          "2019-05-13T00:00:00",
          "2019-05-14T00:00:00",
          "2019-05-15T00:00:00",
          "2019-05-16T00:00:00",
          "2019-05-17T00:00:00",
          "2019-05-18T00:00:00",
          "2019-05-19T00:00:00",
          "2019-05-20T00:00:00",
          "2019-05-21T00:00:00",
          "2019-05-22T00:00:00",
          "2019-05-23T00:00:00",
          "2019-05-24T00:00:00",
          "2019-05-25T00:00:00",
          "2019-05-26T00:00:00",
          "2019-05-27T00:00:00",
          "2019-05-28T00:00:00",
          "2019-05-29T00:00:00",
          "2019-05-30T00:00:00",
          "2019-05-31T00:00:00",
          "2019-05-31T00:00:00",
          "2019-05-30T00:00:00",
          "2019-05-29T00:00:00",
          "2019-05-28T00:00:00",
          "2019-05-27T00:00:00",
          "2019-05-26T00:00:00",
          "2019-05-25T00:00:00",
          "2019-05-24T00:00:00",
          "2019-05-23T00:00:00",
          "2019-05-22T00:00:00",
          "2019-05-21T00:00:00",
          "2019-05-20T00:00:00",
          "2019-05-19T00:00:00",
          "2019-05-18T00:00:00",
          "2019-05-17T00:00:00",
          "2019-05-16T00:00:00",
          "2019-05-15T00:00:00",
          "2019-05-14T00:00:00",
          "2019-05-13T00:00:00",
          "2019-05-12T00:00:00",
          "2019-05-11T00:00:00",
          "2019-05-10T00:00:00",
          "2019-05-09T00:00:00",
          "2019-05-08T00:00:00",
          "2019-05-07T00:00:00",
          "2019-05-06T00:00:00",
          "2019-05-05T00:00:00",
          "2019-05-04T00:00:00",
          "2019-05-03T00:00:00",
          "2019-05-02T00:00:00",
          "2019-05-01T00:00:00",
          "2019-04-30T00:00:00",
          "2019-04-29T00:00:00",
          "2019-04-28T00:00:00",
          "2019-04-27T00:00:00",
          "2019-04-26T00:00:00",
          "2019-04-25T00:00:00",
          "2019-04-24T00:00:00",
          "2019-04-23T00:00:00",
          "2019-04-22T00:00:00",
          "2019-04-21T00:00:00",
          "2019-04-20T00:00:00",
          "2019-04-19T00:00:00",
          "2019-04-18T00:00:00",
          "2019-04-17T00:00:00",
          "2019-04-16T00:00:00",
          "2019-04-15T00:00:00",
          "2019-04-14T00:00:00",
          "2019-04-13T00:00:00",
          "2019-04-12T00:00:00",
          "2019-04-11T00:00:00",
          "2019-04-10T00:00:00",
          "2019-04-09T00:00:00",
          "2019-04-08T00:00:00",
          "2019-04-07T00:00:00",
          "2019-04-06T00:00:00",
          "2019-04-05T00:00:00",
          "2019-04-04T00:00:00",
          "2019-04-03T00:00:00",
          "2019-04-02T00:00:00",
          "2019-04-01T00:00:00",
          "2019-03-31T00:00:00",
          "2019-03-30T00:00:00",
          "2019-03-29T00:00:00",
          "2019-03-28T00:00:00",
          "2019-03-27T00:00:00",
          "2019-03-26T00:00:00",
          "2019-03-25T00:00:00",
          "2019-03-24T00:00:00",
          "2019-03-23T00:00:00",
          "2019-03-22T00:00:00",
          "2019-03-21T00:00:00",
          "2019-03-20T00:00:00",
          "2019-03-19T00:00:00",
          "2019-03-18T00:00:00",
          "2019-03-17T00:00:00",
          "2019-03-16T00:00:00",
          "2019-03-15T00:00:00",
          "2019-03-14T00:00:00",
          "2019-03-13T00:00:00",
          "2019-03-12T00:00:00",
          "2019-03-11T00:00:00",
          "2019-03-10T00:00:00",
          "2019-03-09T00:00:00",
          "2019-03-08T00:00:00",
          "2019-03-07T00:00:00",
          "2019-03-06T00:00:00",
          "2019-03-05T00:00:00",
          "2019-03-04T00:00:00",
          "2019-03-03T00:00:00",
          "2019-03-02T00:00:00",
          "2019-03-01T00:00:00"
         ],
         "xaxis": "x",
         "y": [
          38.8,
          39.3,
          31.7,
          28.8,
          23,
          20.7,
          25.1,
          25.7,
          24.7,
          25.4,
          22.5,
          21.8,
          21.3,
          23.3,
          26.6,
          27.6,
          28.6,
          27.1,
          25.4,
          26,
          28.2,
          28.5,
          23.7,
          26,
          19.3,
          20.6,
          23.8,
          28.8,
          20.8,
          17.9,
          21.1,
          20.6,
          27.3,
          26.3,
          31.6,
          32.3,
          20.4,
          22.5,
          23.2,
          19.2,
          19.5,
          20.6,
          24.7,
          23.6,
          25.7,
          29.6,
          33.3,
          25.6,
          24,
          32.6,
          32,
          20,
          20.5,
          21.8,
          20.1,
          20.8,
          18.7,
          17.9,
          18,
          23.3,
          24.3,
          19.3,
          17.3,
          19.3,
          18.4,
          18.5,
          19.4,
          17.7,
          17.4,
          12.8,
          15.6,
          17.5,
          16.9,
          19.1,
          18.4,
          17.9,
          18.5,
          22.5,
          25.4,
          23.2,
          18.7,
          22.5,
          19.5,
          23.6,
          22.8,
          17,
          16.2,
          15.8,
          16,
          14.2,
          15.2,
          15.9,
          8.9,
          4.6,
          11.9,
          12,
          12.2,
          12.4,
          11.9,
          14,
          7.6,
          6.5,
          10.5,
          10.7,
          18.1,
          9,
          10.7,
          7.9,
          6.7,
          7,
          9,
          13.6,
          11.2,
          7.4,
          11.3,
          11.4,
          11.2,
          5.6,
          13.1,
          11.3,
          9.9,
          11.4,
          13.4,
          14.1,
          9.1,
          12.8,
          9.9,
          15.1,
          8.3,
          8.3,
          10.1,
          8.7,
          14.6,
          19.3,
          15.7,
          10.4,
          23.1,
          17.2,
          18.1,
          15.6,
          12.8,
          10.2,
          9.3,
          11.1,
          13.4,
          14.3,
          11.1,
          17.4,
          22.6,
          20.2,
          11.4,
          10.6,
          14.7,
          11.7,
          10.8,
          17.4,
          11.9,
          10.7,
          13.2,
          14,
          19.7,
          18.7,
          17,
          17.9,
          15.5,
          15.4,
          14.6,
          13.4,
          12.5,
          14.1,
          9.8,
          11.9,
          18.1,
          19.5,
          17.5,
          15.7,
          13.7,
          9.6,
          16.2,
          15.4,
          17.5,
          20.5,
          27.9,
          19.5
         ],
         "yaxis": "y"
        },
        {
         "fill": "none",
         "line": {
          "color": "blue"
         },
         "mode": "lines",
         "name": "Rain",
         "type": "scatter",
         "x": [
          "2018-06-01T00:00:00",
          "2018-06-02T00:00:00",
          "2018-06-03T00:00:00",
          "2018-06-04T00:00:00",
          "2018-06-05T00:00:00",
          "2018-06-06T00:00:00",
          "2018-06-07T00:00:00",
          "2018-06-08T00:00:00",
          "2018-06-09T00:00:00",
          "2018-06-10T00:00:00",
          "2018-06-11T00:00:00",
          "2018-06-12T00:00:00",
          "2018-06-13T00:00:00",
          "2018-06-14T00:00:00",
          "2018-06-15T00:00:00",
          "2018-06-16T00:00:00",
          "2018-06-17T00:00:00",
          "2018-06-18T00:00:00",
          "2018-06-19T00:00:00",
          "2018-06-20T00:00:00",
          "2018-06-21T00:00:00",
          "2018-06-22T00:00:00",
          "2018-06-23T00:00:00",
          "2018-06-24T00:00:00",
          "2018-06-25T00:00:00",
          "2018-06-26T00:00:00",
          "2018-06-27T00:00:00",
          "2018-06-28T00:00:00",
          "2018-06-29T00:00:00",
          "2018-06-30T00:00:00",
          "2018-07-01T00:00:00",
          "2018-07-02T00:00:00",
          "2018-07-03T00:00:00",
          "2018-07-04T00:00:00",
          "2018-07-05T00:00:00",
          "2018-07-06T00:00:00",
          "2018-07-07T00:00:00",
          "2018-07-08T00:00:00",
          "2018-07-09T00:00:00",
          "2018-07-10T00:00:00",
          "2018-07-11T00:00:00",
          "2018-07-12T00:00:00",
          "2018-07-13T00:00:00",
          "2018-07-14T00:00:00",
          "2018-07-15T00:00:00",
          "2018-07-16T00:00:00",
          "2018-07-17T00:00:00",
          "2018-07-18T00:00:00",
          "2018-07-19T00:00:00",
          "2018-07-20T00:00:00",
          "2018-07-21T00:00:00",
          "2018-07-22T00:00:00",
          "2018-07-23T00:00:00",
          "2018-07-24T00:00:00",
          "2018-07-25T00:00:00",
          "2018-07-26T00:00:00",
          "2018-07-27T00:00:00",
          "2018-07-28T00:00:00",
          "2018-07-29T00:00:00",
          "2018-07-30T00:00:00",
          "2018-07-31T00:00:00",
          "2018-08-01T00:00:00",
          "2018-08-02T00:00:00",
          "2018-08-03T00:00:00",
          "2018-08-04T00:00:00",
          "2018-08-05T00:00:00",
          "2018-08-06T00:00:00",
          "2018-08-07T00:00:00",
          "2018-08-08T00:00:00",
          "2018-08-09T00:00:00",
          "2018-08-10T00:00:00",
          "2018-08-11T00:00:00",
          "2018-08-12T00:00:00",
          "2018-08-13T00:00:00",
          "2018-08-14T00:00:00",
          "2018-08-15T00:00:00",
          "2018-08-16T00:00:00",
          "2018-08-17T00:00:00",
          "2018-08-18T00:00:00",
          "2018-08-19T00:00:00",
          "2018-08-20T00:00:00",
          "2018-08-21T00:00:00",
          "2018-08-22T00:00:00",
          "2018-08-23T00:00:00",
          "2018-08-24T00:00:00",
          "2018-08-25T00:00:00",
          "2018-08-26T00:00:00",
          "2018-08-27T00:00:00",
          "2018-08-28T00:00:00",
          "2018-08-29T00:00:00",
          "2018-08-30T00:00:00",
          "2018-08-31T00:00:00",
          "2018-09-01T00:00:00",
          "2018-09-02T00:00:00",
          "2018-09-03T00:00:00",
          "2018-09-04T00:00:00",
          "2018-09-05T00:00:00",
          "2018-09-06T00:00:00",
          "2018-09-07T00:00:00",
          "2018-09-08T00:00:00",
          "2018-09-09T00:00:00",
          "2018-09-10T00:00:00",
          "2018-09-11T00:00:00",
          "2018-09-12T00:00:00",
          "2018-09-13T00:00:00",
          "2018-09-14T00:00:00",
          "2018-09-15T00:00:00",
          "2018-09-16T00:00:00",
          "2018-09-17T00:00:00",
          "2018-09-18T00:00:00",
          "2018-09-19T00:00:00",
          "2018-09-20T00:00:00",
          "2018-09-21T00:00:00",
          "2018-09-22T00:00:00",
          "2018-09-23T00:00:00",
          "2018-09-24T00:00:00",
          "2018-09-25T00:00:00",
          "2018-09-26T00:00:00",
          "2018-09-27T00:00:00",
          "2018-09-28T00:00:00",
          "2018-09-29T00:00:00",
          "2018-09-30T00:00:00",
          "2018-10-01T00:00:00",
          "2018-10-02T00:00:00",
          "2018-10-03T00:00:00",
          "2018-10-04T00:00:00",
          "2018-10-05T00:00:00",
          "2018-10-06T00:00:00",
          "2018-10-07T00:00:00",
          "2018-10-08T00:00:00",
          "2018-10-09T00:00:00",
          "2018-10-10T00:00:00",
          "2018-10-11T00:00:00",
          "2018-10-12T00:00:00",
          "2018-10-13T00:00:00",
          "2018-10-14T00:00:00",
          "2018-10-15T00:00:00",
          "2018-10-16T00:00:00",
          "2018-10-17T00:00:00",
          "2018-10-18T00:00:00",
          "2018-10-19T00:00:00",
          "2018-10-20T00:00:00",
          "2018-10-21T00:00:00",
          "2018-10-22T00:00:00",
          "2018-10-23T00:00:00",
          "2018-10-24T00:00:00",
          "2018-10-25T00:00:00",
          "2018-10-26T00:00:00",
          "2018-10-27T00:00:00",
          "2018-10-28T00:00:00",
          "2018-10-29T00:00:00",
          "2018-10-30T00:00:00",
          "2018-10-31T00:00:00",
          "2018-11-01T00:00:00",
          "2018-11-02T00:00:00",
          "2018-11-03T00:00:00",
          "2018-11-04T00:00:00",
          "2018-11-05T00:00:00",
          "2018-11-06T00:00:00",
          "2018-11-07T00:00:00",
          "2018-11-08T00:00:00",
          "2018-11-09T00:00:00",
          "2018-11-10T00:00:00",
          "2018-11-11T00:00:00",
          "2018-11-12T00:00:00",
          "2018-11-13T00:00:00",
          "2018-11-14T00:00:00",
          "2018-11-15T00:00:00",
          "2018-11-16T00:00:00",
          "2018-11-17T00:00:00",
          "2018-11-18T00:00:00",
          "2018-11-19T00:00:00",
          "2018-11-20T00:00:00",
          "2018-11-21T00:00:00",
          "2018-11-22T00:00:00",
          "2018-11-23T00:00:00",
          "2018-11-24T00:00:00",
          "2018-11-25T00:00:00",
          "2018-11-26T00:00:00",
          "2018-11-27T00:00:00",
          "2018-11-28T00:00:00",
          "2018-11-29T00:00:00",
          "2018-11-30T00:00:00",
          "2018-12-01T00:00:00",
          "2018-12-02T00:00:00",
          "2018-12-03T00:00:00",
          "2018-12-04T00:00:00",
          "2018-12-05T00:00:00",
          "2018-12-06T00:00:00",
          "2018-12-07T00:00:00",
          "2018-12-08T00:00:00",
          "2018-12-09T00:00:00",
          "2018-12-10T00:00:00",
          "2018-12-11T00:00:00",
          "2018-12-12T00:00:00",
          "2018-12-13T00:00:00",
          "2018-12-14T00:00:00",
          "2018-12-15T00:00:00",
          "2018-12-16T00:00:00",
          "2018-12-17T00:00:00",
          "2018-12-18T00:00:00",
          "2018-12-19T00:00:00",
          "2018-12-20T00:00:00",
          "2018-12-21T00:00:00",
          "2018-12-22T00:00:00",
          "2018-12-23T00:00:00",
          "2018-12-24T00:00:00",
          "2018-12-25T00:00:00",
          "2018-12-26T00:00:00",
          "2018-12-27T00:00:00",
          "2018-12-28T00:00:00",
          "2018-12-29T00:00:00",
          "2018-12-30T00:00:00",
          "2018-12-31T00:00:00",
          "2019-01-01T00:00:00",
          "2019-01-02T00:00:00",
          "2019-01-03T00:00:00",
          "2019-01-04T00:00:00",
          "2019-01-05T00:00:00",
          "2019-01-06T00:00:00",
          "2019-01-07T00:00:00",
          "2019-01-08T00:00:00",
          "2019-01-09T00:00:00",
          "2019-01-10T00:00:00",
          "2019-01-11T00:00:00",
          "2019-01-12T00:00:00",
          "2019-01-13T00:00:00",
          "2019-01-14T00:00:00",
          "2019-01-15T00:00:00",
          "2019-01-16T00:00:00",
          "2019-01-17T00:00:00",
          "2019-01-18T00:00:00",
          "2019-01-19T00:00:00",
          "2019-01-20T00:00:00",
          "2019-01-21T00:00:00",
          "2019-01-22T00:00:00",
          "2019-01-23T00:00:00",
          "2019-01-24T00:00:00",
          "2019-01-25T00:00:00",
          "2019-01-26T00:00:00",
          "2019-01-27T00:00:00",
          "2019-01-28T00:00:00",
          "2019-01-29T00:00:00",
          "2019-01-30T00:00:00",
          "2019-01-31T00:00:00",
          "2019-02-01T00:00:00",
          "2019-02-02T00:00:00",
          "2019-02-03T00:00:00",
          "2019-02-04T00:00:00",
          "2019-02-05T00:00:00",
          "2019-02-06T00:00:00",
          "2019-02-07T00:00:00",
          "2019-02-08T00:00:00",
          "2019-02-09T00:00:00",
          "2019-02-10T00:00:00",
          "2019-02-11T00:00:00",
          "2019-02-12T00:00:00",
          "2019-02-13T00:00:00",
          "2019-02-14T00:00:00",
          "2019-02-15T00:00:00",
          "2019-02-16T00:00:00",
          "2019-02-17T00:00:00",
          "2019-02-18T00:00:00",
          "2019-02-19T00:00:00",
          "2019-02-20T00:00:00",
          "2019-02-21T00:00:00",
          "2019-02-22T00:00:00",
          "2019-02-23T00:00:00",
          "2019-02-24T00:00:00",
          "2019-02-25T00:00:00",
          "2019-02-26T00:00:00",
          "2019-02-27T00:00:00",
          "2019-02-28T00:00:00",
          "2019-03-01T00:00:00",
          "2019-03-02T00:00:00",
          "2019-03-03T00:00:00",
          "2019-03-04T00:00:00",
          "2019-03-05T00:00:00",
          "2019-03-06T00:00:00",
          "2019-03-07T00:00:00",
          "2019-03-08T00:00:00",
          "2019-03-09T00:00:00",
          "2019-03-10T00:00:00",
          "2019-03-11T00:00:00",
          "2019-03-12T00:00:00",
          "2019-03-13T00:00:00",
          "2019-03-14T00:00:00",
          "2019-03-15T00:00:00",
          "2019-03-16T00:00:00",
          "2019-03-17T00:00:00",
          "2019-03-18T00:00:00",
          "2019-03-19T00:00:00",
          "2019-03-20T00:00:00",
          "2019-03-21T00:00:00",
          "2019-03-22T00:00:00",
          "2019-03-23T00:00:00",
          "2019-03-24T00:00:00",
          "2019-03-25T00:00:00",
          "2019-03-26T00:00:00",
          "2019-03-27T00:00:00",
          "2019-03-28T00:00:00",
          "2019-03-29T00:00:00",
          "2019-03-30T00:00:00",
          "2019-03-31T00:00:00",
          "2019-04-01T00:00:00",
          "2019-04-02T00:00:00",
          "2019-04-03T00:00:00",
          "2019-04-04T00:00:00",
          "2019-04-05T00:00:00",
          "2019-04-06T00:00:00",
          "2019-04-07T00:00:00",
          "2019-04-08T00:00:00",
          "2019-04-09T00:00:00",
          "2019-04-10T00:00:00",
          "2019-04-11T00:00:00",
          "2019-04-12T00:00:00",
          "2019-04-13T00:00:00",
          "2019-04-14T00:00:00",
          "2019-04-15T00:00:00",
          "2019-04-16T00:00:00",
          "2019-04-17T00:00:00",
          "2019-04-18T00:00:00",
          "2019-04-19T00:00:00",
          "2019-04-20T00:00:00",
          "2019-04-21T00:00:00",
          "2019-04-22T00:00:00",
          "2019-04-23T00:00:00",
          "2019-04-24T00:00:00",
          "2019-04-25T00:00:00",
          "2019-04-26T00:00:00",
          "2019-04-27T00:00:00",
          "2019-04-28T00:00:00",
          "2019-04-29T00:00:00",
          "2019-04-30T00:00:00",
          "2019-05-01T00:00:00",
          "2019-05-02T00:00:00",
          "2019-05-03T00:00:00",
          "2019-05-04T00:00:00",
          "2019-05-05T00:00:00",
          "2019-05-06T00:00:00",
          "2019-05-07T00:00:00",
          "2019-05-08T00:00:00",
          "2019-05-09T00:00:00",
          "2019-05-10T00:00:00",
          "2019-05-11T00:00:00",
          "2019-05-12T00:00:00",
          "2019-05-13T00:00:00",
          "2019-05-14T00:00:00",
          "2019-05-15T00:00:00",
          "2019-05-16T00:00:00",
          "2019-05-17T00:00:00",
          "2019-05-18T00:00:00",
          "2019-05-19T00:00:00",
          "2019-05-20T00:00:00",
          "2019-05-21T00:00:00",
          "2019-05-22T00:00:00",
          "2019-05-23T00:00:00",
          "2019-05-24T00:00:00",
          "2019-05-25T00:00:00",
          "2019-05-26T00:00:00",
          "2019-05-27T00:00:00",
          "2019-05-28T00:00:00",
          "2019-05-29T00:00:00",
          "2019-05-30T00:00:00",
          "2019-05-31T00:00:00"
         ],
         "xaxis": "x2",
         "y": [
          0,
          0,
          0,
          0,
          0,
          0,
          0,
          2.2,
          0.2,
          0,
          0.2,
          4,
          8.2,
          1.8,
          5.2,
          5.4,
          4.8,
          0.2,
          0,
          0,
          0,
          0,
          0,
          0,
          0,
          0,
          0,
          0,
          0,
          1.6,
          0,
          0,
          0,
          0,
          0.2,
          5.2,
          7.4,
          0.6,
          0,
          0,
          3,
          0.8,
          0,
          0,
          0,
          0,
          0,
          2,
          0,
          9.4,
          0.8,
          0,
          0,
          3,
          7.2,
          0.2,
          0,
          0,
          2.2,
          0,
          1.6,
          2.6,
          0,
          21.2,
          1,
          0,
          12.2,
          7.2,
          1.8,
          0,
          0,
          7.8,
          3,
          0.8,
          0,
          0,
          3.2,
          0,
          3.6,
          0.8,
          0,
          0,
          0,
          0,
          0,
          0,
          0,
          0,
          0,
          0,
          0.4,
          5.6,
          7,
          0.6,
          0,
          0,
          0,
          0.6,
          0,
          0,
          0,
          0,
          0,
          0.2,
          0,
          0,
          3.8,
          0.4,
          0,
          0,
          2.6,
          4.2,
          0,
          0,
          0,
          0,
          0,
          0,
          0,
          0,
          0,
          0,
          0,
          0,
          4.2,
          0,
          0,
          0,
          0.2,
          0.2,
          0,
          0,
          0,
          0,
          0,
          0,
          4.6,
          0.2,
          2.8,
          0.8,
          0,
          0,
          0,
          0,
          0,
          0,
          0,
          0,
          0,
          0,
          0,
          0,
          0,
          0,
          0.6,
          0,
          0,
          4.8,
          0.4,
          0.8,
          0.2,
          0,
          0,
          0,
          0,
          0,
          0,
          0,
          0,
          0,
          0,
          0,
          1.2,
          4.4,
          13.8,
          2.8,
          0,
          3.4,
          0,
          0.4,
          2,
          0,
          0,
          0,
          0.6,
          0,
          0,
          0,
          0,
          0,
          0.8,
          2.6,
          0,
          0,
          0,
          4.6,
          8.2,
          0.2,
          0.6,
          0,
          0,
          3.4,
          0,
          0,
          0,
          0,
          0,
          0,
          0,
          0,
          0,
          0,
          0,
          0,
          0,
          0,
          0,
          0,
          0,
          0,
          0,
          0,
          0,
          0,
          0,
          0,
          0,
          0,
          0,
          0,
          0,
          0.2,
          0,
          0,
          0,
          0,
          0,
          0,
          0,
          0,
          0,
          0,
          0,
          0,
          0,
          0,
          0,
          0,
          0,
          0,
          0,
          0,
          0,
          0,
          0,
          0,
          3.6,
          2.8,
          0,
          0,
          0,
          0,
          0,
          0,
          0,
          0,
          0,
          0,
          0,
          0,
          0,
          0,
          0,
          0,
          0,
          0,
          0.6,
          0,
          0.8,
          0,
          0,
          0,
          0,
          0,
          0,
          0.8,
          0,
          0,
          0,
          0,
          0,
          0,
          0,
          0,
          0,
          0,
          0,
          1.2,
          3,
          0,
          0,
          0,
          1.4,
          1.2,
          0,
          0,
          0,
          0.4,
          0,
          0,
          0,
          0,
          1.6,
          0,
          0,
          0,
          0,
          0.8,
          0,
          0,
          0,
          0,
          0,
          0,
          1.4,
          0,
          0,
          0,
          0,
          0,
          0,
          0,
          0,
          0,
          6.6,
          5.4,
          7.2,
          3.4,
          0,
          0,
          0,
          11.6,
          5,
          9.2,
          0.8,
          0.6,
          0,
          0,
          0,
          0,
          0,
          0,
          0,
          5.4,
          0.2,
          0,
          0,
          1.2,
          3.8,
          2,
          5.6,
          0.6,
          2,
          4,
          0.4
         ],
         "yaxis": "y2"
        }
       ],
       "layout": {
        "template": {
         "data": {
          "bar": [
           {
            "error_x": {
             "color": "#2a3f5f"
            },
            "error_y": {
             "color": "#2a3f5f"
            },
            "marker": {
             "line": {
              "color": "#E5ECF6",
              "width": 0.5
             }
            },
            "type": "bar"
           }
          ],
          "barpolar": [
           {
            "marker": {
             "line": {
              "color": "#E5ECF6",
              "width": 0.5
             }
            },
            "type": "barpolar"
           }
          ],
          "carpet": [
           {
            "aaxis": {
             "endlinecolor": "#2a3f5f",
             "gridcolor": "white",
             "linecolor": "white",
             "minorgridcolor": "white",
             "startlinecolor": "#2a3f5f"
            },
            "baxis": {
             "endlinecolor": "#2a3f5f",
             "gridcolor": "white",
             "linecolor": "white",
             "minorgridcolor": "white",
             "startlinecolor": "#2a3f5f"
            },
            "type": "carpet"
           }
          ],
          "choropleth": [
           {
            "colorbar": {
             "outlinewidth": 0,
             "ticks": ""
            },
            "type": "choropleth"
           }
          ],
          "contour": [
           {
            "colorbar": {
             "outlinewidth": 0,
             "ticks": ""
            },
            "colorscale": [
             [
              0,
              "#0d0887"
             ],
             [
              0.1111111111111111,
              "#46039f"
             ],
             [
              0.2222222222222222,
              "#7201a8"
             ],
             [
              0.3333333333333333,
              "#9c179e"
             ],
             [
              0.4444444444444444,
              "#bd3786"
             ],
             [
              0.5555555555555556,
              "#d8576b"
             ],
             [
              0.6666666666666666,
              "#ed7953"
             ],
             [
              0.7777777777777778,
              "#fb9f3a"
             ],
             [
              0.8888888888888888,
              "#fdca26"
             ],
             [
              1,
              "#f0f921"
             ]
            ],
            "type": "contour"
           }
          ],
          "contourcarpet": [
           {
            "colorbar": {
             "outlinewidth": 0,
             "ticks": ""
            },
            "type": "contourcarpet"
           }
          ],
          "heatmap": [
           {
            "colorbar": {
             "outlinewidth": 0,
             "ticks": ""
            },
            "colorscale": [
             [
              0,
              "#0d0887"
             ],
             [
              0.1111111111111111,
              "#46039f"
             ],
             [
              0.2222222222222222,
              "#7201a8"
             ],
             [
              0.3333333333333333,
              "#9c179e"
             ],
             [
              0.4444444444444444,
              "#bd3786"
             ],
             [
              0.5555555555555556,
              "#d8576b"
             ],
             [
              0.6666666666666666,
              "#ed7953"
             ],
             [
              0.7777777777777778,
              "#fb9f3a"
             ],
             [
              0.8888888888888888,
              "#fdca26"
             ],
             [
              1,
              "#f0f921"
             ]
            ],
            "type": "heatmap"
           }
          ],
          "heatmapgl": [
           {
            "colorbar": {
             "outlinewidth": 0,
             "ticks": ""
            },
            "colorscale": [
             [
              0,
              "#0d0887"
             ],
             [
              0.1111111111111111,
              "#46039f"
             ],
             [
              0.2222222222222222,
              "#7201a8"
             ],
             [
              0.3333333333333333,
              "#9c179e"
             ],
             [
              0.4444444444444444,
              "#bd3786"
             ],
             [
              0.5555555555555556,
              "#d8576b"
             ],
             [
              0.6666666666666666,
              "#ed7953"
             ],
             [
              0.7777777777777778,
              "#fb9f3a"
             ],
             [
              0.8888888888888888,
              "#fdca26"
             ],
             [
              1,
              "#f0f921"
             ]
            ],
            "type": "heatmapgl"
           }
          ],
          "histogram": [
           {
            "marker": {
             "colorbar": {
              "outlinewidth": 0,
              "ticks": ""
             }
            },
            "type": "histogram"
           }
          ],
          "histogram2d": [
           {
            "colorbar": {
             "outlinewidth": 0,
             "ticks": ""
            },
            "colorscale": [
             [
              0,
              "#0d0887"
             ],
             [
              0.1111111111111111,
              "#46039f"
             ],
             [
              0.2222222222222222,
              "#7201a8"
             ],
             [
              0.3333333333333333,
              "#9c179e"
             ],
             [
              0.4444444444444444,
              "#bd3786"
             ],
             [
              0.5555555555555556,
              "#d8576b"
             ],
             [
              0.6666666666666666,
              "#ed7953"
             ],
             [
              0.7777777777777778,
              "#fb9f3a"
             ],
             [
              0.8888888888888888,
              "#fdca26"
             ],
             [
              1,
              "#f0f921"
             ]
            ],
            "type": "histogram2d"
           }
          ],
          "histogram2dcontour": [
           {
            "colorbar": {
             "outlinewidth": 0,
             "ticks": ""
            },
            "colorscale": [
             [
              0,
              "#0d0887"
             ],
             [
              0.1111111111111111,
              "#46039f"
             ],
             [
              0.2222222222222222,
              "#7201a8"
             ],
             [
              0.3333333333333333,
              "#9c179e"
             ],
             [
              0.4444444444444444,
              "#bd3786"
             ],
             [
              0.5555555555555556,
              "#d8576b"
             ],
             [
              0.6666666666666666,
              "#ed7953"
             ],
             [
              0.7777777777777778,
              "#fb9f3a"
             ],
             [
              0.8888888888888888,
              "#fdca26"
             ],
             [
              1,
              "#f0f921"
             ]
            ],
            "type": "histogram2dcontour"
           }
          ],
          "mesh3d": [
           {
            "colorbar": {
             "outlinewidth": 0,
             "ticks": ""
            },
            "type": "mesh3d"
           }
          ],
          "parcoords": [
           {
            "line": {
             "colorbar": {
              "outlinewidth": 0,
              "ticks": ""
             }
            },
            "type": "parcoords"
           }
          ],
          "scatter": [
           {
            "marker": {
             "colorbar": {
              "outlinewidth": 0,
              "ticks": ""
             }
            },
            "type": "scatter"
           }
          ],
          "scatter3d": [
           {
            "line": {
             "colorbar": {
              "outlinewidth": 0,
              "ticks": ""
             }
            },
            "marker": {
             "colorbar": {
              "outlinewidth": 0,
              "ticks": ""
             }
            },
            "type": "scatter3d"
           }
          ],
          "scattercarpet": [
           {
            "marker": {
             "colorbar": {
              "outlinewidth": 0,
              "ticks": ""
             }
            },
            "type": "scattercarpet"
           }
          ],
          "scattergeo": [
           {
            "marker": {
             "colorbar": {
              "outlinewidth": 0,
              "ticks": ""
             }
            },
            "type": "scattergeo"
           }
          ],
          "scattergl": [
           {
            "marker": {
             "colorbar": {
              "outlinewidth": 0,
              "ticks": ""
             }
            },
            "type": "scattergl"
           }
          ],
          "scattermapbox": [
           {
            "marker": {
             "colorbar": {
              "outlinewidth": 0,
              "ticks": ""
             }
            },
            "type": "scattermapbox"
           }
          ],
          "scatterpolar": [
           {
            "marker": {
             "colorbar": {
              "outlinewidth": 0,
              "ticks": ""
             }
            },
            "type": "scatterpolar"
           }
          ],
          "scatterpolargl": [
           {
            "marker": {
             "colorbar": {
              "outlinewidth": 0,
              "ticks": ""
             }
            },
            "type": "scatterpolargl"
           }
          ],
          "scatterternary": [
           {
            "marker": {
             "colorbar": {
              "outlinewidth": 0,
              "ticks": ""
             }
            },
            "type": "scatterternary"
           }
          ],
          "surface": [
           {
            "colorbar": {
             "outlinewidth": 0,
             "ticks": ""
            },
            "colorscale": [
             [
              0,
              "#0d0887"
             ],
             [
              0.1111111111111111,
              "#46039f"
             ],
             [
              0.2222222222222222,
              "#7201a8"
             ],
             [
              0.3333333333333333,
              "#9c179e"
             ],
             [
              0.4444444444444444,
              "#bd3786"
             ],
             [
              0.5555555555555556,
              "#d8576b"
             ],
             [
              0.6666666666666666,
              "#ed7953"
             ],
             [
              0.7777777777777778,
              "#fb9f3a"
             ],
             [
              0.8888888888888888,
              "#fdca26"
             ],
             [
              1,
              "#f0f921"
             ]
            ],
            "type": "surface"
           }
          ],
          "table": [
           {
            "cells": {
             "fill": {
              "color": "#EBF0F8"
             },
             "line": {
              "color": "white"
             }
            },
            "header": {
             "fill": {
              "color": "#C8D4E3"
             },
             "line": {
              "color": "white"
             }
            },
            "type": "table"
           }
          ]
         },
         "layout": {
          "annotationdefaults": {
           "arrowcolor": "#2a3f5f",
           "arrowhead": 0,
           "arrowwidth": 1
          },
          "colorscale": {
           "diverging": [
            [
             0,
             "#8e0152"
            ],
            [
             0.1,
             "#c51b7d"
            ],
            [
             0.2,
             "#de77ae"
            ],
            [
             0.3,
             "#f1b6da"
            ],
            [
             0.4,
             "#fde0ef"
            ],
            [
             0.5,
             "#f7f7f7"
            ],
            [
             0.6,
             "#e6f5d0"
            ],
            [
             0.7,
             "#b8e186"
            ],
            [
             0.8,
             "#7fbc41"
            ],
            [
             0.9,
             "#4d9221"
            ],
            [
             1,
             "#276419"
            ]
           ],
           "sequential": [
            [
             0,
             "#0d0887"
            ],
            [
             0.1111111111111111,
             "#46039f"
            ],
            [
             0.2222222222222222,
             "#7201a8"
            ],
            [
             0.3333333333333333,
             "#9c179e"
            ],
            [
             0.4444444444444444,
             "#bd3786"
            ],
            [
             0.5555555555555556,
             "#d8576b"
            ],
            [
             0.6666666666666666,
             "#ed7953"
            ],
            [
             0.7777777777777778,
             "#fb9f3a"
            ],
            [
             0.8888888888888888,
             "#fdca26"
            ],
            [
             1,
             "#f0f921"
            ]
           ],
           "sequentialminus": [
            [
             0,
             "#0d0887"
            ],
            [
             0.1111111111111111,
             "#46039f"
            ],
            [
             0.2222222222222222,
             "#7201a8"
            ],
            [
             0.3333333333333333,
             "#9c179e"
            ],
            [
             0.4444444444444444,
             "#bd3786"
            ],
            [
             0.5555555555555556,
             "#d8576b"
            ],
            [
             0.6666666666666666,
             "#ed7953"
            ],
            [
             0.7777777777777778,
             "#fb9f3a"
            ],
            [
             0.8888888888888888,
             "#fdca26"
            ],
            [
             1,
             "#f0f921"
            ]
           ]
          },
          "colorway": [
           "#636efa",
           "#EF553B",
           "#00cc96",
           "#ab63fa",
           "#FFA15A",
           "#19d3f3",
           "#FF6692",
           "#B6E880",
           "#FF97FF",
           "#FECB52"
          ],
          "font": {
           "color": "#2a3f5f"
          },
          "geo": {
           "bgcolor": "white",
           "lakecolor": "white",
           "landcolor": "#E5ECF6",
           "showlakes": true,
           "showland": true,
           "subunitcolor": "white"
          },
          "hoverlabel": {
           "align": "left"
          },
          "hovermode": "closest",
          "mapbox": {
           "style": "light"
          },
          "paper_bgcolor": "white",
          "plot_bgcolor": "#E5ECF6",
          "polar": {
           "angularaxis": {
            "gridcolor": "white",
            "linecolor": "white",
            "ticks": ""
           },
           "bgcolor": "#E5ECF6",
           "radialaxis": {
            "gridcolor": "white",
            "linecolor": "white",
            "ticks": ""
           }
          },
          "scene": {
           "xaxis": {
            "backgroundcolor": "#E5ECF6",
            "gridcolor": "white",
            "gridwidth": 2,
            "linecolor": "white",
            "showbackground": true,
            "ticks": "",
            "zerolinecolor": "white"
           },
           "yaxis": {
            "backgroundcolor": "#E5ECF6",
            "gridcolor": "white",
            "gridwidth": 2,
            "linecolor": "white",
            "showbackground": true,
            "ticks": "",
            "zerolinecolor": "white"
           },
           "zaxis": {
            "backgroundcolor": "#E5ECF6",
            "gridcolor": "white",
            "gridwidth": 2,
            "linecolor": "white",
            "showbackground": true,
            "ticks": "",
            "zerolinecolor": "white"
           }
          },
          "shapedefaults": {
           "line": {
            "color": "#2a3f5f"
           }
          },
          "ternary": {
           "aaxis": {
            "gridcolor": "white",
            "linecolor": "white",
            "ticks": ""
           },
           "baxis": {
            "gridcolor": "white",
            "linecolor": "white",
            "ticks": ""
           },
           "bgcolor": "#E5ECF6",
           "caxis": {
            "gridcolor": "white",
            "linecolor": "white",
            "ticks": ""
           }
          },
          "title": {
           "x": 0.05
          },
          "xaxis": {
           "automargin": true,
           "gridcolor": "white",
           "linecolor": "white",
           "ticks": "",
           "zerolinecolor": "white",
           "zerolinewidth": 2
          },
          "yaxis": {
           "automargin": true,
           "gridcolor": "white",
           "linecolor": "white",
           "ticks": "",
           "zerolinecolor": "white",
           "zerolinewidth": 2
          }
         }
        },
        "title": {
         "text": "Adelaide, Australia - Temperature and Rainfall"
        },
        "xaxis": {
         "anchor": "y",
         "domain": [
          0,
          1
         ],
         "matches": "x2",
         "showticklabels": false
        },
        "xaxis2": {
         "anchor": "y2",
         "domain": [
          0,
          1
         ]
        },
        "yaxis": {
         "anchor": "x",
         "domain": [
          0.2525,
          1
         ],
         "title": {
          "font": {
           "size": 11
          },
          "text": "Temperature (°C)"
         }
        },
        "yaxis2": {
         "anchor": "x2",
         "domain": [
          0,
          0.2425
         ],
         "title": {
          "font": {
           "size": 11
          },
          "text": "Rainfall mm"
         }
        }
       }
      },
      "text/html": [
       "<div>\n",
       "        \n",
       "        \n",
       "            <div id=\"6b940cc5-2add-4bc3-8d46-4a81dfd329d9\" class=\"plotly-graph-div\" style=\"height:525px; width:100%;\"></div>\n",
       "            <script type=\"text/javascript\">\n",
       "                require([\"plotly\"], function(Plotly) {\n",
       "                    window.PLOTLYENV=window.PLOTLYENV || {};\n",
       "                    \n",
       "                if (document.getElementById(\"6b940cc5-2add-4bc3-8d46-4a81dfd329d9\")) {\n",
       "                    Plotly.newPlot(\n",
       "                        '6b940cc5-2add-4bc3-8d46-4a81dfd329d9',\n",
       "                        [{\"fill\": \"toself\", \"line\": {\"color\": \"blue\"}, \"mode\": \"lines\", \"name\": \"Winter\", \"type\": \"scatter\", \"x\": [\"2018-06-01T00:00:00\", \"2018-06-02T00:00:00\", \"2018-06-03T00:00:00\", \"2018-06-04T00:00:00\", \"2018-06-05T00:00:00\", \"2018-06-06T00:00:00\", \"2018-06-07T00:00:00\", \"2018-06-08T00:00:00\", \"2018-06-09T00:00:00\", \"2018-06-10T00:00:00\", \"2018-06-11T00:00:00\", \"2018-06-12T00:00:00\", \"2018-06-13T00:00:00\", \"2018-06-14T00:00:00\", \"2018-06-15T00:00:00\", \"2018-06-16T00:00:00\", \"2018-06-17T00:00:00\", \"2018-06-18T00:00:00\", \"2018-06-19T00:00:00\", \"2018-06-20T00:00:00\", \"2018-06-21T00:00:00\", \"2018-06-22T00:00:00\", \"2018-06-23T00:00:00\", \"2018-06-24T00:00:00\", \"2018-06-25T00:00:00\", \"2018-06-26T00:00:00\", \"2018-06-27T00:00:00\", \"2018-06-28T00:00:00\", \"2018-06-29T00:00:00\", \"2018-06-30T00:00:00\", \"2018-07-01T00:00:00\", \"2018-07-02T00:00:00\", \"2018-07-03T00:00:00\", \"2018-07-04T00:00:00\", \"2018-07-05T00:00:00\", \"2018-07-06T00:00:00\", \"2018-07-07T00:00:00\", \"2018-07-08T00:00:00\", \"2018-07-09T00:00:00\", \"2018-07-10T00:00:00\", \"2018-07-11T00:00:00\", \"2018-07-12T00:00:00\", \"2018-07-13T00:00:00\", \"2018-07-14T00:00:00\", \"2018-07-15T00:00:00\", \"2018-07-16T00:00:00\", \"2018-07-17T00:00:00\", \"2018-07-18T00:00:00\", \"2018-07-19T00:00:00\", \"2018-07-20T00:00:00\", \"2018-07-21T00:00:00\", \"2018-07-22T00:00:00\", \"2018-07-23T00:00:00\", \"2018-07-24T00:00:00\", \"2018-07-25T00:00:00\", \"2018-07-26T00:00:00\", \"2018-07-27T00:00:00\", \"2018-07-28T00:00:00\", \"2018-07-29T00:00:00\", \"2018-07-30T00:00:00\", \"2018-07-31T00:00:00\", \"2018-08-01T00:00:00\", \"2018-08-02T00:00:00\", \"2018-08-03T00:00:00\", \"2018-08-04T00:00:00\", \"2018-08-05T00:00:00\", \"2018-08-06T00:00:00\", \"2018-08-07T00:00:00\", \"2018-08-08T00:00:00\", \"2018-08-09T00:00:00\", \"2018-08-10T00:00:00\", \"2018-08-11T00:00:00\", \"2018-08-12T00:00:00\", \"2018-08-13T00:00:00\", \"2018-08-14T00:00:00\", \"2018-08-15T00:00:00\", \"2018-08-16T00:00:00\", \"2018-08-17T00:00:00\", \"2018-08-18T00:00:00\", \"2018-08-19T00:00:00\", \"2018-08-20T00:00:00\", \"2018-08-21T00:00:00\", \"2018-08-22T00:00:00\", \"2018-08-23T00:00:00\", \"2018-08-24T00:00:00\", \"2018-08-25T00:00:00\", \"2018-08-26T00:00:00\", \"2018-08-27T00:00:00\", \"2018-08-28T00:00:00\", \"2018-08-29T00:00:00\", \"2018-08-30T00:00:00\", \"2018-08-31T00:00:00\", \"2018-09-01T00:00:00\", \"2018-09-01T00:00:00\", \"2018-08-31T00:00:00\", \"2018-08-30T00:00:00\", \"2018-08-29T00:00:00\", \"2018-08-28T00:00:00\", \"2018-08-27T00:00:00\", \"2018-08-26T00:00:00\", \"2018-08-25T00:00:00\", \"2018-08-24T00:00:00\", \"2018-08-23T00:00:00\", \"2018-08-22T00:00:00\", \"2018-08-21T00:00:00\", \"2018-08-20T00:00:00\", \"2018-08-19T00:00:00\", \"2018-08-18T00:00:00\", \"2018-08-17T00:00:00\", \"2018-08-16T00:00:00\", \"2018-08-15T00:00:00\", \"2018-08-14T00:00:00\", \"2018-08-13T00:00:00\", \"2018-08-12T00:00:00\", \"2018-08-11T00:00:00\", \"2018-08-10T00:00:00\", \"2018-08-09T00:00:00\", \"2018-08-08T00:00:00\", \"2018-08-07T00:00:00\", \"2018-08-06T00:00:00\", \"2018-08-05T00:00:00\", \"2018-08-04T00:00:00\", \"2018-08-03T00:00:00\", \"2018-08-02T00:00:00\", \"2018-08-01T00:00:00\", \"2018-07-31T00:00:00\", \"2018-07-30T00:00:00\", \"2018-07-29T00:00:00\", \"2018-07-28T00:00:00\", \"2018-07-27T00:00:00\", \"2018-07-26T00:00:00\", \"2018-07-25T00:00:00\", \"2018-07-24T00:00:00\", \"2018-07-23T00:00:00\", \"2018-07-22T00:00:00\", \"2018-07-21T00:00:00\", \"2018-07-20T00:00:00\", \"2018-07-19T00:00:00\", \"2018-07-18T00:00:00\", \"2018-07-17T00:00:00\", \"2018-07-16T00:00:00\", \"2018-07-15T00:00:00\", \"2018-07-14T00:00:00\", \"2018-07-13T00:00:00\", \"2018-07-12T00:00:00\", \"2018-07-11T00:00:00\", \"2018-07-10T00:00:00\", \"2018-07-09T00:00:00\", \"2018-07-08T00:00:00\", \"2018-07-07T00:00:00\", \"2018-07-06T00:00:00\", \"2018-07-05T00:00:00\", \"2018-07-04T00:00:00\", \"2018-07-03T00:00:00\", \"2018-07-02T00:00:00\", \"2018-07-01T00:00:00\", \"2018-06-30T00:00:00\", \"2018-06-29T00:00:00\", \"2018-06-28T00:00:00\", \"2018-06-27T00:00:00\", \"2018-06-26T00:00:00\", \"2018-06-25T00:00:00\", \"2018-06-24T00:00:00\", \"2018-06-23T00:00:00\", \"2018-06-22T00:00:00\", \"2018-06-21T00:00:00\", \"2018-06-20T00:00:00\", \"2018-06-19T00:00:00\", \"2018-06-18T00:00:00\", \"2018-06-17T00:00:00\", \"2018-06-16T00:00:00\", \"2018-06-15T00:00:00\", \"2018-06-14T00:00:00\", \"2018-06-13T00:00:00\", \"2018-06-12T00:00:00\", \"2018-06-11T00:00:00\", \"2018-06-10T00:00:00\", \"2018-06-09T00:00:00\", \"2018-06-08T00:00:00\", \"2018-06-07T00:00:00\", \"2018-06-06T00:00:00\", \"2018-06-05T00:00:00\", \"2018-06-04T00:00:00\", \"2018-06-03T00:00:00\", \"2018-06-02T00:00:00\", \"2018-06-01T00:00:00\"], \"xaxis\": \"x\", \"y\": [17.7, 19.4, 17.2, 15.2, 15.6, 18.6, 18.3, 15.2, 16.6, 20.1, 20.7, 15.2, 15.7, 16.2, 15.3, 13.4, 14.2, 12.7, 13.6, 14.9, 14.6, 15.7, 16.2, 15.4, 13.5, 14.1, 13.2, 14.2, 14.9, 14.5, 15.4, 16.0, 18.7, 18.2, 17.1, 14.2, 14.3, 14.9, 13.8, 13.8, 14.1, 14.3, 14.0, 16.6, 16.1, 16.8, 14.8, 17.1, 12.3, 13.4, 15.7, 17.9, 18.7, 16.4, 16.2, 19.6, 20.8, 15.5, 13.7, 16.1, 15.9, 16.9, 22.9, 14.3, 17.9, 15.0, 13.2, 14.4, 15.5, 19.1, 16.8, 12.4, 14.8, 14.7, 18.2, 15.7, 14.0, 16.2, 13.7, 13.9, 13.6, 15.4, 21.4, 21.1, 21.0, 16.3, 15.0, 15.8, 19.9, 26.3, 20.4, 15.4, 15.3, 10.4, 10.6, 19.2, 13.1, 7.7, 7.2, 4.5, 5.2, 13.0, 11.9, 5.2, 8.3, 5.3, 9.8, 9.8, 7.2, 6.9, 11.5, 6.6, 10.3, 7.6, 8.1, 13.1, 10.1, 11.2, 8.0, 8.1, 12.3, 9.9, 9.2, 9.6, 9.3, 11.4, 10.1, 9.3, 6.4, 13.0, 8.0, 11.2, 11.5, 11.2, 9.5, 7.2, 8.6, 6.1, 5.7, 12.1, 10.4, 5.8, 4.2, 3.0, 7.4, 4.3, 4.6, 9.8, 10.4, 8.9, 9.3, 13.1, 11.3, 8.9, 3.8, 2.9, 10.1, 6.8, 2.2, 2.5, 2.7, 2.8, 5.2, 3.2, 2.8, 6.4, 7.9, 6.6, 5.4, 8.5, 10.4, 10.3, 11.4, 9.9, 12.7, 13.2, 8.6, 12.2, 12.5, 12.2, 5.2, 3.9, 7.3, 4.2, 5.4, 4.0], \"yaxis\": \"y\"}, {\"fill\": \"toself\", \"line\": {\"color\": \"green\"}, \"mode\": \"lines\", \"name\": \"Spring\", \"type\": \"scatter\", \"x\": [\"2018-09-01T00:00:00\", \"2018-09-02T00:00:00\", \"2018-09-03T00:00:00\", \"2018-09-04T00:00:00\", \"2018-09-05T00:00:00\", \"2018-09-06T00:00:00\", \"2018-09-07T00:00:00\", \"2018-09-08T00:00:00\", \"2018-09-09T00:00:00\", \"2018-09-10T00:00:00\", \"2018-09-11T00:00:00\", \"2018-09-12T00:00:00\", \"2018-09-13T00:00:00\", \"2018-09-14T00:00:00\", \"2018-09-15T00:00:00\", \"2018-09-16T00:00:00\", \"2018-09-17T00:00:00\", \"2018-09-18T00:00:00\", \"2018-09-19T00:00:00\", \"2018-09-20T00:00:00\", \"2018-09-21T00:00:00\", \"2018-09-22T00:00:00\", \"2018-09-23T00:00:00\", \"2018-09-24T00:00:00\", \"2018-09-25T00:00:00\", \"2018-09-26T00:00:00\", \"2018-09-27T00:00:00\", \"2018-09-28T00:00:00\", \"2018-09-29T00:00:00\", \"2018-09-30T00:00:00\", \"2018-10-01T00:00:00\", \"2018-10-02T00:00:00\", \"2018-10-03T00:00:00\", \"2018-10-04T00:00:00\", \"2018-10-05T00:00:00\", \"2018-10-06T00:00:00\", \"2018-10-07T00:00:00\", \"2018-10-08T00:00:00\", \"2018-10-09T00:00:00\", \"2018-10-10T00:00:00\", \"2018-10-11T00:00:00\", \"2018-10-12T00:00:00\", \"2018-10-13T00:00:00\", \"2018-10-14T00:00:00\", \"2018-10-15T00:00:00\", \"2018-10-16T00:00:00\", \"2018-10-17T00:00:00\", \"2018-10-18T00:00:00\", \"2018-10-19T00:00:00\", \"2018-10-20T00:00:00\", \"2018-10-21T00:00:00\", \"2018-10-22T00:00:00\", \"2018-10-23T00:00:00\", \"2018-10-24T00:00:00\", \"2018-10-25T00:00:00\", \"2018-10-26T00:00:00\", \"2018-10-27T00:00:00\", \"2018-10-28T00:00:00\", \"2018-10-29T00:00:00\", \"2018-10-30T00:00:00\", \"2018-10-31T00:00:00\", \"2018-11-01T00:00:00\", \"2018-11-02T00:00:00\", \"2018-11-03T00:00:00\", \"2018-11-04T00:00:00\", \"2018-11-05T00:00:00\", \"2018-11-06T00:00:00\", \"2018-11-07T00:00:00\", \"2018-11-08T00:00:00\", \"2018-11-09T00:00:00\", \"2018-11-10T00:00:00\", \"2018-11-11T00:00:00\", \"2018-11-12T00:00:00\", \"2018-11-13T00:00:00\", \"2018-11-14T00:00:00\", \"2018-11-15T00:00:00\", \"2018-11-16T00:00:00\", \"2018-11-17T00:00:00\", \"2018-11-18T00:00:00\", \"2018-11-19T00:00:00\", \"2018-11-20T00:00:00\", \"2018-11-21T00:00:00\", \"2018-11-22T00:00:00\", \"2018-11-23T00:00:00\", \"2018-11-24T00:00:00\", \"2018-11-25T00:00:00\", \"2018-11-26T00:00:00\", \"2018-11-27T00:00:00\", \"2018-11-28T00:00:00\", \"2018-11-29T00:00:00\", \"2018-11-30T00:00:00\", \"2018-12-01T00:00:00\", \"2018-12-01T00:00:00\", \"2018-11-30T00:00:00\", \"2018-11-29T00:00:00\", \"2018-11-28T00:00:00\", \"2018-11-27T00:00:00\", \"2018-11-26T00:00:00\", \"2018-11-25T00:00:00\", \"2018-11-24T00:00:00\", \"2018-11-23T00:00:00\", \"2018-11-22T00:00:00\", \"2018-11-21T00:00:00\", \"2018-11-20T00:00:00\", \"2018-11-19T00:00:00\", \"2018-11-18T00:00:00\", \"2018-11-17T00:00:00\", \"2018-11-16T00:00:00\", \"2018-11-15T00:00:00\", \"2018-11-14T00:00:00\", \"2018-11-13T00:00:00\", \"2018-11-12T00:00:00\", \"2018-11-11T00:00:00\", \"2018-11-10T00:00:00\", \"2018-11-09T00:00:00\", \"2018-11-08T00:00:00\", \"2018-11-07T00:00:00\", \"2018-11-06T00:00:00\", \"2018-11-05T00:00:00\", \"2018-11-04T00:00:00\", \"2018-11-03T00:00:00\", \"2018-11-02T00:00:00\", \"2018-11-01T00:00:00\", \"2018-10-31T00:00:00\", \"2018-10-30T00:00:00\", \"2018-10-29T00:00:00\", \"2018-10-28T00:00:00\", \"2018-10-27T00:00:00\", \"2018-10-26T00:00:00\", \"2018-10-25T00:00:00\", \"2018-10-24T00:00:00\", \"2018-10-23T00:00:00\", \"2018-10-22T00:00:00\", \"2018-10-21T00:00:00\", \"2018-10-20T00:00:00\", \"2018-10-19T00:00:00\", \"2018-10-18T00:00:00\", \"2018-10-17T00:00:00\", \"2018-10-16T00:00:00\", \"2018-10-15T00:00:00\", \"2018-10-14T00:00:00\", \"2018-10-13T00:00:00\", \"2018-10-12T00:00:00\", \"2018-10-11T00:00:00\", \"2018-10-10T00:00:00\", \"2018-10-09T00:00:00\", \"2018-10-08T00:00:00\", \"2018-10-07T00:00:00\", \"2018-10-06T00:00:00\", \"2018-10-05T00:00:00\", \"2018-10-04T00:00:00\", \"2018-10-03T00:00:00\", \"2018-10-02T00:00:00\", \"2018-10-01T00:00:00\", \"2018-09-30T00:00:00\", \"2018-09-29T00:00:00\", \"2018-09-28T00:00:00\", \"2018-09-27T00:00:00\", \"2018-09-26T00:00:00\", \"2018-09-25T00:00:00\", \"2018-09-24T00:00:00\", \"2018-09-23T00:00:00\", \"2018-09-22T00:00:00\", \"2018-09-21T00:00:00\", \"2018-09-20T00:00:00\", \"2018-09-19T00:00:00\", \"2018-09-18T00:00:00\", \"2018-09-17T00:00:00\", \"2018-09-16T00:00:00\", \"2018-09-15T00:00:00\", \"2018-09-14T00:00:00\", \"2018-09-13T00:00:00\", \"2018-09-12T00:00:00\", \"2018-09-11T00:00:00\", \"2018-09-10T00:00:00\", \"2018-09-09T00:00:00\", \"2018-09-08T00:00:00\", \"2018-09-07T00:00:00\", \"2018-09-06T00:00:00\", \"2018-09-05T00:00:00\", \"2018-09-04T00:00:00\", \"2018-09-03T00:00:00\", \"2018-09-02T00:00:00\", \"2018-09-01T00:00:00\"], \"xaxis\": \"x\", \"y\": [15.3, 14.8, 15.2, 17.8, 21.2, 16.1, 14.9, 17.8, 19.1, 24.8, 22.7, 16.0, 18.7, 26.0, 13.7, 15.1, 19.4, 16.1, 15.0, 15.9, 19.0, 20.3, 19.9, 17.9, 18.9, 24.5, 17.5, 16.5, 16.0, 23.1, 24.9, 29.5, 19.9, 17.0, 18.1, 22.7, 28.6, 28.9, 16.2, 18.7, 22.1, 26.5, 29.5, 29.3, 27.3, 15.8, 15.2, 23.5, 27.2, 17.7, 23.0, 29.0, 18.0, 20.4, 21.4, 21.2, 23.6, 20.7, 19.4, 24.6, 33.2, 33.8, 23.5, 20.1, 26.6, 25.0, 20.0, 17.2, 18.7, 22.8, 23.9, 29.8, 33.8, 23.2, 20.5, 23.1, 21.4, 25.6, 30.7, 36.6, 18.9, 16.7, 17.8, 18.0, 20.5, 21.4, 20.3, 19.8, 20.0, 20.2, 28.8, 32.7, 16.5, 9.8, 10.5, 13.8, 13.6, 11.6, 12.7, 7.7, 10.8, 9.8, 13.5, 14.3, 21.0, 15.9, 11.1, 9.5, 11.1, 14.8, 18.6, 19.6, 10.0, 9.4, 9.3, 8.4, 11.0, 15.3, 17.4, 12.1, 15.5, 19.3, 20.5, 11.9, 7.9, 8.5, 13.2, 8.8, 8.1, 8.4, 7.5, 13.6, 13.5, 7.8, 13.1, 12.1, 11.6, 12.7, 14.1, 19.1, 21.8, 13.6, 13.8, 8.5, 10.5, 13.6, 18.3, 12.9, 8.3, 9.5, 11.1, 14.6, 13.6, 13.9, 4.3, 4.6, 11.9, 11.5, 7.0, 4.7, 6.2, 7.6, 7.3, 11.8, 9.0, 9.7, 11.4, 5.1, 6.2, 8.3, 9.7, 6.7, 11.0, 13.5, 7.6, 7.7, 7.1, 4.2, 12.0, 5.9, 2.9, 3.5, 7.6, 10.4], \"yaxis\": \"y\"}, {\"fill\": \"toself\", \"line\": {\"color\": \"red\"}, \"mode\": \"lines\", \"name\": \"Summer\", \"type\": \"scatter\", \"x\": [\"2018-12-01T00:00:00\", \"2018-12-02T00:00:00\", \"2018-12-03T00:00:00\", \"2018-12-04T00:00:00\", \"2018-12-05T00:00:00\", \"2018-12-06T00:00:00\", \"2018-12-07T00:00:00\", \"2018-12-08T00:00:00\", \"2018-12-09T00:00:00\", \"2018-12-10T00:00:00\", \"2018-12-11T00:00:00\", \"2018-12-12T00:00:00\", \"2018-12-13T00:00:00\", \"2018-12-14T00:00:00\", \"2018-12-15T00:00:00\", \"2018-12-16T00:00:00\", \"2018-12-17T00:00:00\", \"2018-12-18T00:00:00\", \"2018-12-19T00:00:00\", \"2018-12-20T00:00:00\", \"2018-12-21T00:00:00\", \"2018-12-22T00:00:00\", \"2018-12-23T00:00:00\", \"2018-12-24T00:00:00\", \"2018-12-25T00:00:00\", \"2018-12-26T00:00:00\", \"2018-12-27T00:00:00\", \"2018-12-28T00:00:00\", \"2018-12-29T00:00:00\", \"2018-12-30T00:00:00\", \"2018-12-31T00:00:00\", \"2019-01-01T00:00:00\", \"2019-01-02T00:00:00\", \"2019-01-03T00:00:00\", \"2019-01-04T00:00:00\", \"2019-01-05T00:00:00\", \"2019-01-06T00:00:00\", \"2019-01-07T00:00:00\", \"2019-01-08T00:00:00\", \"2019-01-09T00:00:00\", \"2019-01-10T00:00:00\", \"2019-01-11T00:00:00\", \"2019-01-12T00:00:00\", \"2019-01-13T00:00:00\", \"2019-01-14T00:00:00\", \"2019-01-15T00:00:00\", \"2019-01-16T00:00:00\", \"2019-01-17T00:00:00\", \"2019-01-18T00:00:00\", \"2019-01-19T00:00:00\", \"2019-01-20T00:00:00\", \"2019-01-21T00:00:00\", \"2019-01-22T00:00:00\", \"2019-01-23T00:00:00\", \"2019-01-24T00:00:00\", \"2019-01-25T00:00:00\", \"2019-01-26T00:00:00\", \"2019-01-27T00:00:00\", \"2019-01-28T00:00:00\", \"2019-01-29T00:00:00\", \"2019-01-30T00:00:00\", \"2019-01-31T00:00:00\", \"2019-02-01T00:00:00\", \"2019-02-02T00:00:00\", \"2019-02-03T00:00:00\", \"2019-02-04T00:00:00\", \"2019-02-05T00:00:00\", \"2019-02-06T00:00:00\", \"2019-02-07T00:00:00\", \"2019-02-08T00:00:00\", \"2019-02-09T00:00:00\", \"2019-02-10T00:00:00\", \"2019-02-11T00:00:00\", \"2019-02-12T00:00:00\", \"2019-02-13T00:00:00\", \"2019-02-14T00:00:00\", \"2019-02-15T00:00:00\", \"2019-02-16T00:00:00\", \"2019-02-17T00:00:00\", \"2019-02-18T00:00:00\", \"2019-02-19T00:00:00\", \"2019-02-20T00:00:00\", \"2019-02-21T00:00:00\", \"2019-02-22T00:00:00\", \"2019-02-23T00:00:00\", \"2019-02-24T00:00:00\", \"2019-02-25T00:00:00\", \"2019-02-26T00:00:00\", \"2019-02-27T00:00:00\", \"2019-02-28T00:00:00\", \"2019-03-01T00:00:00\", \"2019-03-01T00:00:00\", \"2019-02-28T00:00:00\", \"2019-02-27T00:00:00\", \"2019-02-26T00:00:00\", \"2019-02-25T00:00:00\", \"2019-02-24T00:00:00\", \"2019-02-23T00:00:00\", \"2019-02-22T00:00:00\", \"2019-02-21T00:00:00\", \"2019-02-20T00:00:00\", \"2019-02-19T00:00:00\", \"2019-02-18T00:00:00\", \"2019-02-17T00:00:00\", \"2019-02-16T00:00:00\", \"2019-02-15T00:00:00\", \"2019-02-14T00:00:00\", \"2019-02-13T00:00:00\", \"2019-02-12T00:00:00\", \"2019-02-11T00:00:00\", \"2019-02-10T00:00:00\", \"2019-02-09T00:00:00\", \"2019-02-08T00:00:00\", \"2019-02-07T00:00:00\", \"2019-02-06T00:00:00\", \"2019-02-05T00:00:00\", \"2019-02-04T00:00:00\", \"2019-02-03T00:00:00\", \"2019-02-02T00:00:00\", \"2019-02-01T00:00:00\", \"2019-01-31T00:00:00\", \"2019-01-30T00:00:00\", \"2019-01-29T00:00:00\", \"2019-01-28T00:00:00\", \"2019-01-27T00:00:00\", \"2019-01-26T00:00:00\", \"2019-01-25T00:00:00\", \"2019-01-24T00:00:00\", \"2019-01-23T00:00:00\", \"2019-01-22T00:00:00\", \"2019-01-21T00:00:00\", \"2019-01-20T00:00:00\", \"2019-01-19T00:00:00\", \"2019-01-18T00:00:00\", \"2019-01-17T00:00:00\", \"2019-01-16T00:00:00\", \"2019-01-15T00:00:00\", \"2019-01-14T00:00:00\", \"2019-01-13T00:00:00\", \"2019-01-12T00:00:00\", \"2019-01-11T00:00:00\", \"2019-01-10T00:00:00\", \"2019-01-09T00:00:00\", \"2019-01-08T00:00:00\", \"2019-01-07T00:00:00\", \"2019-01-06T00:00:00\", \"2019-01-05T00:00:00\", \"2019-01-04T00:00:00\", \"2019-01-03T00:00:00\", \"2019-01-02T00:00:00\", \"2019-01-01T00:00:00\", \"2018-12-31T00:00:00\", \"2018-12-30T00:00:00\", \"2018-12-29T00:00:00\", \"2018-12-28T00:00:00\", \"2018-12-27T00:00:00\", \"2018-12-26T00:00:00\", \"2018-12-25T00:00:00\", \"2018-12-24T00:00:00\", \"2018-12-23T00:00:00\", \"2018-12-22T00:00:00\", \"2018-12-21T00:00:00\", \"2018-12-20T00:00:00\", \"2018-12-19T00:00:00\", \"2018-12-18T00:00:00\", \"2018-12-17T00:00:00\", \"2018-12-16T00:00:00\", \"2018-12-15T00:00:00\", \"2018-12-14T00:00:00\", \"2018-12-13T00:00:00\", \"2018-12-12T00:00:00\", \"2018-12-11T00:00:00\", \"2018-12-10T00:00:00\", \"2018-12-09T00:00:00\", \"2018-12-08T00:00:00\", \"2018-12-07T00:00:00\", \"2018-12-06T00:00:00\", \"2018-12-05T00:00:00\", \"2018-12-04T00:00:00\", \"2018-12-03T00:00:00\", \"2018-12-02T00:00:00\", \"2018-12-01T00:00:00\"], \"xaxis\": \"x\", \"y\": [32.7, 20.3, 21.0, 27.4, 32.6, 37.9, 37.5, 22.9, 27.6, 28.3, 31.2, 34.0, 17.3, 22.4, 22.2, 21.5, 27.5, 28.9, 35.5, 24.8, 22.1, 23.1, 27.0, 35.1, 32.4, 32.8, 40.9, 35.8, 30.5, 29.1, 25.8, 29.6, 33.6, 40.1, 24.1, 22.4, 25.1, 24.5, 23.7, 25.2, 28.5, 37.3, 32.4, 34.4, 35.2, 39.4, 39.0, 38.9, 25.8, 29.2, 31.6, 30.5, 35.2, 38.6, 45.8, 26.9, 24.7, 24.8, 26.7, 30.1, 38.6, 25.7, 29.5, 36.8, 33.0, 27.2, 31.0, 28.1, 29.3, 23.0, 22.7, 22.2, 25.6, 20.4, 21.7, 22.2, 26.0, 26.8, 32.3, 23.1, 22.7, 23.2, 26.7, 31.8, 32.2, 33.5, 35.5, 35.7, 35.0, 33.7, 38.8, 19.5, 19.8, 20.5, 19.3, 20.7, 16.1, 17.4, 13.2, 14.9, 14.5, 16.8, 19.3, 15.1, 13.9, 12.9, 12.1, 13.3, 16.2, 18.5, 15.5, 16.0, 17.9, 18.5, 19.3, 15.9, 18.9, 20.8, 13.1, 14.5, 17.6, 16.5, 15.4, 14.9, 16.1, 17.3, 23.5, 27.0, 22.7, 21.5, 20.2, 16.4, 15.6, 21.7, 23.7, 20.5, 19.5, 16.0, 15.6, 21.4, 15.3, 14.0, 14.4, 13.3, 13.7, 13.6, 16.9, 23.3, 17.3, 15.8, 13.2, 15.9, 17.4, 23.1, 22.2, 17.1, 16.1, 15.3, 14.1, 10.3, 11.3, 15.0, 17.1, 20.6, 18.6, 15.8, 17.1, 15.2, 12.0, 12.8, 19.9, 16.3, 14.7, 16.0, 18.7, 23.7, 21.7, 14.4, 12.3, 15.3, 14.0, 16.5], \"yaxis\": \"y\"}, {\"fill\": \"toself\", \"line\": {\"color\": \"orange\"}, \"mode\": \"lines\", \"name\": \"Autumn\", \"type\": \"scatter\", \"x\": [\"2019-03-01T00:00:00\", \"2019-03-02T00:00:00\", \"2019-03-03T00:00:00\", \"2019-03-04T00:00:00\", \"2019-03-05T00:00:00\", \"2019-03-06T00:00:00\", \"2019-03-07T00:00:00\", \"2019-03-08T00:00:00\", \"2019-03-09T00:00:00\", \"2019-03-10T00:00:00\", \"2019-03-11T00:00:00\", \"2019-03-12T00:00:00\", \"2019-03-13T00:00:00\", \"2019-03-14T00:00:00\", \"2019-03-15T00:00:00\", \"2019-03-16T00:00:00\", \"2019-03-17T00:00:00\", \"2019-03-18T00:00:00\", \"2019-03-19T00:00:00\", \"2019-03-20T00:00:00\", \"2019-03-21T00:00:00\", \"2019-03-22T00:00:00\", \"2019-03-23T00:00:00\", \"2019-03-24T00:00:00\", \"2019-03-25T00:00:00\", \"2019-03-26T00:00:00\", \"2019-03-27T00:00:00\", \"2019-03-28T00:00:00\", \"2019-03-29T00:00:00\", \"2019-03-30T00:00:00\", \"2019-03-31T00:00:00\", \"2019-04-01T00:00:00\", \"2019-04-02T00:00:00\", \"2019-04-03T00:00:00\", \"2019-04-04T00:00:00\", \"2019-04-05T00:00:00\", \"2019-04-06T00:00:00\", \"2019-04-07T00:00:00\", \"2019-04-08T00:00:00\", \"2019-04-09T00:00:00\", \"2019-04-10T00:00:00\", \"2019-04-11T00:00:00\", \"2019-04-12T00:00:00\", \"2019-04-13T00:00:00\", \"2019-04-14T00:00:00\", \"2019-04-15T00:00:00\", \"2019-04-16T00:00:00\", \"2019-04-17T00:00:00\", \"2019-04-18T00:00:00\", \"2019-04-19T00:00:00\", \"2019-04-20T00:00:00\", \"2019-04-21T00:00:00\", \"2019-04-22T00:00:00\", \"2019-04-23T00:00:00\", \"2019-04-24T00:00:00\", \"2019-04-25T00:00:00\", \"2019-04-26T00:00:00\", \"2019-04-27T00:00:00\", \"2019-04-28T00:00:00\", \"2019-04-29T00:00:00\", \"2019-04-30T00:00:00\", \"2019-05-01T00:00:00\", \"2019-05-02T00:00:00\", \"2019-05-03T00:00:00\", \"2019-05-04T00:00:00\", \"2019-05-05T00:00:00\", \"2019-05-06T00:00:00\", \"2019-05-07T00:00:00\", \"2019-05-08T00:00:00\", \"2019-05-09T00:00:00\", \"2019-05-10T00:00:00\", \"2019-05-11T00:00:00\", \"2019-05-12T00:00:00\", \"2019-05-13T00:00:00\", \"2019-05-14T00:00:00\", \"2019-05-15T00:00:00\", \"2019-05-16T00:00:00\", \"2019-05-17T00:00:00\", \"2019-05-18T00:00:00\", \"2019-05-19T00:00:00\", \"2019-05-20T00:00:00\", \"2019-05-21T00:00:00\", \"2019-05-22T00:00:00\", \"2019-05-23T00:00:00\", \"2019-05-24T00:00:00\", \"2019-05-25T00:00:00\", \"2019-05-26T00:00:00\", \"2019-05-27T00:00:00\", \"2019-05-28T00:00:00\", \"2019-05-29T00:00:00\", \"2019-05-30T00:00:00\", \"2019-05-31T00:00:00\", \"2019-05-31T00:00:00\", \"2019-05-30T00:00:00\", \"2019-05-29T00:00:00\", \"2019-05-28T00:00:00\", \"2019-05-27T00:00:00\", \"2019-05-26T00:00:00\", \"2019-05-25T00:00:00\", \"2019-05-24T00:00:00\", \"2019-05-23T00:00:00\", \"2019-05-22T00:00:00\", \"2019-05-21T00:00:00\", \"2019-05-20T00:00:00\", \"2019-05-19T00:00:00\", \"2019-05-18T00:00:00\", \"2019-05-17T00:00:00\", \"2019-05-16T00:00:00\", \"2019-05-15T00:00:00\", \"2019-05-14T00:00:00\", \"2019-05-13T00:00:00\", \"2019-05-12T00:00:00\", \"2019-05-11T00:00:00\", \"2019-05-10T00:00:00\", \"2019-05-09T00:00:00\", \"2019-05-08T00:00:00\", \"2019-05-07T00:00:00\", \"2019-05-06T00:00:00\", \"2019-05-05T00:00:00\", \"2019-05-04T00:00:00\", \"2019-05-03T00:00:00\", \"2019-05-02T00:00:00\", \"2019-05-01T00:00:00\", \"2019-04-30T00:00:00\", \"2019-04-29T00:00:00\", \"2019-04-28T00:00:00\", \"2019-04-27T00:00:00\", \"2019-04-26T00:00:00\", \"2019-04-25T00:00:00\", \"2019-04-24T00:00:00\", \"2019-04-23T00:00:00\", \"2019-04-22T00:00:00\", \"2019-04-21T00:00:00\", \"2019-04-20T00:00:00\", \"2019-04-19T00:00:00\", \"2019-04-18T00:00:00\", \"2019-04-17T00:00:00\", \"2019-04-16T00:00:00\", \"2019-04-15T00:00:00\", \"2019-04-14T00:00:00\", \"2019-04-13T00:00:00\", \"2019-04-12T00:00:00\", \"2019-04-11T00:00:00\", \"2019-04-10T00:00:00\", \"2019-04-09T00:00:00\", \"2019-04-08T00:00:00\", \"2019-04-07T00:00:00\", \"2019-04-06T00:00:00\", \"2019-04-05T00:00:00\", \"2019-04-04T00:00:00\", \"2019-04-03T00:00:00\", \"2019-04-02T00:00:00\", \"2019-04-01T00:00:00\", \"2019-03-31T00:00:00\", \"2019-03-30T00:00:00\", \"2019-03-29T00:00:00\", \"2019-03-28T00:00:00\", \"2019-03-27T00:00:00\", \"2019-03-26T00:00:00\", \"2019-03-25T00:00:00\", \"2019-03-24T00:00:00\", \"2019-03-23T00:00:00\", \"2019-03-22T00:00:00\", \"2019-03-21T00:00:00\", \"2019-03-20T00:00:00\", \"2019-03-19T00:00:00\", \"2019-03-18T00:00:00\", \"2019-03-17T00:00:00\", \"2019-03-16T00:00:00\", \"2019-03-15T00:00:00\", \"2019-03-14T00:00:00\", \"2019-03-13T00:00:00\", \"2019-03-12T00:00:00\", \"2019-03-11T00:00:00\", \"2019-03-10T00:00:00\", \"2019-03-09T00:00:00\", \"2019-03-08T00:00:00\", \"2019-03-07T00:00:00\", \"2019-03-06T00:00:00\", \"2019-03-05T00:00:00\", \"2019-03-04T00:00:00\", \"2019-03-03T00:00:00\", \"2019-03-02T00:00:00\", \"2019-03-01T00:00:00\"], \"xaxis\": \"x\", \"y\": [38.8, 39.3, 31.7, 28.8, 23.0, 20.7, 25.1, 25.7, 24.7, 25.4, 22.5, 21.8, 21.3, 23.3, 26.6, 27.6, 28.6, 27.1, 25.4, 26.0, 28.2, 28.5, 23.7, 26.0, 19.3, 20.6, 23.8, 28.8, 20.8, 17.9, 21.1, 20.6, 27.3, 26.3, 31.6, 32.3, 20.4, 22.5, 23.2, 19.2, 19.5, 20.6, 24.7, 23.6, 25.7, 29.6, 33.3, 25.6, 24.0, 32.6, 32.0, 20.0, 20.5, 21.8, 20.1, 20.8, 18.7, 17.9, 18.0, 23.3, 24.3, 19.3, 17.3, 19.3, 18.4, 18.5, 19.4, 17.7, 17.4, 12.8, 15.6, 17.5, 16.9, 19.1, 18.4, 17.9, 18.5, 22.5, 25.4, 23.2, 18.7, 22.5, 19.5, 23.6, 22.8, 17.0, 16.2, 15.8, 16.0, 14.2, 15.2, 15.9, 8.9, 4.6, 11.9, 12.0, 12.2, 12.4, 11.9, 14.0, 7.6, 6.5, 10.5, 10.7, 18.1, 9.0, 10.7, 7.9, 6.7, 7.0, 9.0, 13.6, 11.2, 7.4, 11.3, 11.4, 11.2, 5.6, 13.1, 11.3, 9.9, 11.4, 13.4, 14.1, 9.1, 12.8, 9.9, 15.1, 8.3, 8.3, 10.1, 8.7, 14.6, 19.3, 15.7, 10.4, 23.1, 17.2, 18.1, 15.6, 12.8, 10.2, 9.3, 11.1, 13.4, 14.3, 11.1, 17.4, 22.6, 20.2, 11.4, 10.6, 14.7, 11.7, 10.8, 17.4, 11.9, 10.7, 13.2, 14.0, 19.7, 18.7, 17.0, 17.9, 15.5, 15.4, 14.6, 13.4, 12.5, 14.1, 9.8, 11.9, 18.1, 19.5, 17.5, 15.7, 13.7, 9.6, 16.2, 15.4, 17.5, 20.5, 27.9, 19.5], \"yaxis\": \"y\"}, {\"fill\": \"none\", \"line\": {\"color\": \"blue\"}, \"mode\": \"lines\", \"name\": \"Rain\", \"type\": \"scatter\", \"x\": [\"2018-06-01T00:00:00\", \"2018-06-02T00:00:00\", \"2018-06-03T00:00:00\", \"2018-06-04T00:00:00\", \"2018-06-05T00:00:00\", \"2018-06-06T00:00:00\", \"2018-06-07T00:00:00\", \"2018-06-08T00:00:00\", \"2018-06-09T00:00:00\", \"2018-06-10T00:00:00\", \"2018-06-11T00:00:00\", \"2018-06-12T00:00:00\", \"2018-06-13T00:00:00\", \"2018-06-14T00:00:00\", \"2018-06-15T00:00:00\", \"2018-06-16T00:00:00\", \"2018-06-17T00:00:00\", \"2018-06-18T00:00:00\", \"2018-06-19T00:00:00\", \"2018-06-20T00:00:00\", \"2018-06-21T00:00:00\", \"2018-06-22T00:00:00\", \"2018-06-23T00:00:00\", \"2018-06-24T00:00:00\", \"2018-06-25T00:00:00\", \"2018-06-26T00:00:00\", \"2018-06-27T00:00:00\", \"2018-06-28T00:00:00\", \"2018-06-29T00:00:00\", \"2018-06-30T00:00:00\", \"2018-07-01T00:00:00\", \"2018-07-02T00:00:00\", \"2018-07-03T00:00:00\", \"2018-07-04T00:00:00\", \"2018-07-05T00:00:00\", \"2018-07-06T00:00:00\", \"2018-07-07T00:00:00\", \"2018-07-08T00:00:00\", \"2018-07-09T00:00:00\", \"2018-07-10T00:00:00\", \"2018-07-11T00:00:00\", \"2018-07-12T00:00:00\", \"2018-07-13T00:00:00\", \"2018-07-14T00:00:00\", \"2018-07-15T00:00:00\", \"2018-07-16T00:00:00\", \"2018-07-17T00:00:00\", \"2018-07-18T00:00:00\", \"2018-07-19T00:00:00\", \"2018-07-20T00:00:00\", \"2018-07-21T00:00:00\", \"2018-07-22T00:00:00\", \"2018-07-23T00:00:00\", \"2018-07-24T00:00:00\", \"2018-07-25T00:00:00\", \"2018-07-26T00:00:00\", \"2018-07-27T00:00:00\", \"2018-07-28T00:00:00\", \"2018-07-29T00:00:00\", \"2018-07-30T00:00:00\", \"2018-07-31T00:00:00\", \"2018-08-01T00:00:00\", \"2018-08-02T00:00:00\", \"2018-08-03T00:00:00\", \"2018-08-04T00:00:00\", \"2018-08-05T00:00:00\", \"2018-08-06T00:00:00\", \"2018-08-07T00:00:00\", \"2018-08-08T00:00:00\", \"2018-08-09T00:00:00\", \"2018-08-10T00:00:00\", \"2018-08-11T00:00:00\", \"2018-08-12T00:00:00\", \"2018-08-13T00:00:00\", \"2018-08-14T00:00:00\", \"2018-08-15T00:00:00\", \"2018-08-16T00:00:00\", \"2018-08-17T00:00:00\", \"2018-08-18T00:00:00\", \"2018-08-19T00:00:00\", \"2018-08-20T00:00:00\", \"2018-08-21T00:00:00\", \"2018-08-22T00:00:00\", \"2018-08-23T00:00:00\", \"2018-08-24T00:00:00\", \"2018-08-25T00:00:00\", \"2018-08-26T00:00:00\", \"2018-08-27T00:00:00\", \"2018-08-28T00:00:00\", \"2018-08-29T00:00:00\", \"2018-08-30T00:00:00\", \"2018-08-31T00:00:00\", \"2018-09-01T00:00:00\", \"2018-09-02T00:00:00\", \"2018-09-03T00:00:00\", \"2018-09-04T00:00:00\", \"2018-09-05T00:00:00\", \"2018-09-06T00:00:00\", \"2018-09-07T00:00:00\", \"2018-09-08T00:00:00\", \"2018-09-09T00:00:00\", \"2018-09-10T00:00:00\", \"2018-09-11T00:00:00\", \"2018-09-12T00:00:00\", \"2018-09-13T00:00:00\", \"2018-09-14T00:00:00\", \"2018-09-15T00:00:00\", \"2018-09-16T00:00:00\", \"2018-09-17T00:00:00\", \"2018-09-18T00:00:00\", \"2018-09-19T00:00:00\", \"2018-09-20T00:00:00\", \"2018-09-21T00:00:00\", \"2018-09-22T00:00:00\", \"2018-09-23T00:00:00\", \"2018-09-24T00:00:00\", \"2018-09-25T00:00:00\", \"2018-09-26T00:00:00\", \"2018-09-27T00:00:00\", \"2018-09-28T00:00:00\", \"2018-09-29T00:00:00\", \"2018-09-30T00:00:00\", \"2018-10-01T00:00:00\", \"2018-10-02T00:00:00\", \"2018-10-03T00:00:00\", \"2018-10-04T00:00:00\", \"2018-10-05T00:00:00\", \"2018-10-06T00:00:00\", \"2018-10-07T00:00:00\", \"2018-10-08T00:00:00\", \"2018-10-09T00:00:00\", \"2018-10-10T00:00:00\", \"2018-10-11T00:00:00\", \"2018-10-12T00:00:00\", \"2018-10-13T00:00:00\", \"2018-10-14T00:00:00\", \"2018-10-15T00:00:00\", \"2018-10-16T00:00:00\", \"2018-10-17T00:00:00\", \"2018-10-18T00:00:00\", \"2018-10-19T00:00:00\", \"2018-10-20T00:00:00\", \"2018-10-21T00:00:00\", \"2018-10-22T00:00:00\", \"2018-10-23T00:00:00\", \"2018-10-24T00:00:00\", \"2018-10-25T00:00:00\", \"2018-10-26T00:00:00\", \"2018-10-27T00:00:00\", \"2018-10-28T00:00:00\", \"2018-10-29T00:00:00\", \"2018-10-30T00:00:00\", \"2018-10-31T00:00:00\", \"2018-11-01T00:00:00\", \"2018-11-02T00:00:00\", \"2018-11-03T00:00:00\", \"2018-11-04T00:00:00\", \"2018-11-05T00:00:00\", \"2018-11-06T00:00:00\", \"2018-11-07T00:00:00\", \"2018-11-08T00:00:00\", \"2018-11-09T00:00:00\", \"2018-11-10T00:00:00\", \"2018-11-11T00:00:00\", \"2018-11-12T00:00:00\", \"2018-11-13T00:00:00\", \"2018-11-14T00:00:00\", \"2018-11-15T00:00:00\", \"2018-11-16T00:00:00\", \"2018-11-17T00:00:00\", \"2018-11-18T00:00:00\", \"2018-11-19T00:00:00\", \"2018-11-20T00:00:00\", \"2018-11-21T00:00:00\", \"2018-11-22T00:00:00\", \"2018-11-23T00:00:00\", \"2018-11-24T00:00:00\", \"2018-11-25T00:00:00\", \"2018-11-26T00:00:00\", \"2018-11-27T00:00:00\", \"2018-11-28T00:00:00\", \"2018-11-29T00:00:00\", \"2018-11-30T00:00:00\", \"2018-12-01T00:00:00\", \"2018-12-02T00:00:00\", \"2018-12-03T00:00:00\", \"2018-12-04T00:00:00\", \"2018-12-05T00:00:00\", \"2018-12-06T00:00:00\", \"2018-12-07T00:00:00\", \"2018-12-08T00:00:00\", \"2018-12-09T00:00:00\", \"2018-12-10T00:00:00\", \"2018-12-11T00:00:00\", \"2018-12-12T00:00:00\", \"2018-12-13T00:00:00\", \"2018-12-14T00:00:00\", \"2018-12-15T00:00:00\", \"2018-12-16T00:00:00\", \"2018-12-17T00:00:00\", \"2018-12-18T00:00:00\", \"2018-12-19T00:00:00\", \"2018-12-20T00:00:00\", \"2018-12-21T00:00:00\", \"2018-12-22T00:00:00\", \"2018-12-23T00:00:00\", \"2018-12-24T00:00:00\", \"2018-12-25T00:00:00\", \"2018-12-26T00:00:00\", \"2018-12-27T00:00:00\", \"2018-12-28T00:00:00\", \"2018-12-29T00:00:00\", \"2018-12-30T00:00:00\", \"2018-12-31T00:00:00\", \"2019-01-01T00:00:00\", \"2019-01-02T00:00:00\", \"2019-01-03T00:00:00\", \"2019-01-04T00:00:00\", \"2019-01-05T00:00:00\", \"2019-01-06T00:00:00\", \"2019-01-07T00:00:00\", \"2019-01-08T00:00:00\", \"2019-01-09T00:00:00\", \"2019-01-10T00:00:00\", \"2019-01-11T00:00:00\", \"2019-01-12T00:00:00\", \"2019-01-13T00:00:00\", \"2019-01-14T00:00:00\", \"2019-01-15T00:00:00\", \"2019-01-16T00:00:00\", \"2019-01-17T00:00:00\", \"2019-01-18T00:00:00\", \"2019-01-19T00:00:00\", \"2019-01-20T00:00:00\", \"2019-01-21T00:00:00\", \"2019-01-22T00:00:00\", \"2019-01-23T00:00:00\", \"2019-01-24T00:00:00\", \"2019-01-25T00:00:00\", \"2019-01-26T00:00:00\", \"2019-01-27T00:00:00\", \"2019-01-28T00:00:00\", \"2019-01-29T00:00:00\", \"2019-01-30T00:00:00\", \"2019-01-31T00:00:00\", \"2019-02-01T00:00:00\", \"2019-02-02T00:00:00\", \"2019-02-03T00:00:00\", \"2019-02-04T00:00:00\", \"2019-02-05T00:00:00\", \"2019-02-06T00:00:00\", \"2019-02-07T00:00:00\", \"2019-02-08T00:00:00\", \"2019-02-09T00:00:00\", \"2019-02-10T00:00:00\", \"2019-02-11T00:00:00\", \"2019-02-12T00:00:00\", \"2019-02-13T00:00:00\", \"2019-02-14T00:00:00\", \"2019-02-15T00:00:00\", \"2019-02-16T00:00:00\", \"2019-02-17T00:00:00\", \"2019-02-18T00:00:00\", \"2019-02-19T00:00:00\", \"2019-02-20T00:00:00\", \"2019-02-21T00:00:00\", \"2019-02-22T00:00:00\", \"2019-02-23T00:00:00\", \"2019-02-24T00:00:00\", \"2019-02-25T00:00:00\", \"2019-02-26T00:00:00\", \"2019-02-27T00:00:00\", \"2019-02-28T00:00:00\", \"2019-03-01T00:00:00\", \"2019-03-02T00:00:00\", \"2019-03-03T00:00:00\", \"2019-03-04T00:00:00\", \"2019-03-05T00:00:00\", \"2019-03-06T00:00:00\", \"2019-03-07T00:00:00\", \"2019-03-08T00:00:00\", \"2019-03-09T00:00:00\", \"2019-03-10T00:00:00\", \"2019-03-11T00:00:00\", \"2019-03-12T00:00:00\", \"2019-03-13T00:00:00\", \"2019-03-14T00:00:00\", \"2019-03-15T00:00:00\", \"2019-03-16T00:00:00\", \"2019-03-17T00:00:00\", \"2019-03-18T00:00:00\", \"2019-03-19T00:00:00\", \"2019-03-20T00:00:00\", \"2019-03-21T00:00:00\", \"2019-03-22T00:00:00\", \"2019-03-23T00:00:00\", \"2019-03-24T00:00:00\", \"2019-03-25T00:00:00\", \"2019-03-26T00:00:00\", \"2019-03-27T00:00:00\", \"2019-03-28T00:00:00\", \"2019-03-29T00:00:00\", \"2019-03-30T00:00:00\", \"2019-03-31T00:00:00\", \"2019-04-01T00:00:00\", \"2019-04-02T00:00:00\", \"2019-04-03T00:00:00\", \"2019-04-04T00:00:00\", \"2019-04-05T00:00:00\", \"2019-04-06T00:00:00\", \"2019-04-07T00:00:00\", \"2019-04-08T00:00:00\", \"2019-04-09T00:00:00\", \"2019-04-10T00:00:00\", \"2019-04-11T00:00:00\", \"2019-04-12T00:00:00\", \"2019-04-13T00:00:00\", \"2019-04-14T00:00:00\", \"2019-04-15T00:00:00\", \"2019-04-16T00:00:00\", \"2019-04-17T00:00:00\", \"2019-04-18T00:00:00\", \"2019-04-19T00:00:00\", \"2019-04-20T00:00:00\", \"2019-04-21T00:00:00\", \"2019-04-22T00:00:00\", \"2019-04-23T00:00:00\", \"2019-04-24T00:00:00\", \"2019-04-25T00:00:00\", \"2019-04-26T00:00:00\", \"2019-04-27T00:00:00\", \"2019-04-28T00:00:00\", \"2019-04-29T00:00:00\", \"2019-04-30T00:00:00\", \"2019-05-01T00:00:00\", \"2019-05-02T00:00:00\", \"2019-05-03T00:00:00\", \"2019-05-04T00:00:00\", \"2019-05-05T00:00:00\", \"2019-05-06T00:00:00\", \"2019-05-07T00:00:00\", \"2019-05-08T00:00:00\", \"2019-05-09T00:00:00\", \"2019-05-10T00:00:00\", \"2019-05-11T00:00:00\", \"2019-05-12T00:00:00\", \"2019-05-13T00:00:00\", \"2019-05-14T00:00:00\", \"2019-05-15T00:00:00\", \"2019-05-16T00:00:00\", \"2019-05-17T00:00:00\", \"2019-05-18T00:00:00\", \"2019-05-19T00:00:00\", \"2019-05-20T00:00:00\", \"2019-05-21T00:00:00\", \"2019-05-22T00:00:00\", \"2019-05-23T00:00:00\", \"2019-05-24T00:00:00\", \"2019-05-25T00:00:00\", \"2019-05-26T00:00:00\", \"2019-05-27T00:00:00\", \"2019-05-28T00:00:00\", \"2019-05-29T00:00:00\", \"2019-05-30T00:00:00\", \"2019-05-31T00:00:00\"], \"xaxis\": \"x2\", \"y\": [0.0, 0.0, 0.0, 0.0, 0.0, 0.0, 0.0, 2.2, 0.2, 0.0, 0.2, 4.0, 8.2, 1.8, 5.2, 5.4, 4.8, 0.2, 0.0, 0.0, 0.0, 0.0, 0.0, 0.0, 0.0, 0.0, 0.0, 0.0, 0.0, 1.6, 0.0, 0.0, 0.0, 0.0, 0.2, 5.2, 7.4, 0.6, 0.0, 0.0, 3.0, 0.8, 0.0, 0.0, 0.0, 0.0, 0.0, 2.0, 0.0, 9.4, 0.8, 0.0, 0.0, 3.0, 7.2, 0.2, 0.0, 0.0, 2.2, 0.0, 1.6, 2.6, 0.0, 21.2, 1.0, 0.0, 12.2, 7.2, 1.8, 0.0, 0.0, 7.8, 3.0, 0.8, 0.0, 0.0, 3.2, 0.0, 3.6, 0.8, 0.0, 0.0, 0.0, 0.0, 0.0, 0.0, 0.0, 0.0, 0.0, 0.0, 0.4, 5.6, 7.0, 0.6, 0.0, 0.0, 0.0, 0.6, 0.0, 0.0, 0.0, 0.0, 0.0, 0.2, 0.0, 0.0, 3.8, 0.4, 0.0, 0.0, 2.6, 4.2, 0.0, 0.0, 0.0, 0.0, 0.0, 0.0, 0.0, 0.0, 0.0, 0.0, 0.0, 0.0, 4.2, 0.0, 0.0, 0.0, 0.2, 0.2, 0.0, 0.0, 0.0, 0.0, 0.0, 0.0, 4.6, 0.2, 2.8, 0.8, 0.0, 0.0, 0.0, 0.0, 0.0, 0.0, 0.0, 0.0, 0.0, 0.0, 0.0, 0.0, 0.0, 0.0, 0.6, 0.0, 0.0, 4.8, 0.4, 0.8, 0.2, 0.0, 0.0, 0.0, 0.0, 0.0, 0.0, 0.0, 0.0, 0.0, 0.0, 0.0, 1.2, 4.4, 13.8, 2.8, 0.0, 3.4, 0.0, 0.4, 2.0, 0.0, 0.0, 0.0, 0.6, 0.0, 0.0, 0.0, 0.0, 0.0, 0.8, 2.6, 0.0, 0.0, 0.0, 4.6, 8.2, 0.2, 0.6, 0.0, 0.0, 3.4, 0.0, 0.0, 0.0, 0.0, 0.0, 0.0, 0.0, 0.0, 0.0, 0.0, 0.0, 0.0, 0.0, 0.0, 0.0, 0.0, 0.0, 0.0, 0.0, 0.0, 0.0, 0.0, 0.0, 0.0, 0.0, 0.0, 0.0, 0.0, 0.0, 0.2, 0.0, 0.0, 0.0, 0.0, 0.0, 0.0, 0.0, 0.0, 0.0, 0.0, 0.0, 0.0, 0.0, 0.0, 0.0, 0.0, 0.0, 0.0, 0.0, 0.0, 0.0, 0.0, 0.0, 0.0, 3.6, 2.8, 0.0, 0.0, 0.0, 0.0, 0.0, 0.0, 0.0, 0.0, 0.0, 0.0, 0.0, 0.0, 0.0, 0.0, 0.0, 0.0, 0.0, 0.0, 0.6, 0.0, 0.8, 0.0, 0.0, 0.0, 0.0, 0.0, 0.0, 0.8, 0.0, 0.0, 0.0, 0.0, 0.0, 0.0, 0.0, 0.0, 0.0, 0.0, 0.0, 1.2, 3.0, 0.0, 0.0, 0.0, 1.4, 1.2, 0.0, 0.0, 0.0, 0.4, 0.0, 0.0, 0.0, 0.0, 1.6, 0.0, 0.0, 0.0, 0.0, 0.8, 0.0, 0.0, 0.0, 0.0, 0.0, 0.0, 1.4, 0.0, 0.0, 0.0, 0.0, 0.0, 0.0, 0.0, 0.0, 0.0, 6.6, 5.4, 7.2, 3.4, 0.0, 0.0, 0.0, 11.6, 5.0, 9.2, 0.8, 0.6, 0.0, 0.0, 0.0, 0.0, 0.0, 0.0, 0.0, 5.4, 0.2, 0.0, 0.0, 1.2, 3.8, 2.0, 5.6, 0.6, 2.0, 4.0, 0.4], \"yaxis\": \"y2\"}],\n",
       "                        {\"template\": {\"data\": {\"bar\": [{\"error_x\": {\"color\": \"#2a3f5f\"}, \"error_y\": {\"color\": \"#2a3f5f\"}, \"marker\": {\"line\": {\"color\": \"#E5ECF6\", \"width\": 0.5}}, \"type\": \"bar\"}], \"barpolar\": [{\"marker\": {\"line\": {\"color\": \"#E5ECF6\", \"width\": 0.5}}, \"type\": \"barpolar\"}], \"carpet\": [{\"aaxis\": {\"endlinecolor\": \"#2a3f5f\", \"gridcolor\": \"white\", \"linecolor\": \"white\", \"minorgridcolor\": \"white\", \"startlinecolor\": \"#2a3f5f\"}, \"baxis\": {\"endlinecolor\": \"#2a3f5f\", \"gridcolor\": \"white\", \"linecolor\": \"white\", \"minorgridcolor\": \"white\", \"startlinecolor\": \"#2a3f5f\"}, \"type\": \"carpet\"}], \"choropleth\": [{\"colorbar\": {\"outlinewidth\": 0, \"ticks\": \"\"}, \"type\": \"choropleth\"}], \"contour\": [{\"colorbar\": {\"outlinewidth\": 0, \"ticks\": \"\"}, \"colorscale\": [[0.0, \"#0d0887\"], [0.1111111111111111, \"#46039f\"], [0.2222222222222222, \"#7201a8\"], [0.3333333333333333, \"#9c179e\"], [0.4444444444444444, \"#bd3786\"], [0.5555555555555556, \"#d8576b\"], [0.6666666666666666, \"#ed7953\"], [0.7777777777777778, \"#fb9f3a\"], [0.8888888888888888, \"#fdca26\"], [1.0, \"#f0f921\"]], \"type\": \"contour\"}], \"contourcarpet\": [{\"colorbar\": {\"outlinewidth\": 0, \"ticks\": \"\"}, \"type\": \"contourcarpet\"}], \"heatmap\": [{\"colorbar\": {\"outlinewidth\": 0, \"ticks\": \"\"}, \"colorscale\": [[0.0, \"#0d0887\"], [0.1111111111111111, \"#46039f\"], [0.2222222222222222, \"#7201a8\"], [0.3333333333333333, \"#9c179e\"], [0.4444444444444444, \"#bd3786\"], [0.5555555555555556, \"#d8576b\"], [0.6666666666666666, \"#ed7953\"], [0.7777777777777778, \"#fb9f3a\"], [0.8888888888888888, \"#fdca26\"], [1.0, \"#f0f921\"]], \"type\": \"heatmap\"}], \"heatmapgl\": [{\"colorbar\": {\"outlinewidth\": 0, \"ticks\": \"\"}, \"colorscale\": [[0.0, \"#0d0887\"], [0.1111111111111111, \"#46039f\"], [0.2222222222222222, \"#7201a8\"], [0.3333333333333333, \"#9c179e\"], [0.4444444444444444, \"#bd3786\"], [0.5555555555555556, \"#d8576b\"], [0.6666666666666666, \"#ed7953\"], [0.7777777777777778, \"#fb9f3a\"], [0.8888888888888888, \"#fdca26\"], [1.0, \"#f0f921\"]], \"type\": \"heatmapgl\"}], \"histogram\": [{\"marker\": {\"colorbar\": {\"outlinewidth\": 0, \"ticks\": \"\"}}, \"type\": \"histogram\"}], \"histogram2d\": [{\"colorbar\": {\"outlinewidth\": 0, \"ticks\": \"\"}, \"colorscale\": [[0.0, \"#0d0887\"], [0.1111111111111111, \"#46039f\"], [0.2222222222222222, \"#7201a8\"], [0.3333333333333333, \"#9c179e\"], [0.4444444444444444, \"#bd3786\"], [0.5555555555555556, \"#d8576b\"], [0.6666666666666666, \"#ed7953\"], [0.7777777777777778, \"#fb9f3a\"], [0.8888888888888888, \"#fdca26\"], [1.0, \"#f0f921\"]], \"type\": \"histogram2d\"}], \"histogram2dcontour\": [{\"colorbar\": {\"outlinewidth\": 0, \"ticks\": \"\"}, \"colorscale\": [[0.0, \"#0d0887\"], [0.1111111111111111, \"#46039f\"], [0.2222222222222222, \"#7201a8\"], [0.3333333333333333, \"#9c179e\"], [0.4444444444444444, \"#bd3786\"], [0.5555555555555556, \"#d8576b\"], [0.6666666666666666, \"#ed7953\"], [0.7777777777777778, \"#fb9f3a\"], [0.8888888888888888, \"#fdca26\"], [1.0, \"#f0f921\"]], \"type\": \"histogram2dcontour\"}], \"mesh3d\": [{\"colorbar\": {\"outlinewidth\": 0, \"ticks\": \"\"}, \"type\": \"mesh3d\"}], \"parcoords\": [{\"line\": {\"colorbar\": {\"outlinewidth\": 0, \"ticks\": \"\"}}, \"type\": \"parcoords\"}], \"scatter\": [{\"marker\": {\"colorbar\": {\"outlinewidth\": 0, \"ticks\": \"\"}}, \"type\": \"scatter\"}], \"scatter3d\": [{\"line\": {\"colorbar\": {\"outlinewidth\": 0, \"ticks\": \"\"}}, \"marker\": {\"colorbar\": {\"outlinewidth\": 0, \"ticks\": \"\"}}, \"type\": \"scatter3d\"}], \"scattercarpet\": [{\"marker\": {\"colorbar\": {\"outlinewidth\": 0, \"ticks\": \"\"}}, \"type\": \"scattercarpet\"}], \"scattergeo\": [{\"marker\": {\"colorbar\": {\"outlinewidth\": 0, \"ticks\": \"\"}}, \"type\": \"scattergeo\"}], \"scattergl\": [{\"marker\": {\"colorbar\": {\"outlinewidth\": 0, \"ticks\": \"\"}}, \"type\": \"scattergl\"}], \"scattermapbox\": [{\"marker\": {\"colorbar\": {\"outlinewidth\": 0, \"ticks\": \"\"}}, \"type\": \"scattermapbox\"}], \"scatterpolar\": [{\"marker\": {\"colorbar\": {\"outlinewidth\": 0, \"ticks\": \"\"}}, \"type\": \"scatterpolar\"}], \"scatterpolargl\": [{\"marker\": {\"colorbar\": {\"outlinewidth\": 0, \"ticks\": \"\"}}, \"type\": \"scatterpolargl\"}], \"scatterternary\": [{\"marker\": {\"colorbar\": {\"outlinewidth\": 0, \"ticks\": \"\"}}, \"type\": \"scatterternary\"}], \"surface\": [{\"colorbar\": {\"outlinewidth\": 0, \"ticks\": \"\"}, \"colorscale\": [[0.0, \"#0d0887\"], [0.1111111111111111, \"#46039f\"], [0.2222222222222222, \"#7201a8\"], [0.3333333333333333, \"#9c179e\"], [0.4444444444444444, \"#bd3786\"], [0.5555555555555556, \"#d8576b\"], [0.6666666666666666, \"#ed7953\"], [0.7777777777777778, \"#fb9f3a\"], [0.8888888888888888, \"#fdca26\"], [1.0, \"#f0f921\"]], \"type\": \"surface\"}], \"table\": [{\"cells\": {\"fill\": {\"color\": \"#EBF0F8\"}, \"line\": {\"color\": \"white\"}}, \"header\": {\"fill\": {\"color\": \"#C8D4E3\"}, \"line\": {\"color\": \"white\"}}, \"type\": \"table\"}]}, \"layout\": {\"annotationdefaults\": {\"arrowcolor\": \"#2a3f5f\", \"arrowhead\": 0, \"arrowwidth\": 1}, \"colorscale\": {\"diverging\": [[0, \"#8e0152\"], [0.1, \"#c51b7d\"], [0.2, \"#de77ae\"], [0.3, \"#f1b6da\"], [0.4, \"#fde0ef\"], [0.5, \"#f7f7f7\"], [0.6, \"#e6f5d0\"], [0.7, \"#b8e186\"], [0.8, \"#7fbc41\"], [0.9, \"#4d9221\"], [1, \"#276419\"]], \"sequential\": [[0.0, \"#0d0887\"], [0.1111111111111111, \"#46039f\"], [0.2222222222222222, \"#7201a8\"], [0.3333333333333333, \"#9c179e\"], [0.4444444444444444, \"#bd3786\"], [0.5555555555555556, \"#d8576b\"], [0.6666666666666666, \"#ed7953\"], [0.7777777777777778, \"#fb9f3a\"], [0.8888888888888888, \"#fdca26\"], [1.0, \"#f0f921\"]], \"sequentialminus\": [[0.0, \"#0d0887\"], [0.1111111111111111, \"#46039f\"], [0.2222222222222222, \"#7201a8\"], [0.3333333333333333, \"#9c179e\"], [0.4444444444444444, \"#bd3786\"], [0.5555555555555556, \"#d8576b\"], [0.6666666666666666, \"#ed7953\"], [0.7777777777777778, \"#fb9f3a\"], [0.8888888888888888, \"#fdca26\"], [1.0, \"#f0f921\"]]}, \"colorway\": [\"#636efa\", \"#EF553B\", \"#00cc96\", \"#ab63fa\", \"#FFA15A\", \"#19d3f3\", \"#FF6692\", \"#B6E880\", \"#FF97FF\", \"#FECB52\"], \"font\": {\"color\": \"#2a3f5f\"}, \"geo\": {\"bgcolor\": \"white\", \"lakecolor\": \"white\", \"landcolor\": \"#E5ECF6\", \"showlakes\": true, \"showland\": true, \"subunitcolor\": \"white\"}, \"hoverlabel\": {\"align\": \"left\"}, \"hovermode\": \"closest\", \"mapbox\": {\"style\": \"light\"}, \"paper_bgcolor\": \"white\", \"plot_bgcolor\": \"#E5ECF6\", \"polar\": {\"angularaxis\": {\"gridcolor\": \"white\", \"linecolor\": \"white\", \"ticks\": \"\"}, \"bgcolor\": \"#E5ECF6\", \"radialaxis\": {\"gridcolor\": \"white\", \"linecolor\": \"white\", \"ticks\": \"\"}}, \"scene\": {\"xaxis\": {\"backgroundcolor\": \"#E5ECF6\", \"gridcolor\": \"white\", \"gridwidth\": 2, \"linecolor\": \"white\", \"showbackground\": true, \"ticks\": \"\", \"zerolinecolor\": \"white\"}, \"yaxis\": {\"backgroundcolor\": \"#E5ECF6\", \"gridcolor\": \"white\", \"gridwidth\": 2, \"linecolor\": \"white\", \"showbackground\": true, \"ticks\": \"\", \"zerolinecolor\": \"white\"}, \"zaxis\": {\"backgroundcolor\": \"#E5ECF6\", \"gridcolor\": \"white\", \"gridwidth\": 2, \"linecolor\": \"white\", \"showbackground\": true, \"ticks\": \"\", \"zerolinecolor\": \"white\"}}, \"shapedefaults\": {\"line\": {\"color\": \"#2a3f5f\"}}, \"ternary\": {\"aaxis\": {\"gridcolor\": \"white\", \"linecolor\": \"white\", \"ticks\": \"\"}, \"baxis\": {\"gridcolor\": \"white\", \"linecolor\": \"white\", \"ticks\": \"\"}, \"bgcolor\": \"#E5ECF6\", \"caxis\": {\"gridcolor\": \"white\", \"linecolor\": \"white\", \"ticks\": \"\"}}, \"title\": {\"x\": 0.05}, \"xaxis\": {\"automargin\": true, \"gridcolor\": \"white\", \"linecolor\": \"white\", \"ticks\": \"\", \"zerolinecolor\": \"white\", \"zerolinewidth\": 2}, \"yaxis\": {\"automargin\": true, \"gridcolor\": \"white\", \"linecolor\": \"white\", \"ticks\": \"\", \"zerolinecolor\": \"white\", \"zerolinewidth\": 2}}}, \"title\": {\"text\": \"Adelaide, Australia - Temperature and Rainfall\"}, \"xaxis\": {\"anchor\": \"y\", \"domain\": [0.0, 1.0], \"matches\": \"x2\", \"showticklabels\": false}, \"xaxis2\": {\"anchor\": \"y2\", \"domain\": [0.0, 1.0]}, \"yaxis\": {\"anchor\": \"x\", \"domain\": [0.2525, 1.0], \"title\": {\"font\": {\"size\": 11}, \"text\": \"Temperature (\\u00b0C)\"}}, \"yaxis2\": {\"anchor\": \"x2\", \"domain\": [0.0, 0.2425], \"title\": {\"font\": {\"size\": 11}, \"text\": \"Rainfall mm\"}}},\n",
       "                        {\"responsive\": true}\n",
       "                    ).then(function(){\n",
       "                            \n",
       "var gd = document.getElementById('6b940cc5-2add-4bc3-8d46-4a81dfd329d9');\n",
       "var x = new MutationObserver(function (mutations, observer) {{\n",
       "        var display = window.getComputedStyle(gd).display;\n",
       "        if (!display || display === 'none') {{\n",
       "            console.log([gd, 'removed!']);\n",
       "            Plotly.purge(gd);\n",
       "            observer.disconnect();\n",
       "        }}\n",
       "}});\n",
       "\n",
       "// Listen for the removal of the full notebook cells\n",
       "var notebookContainer = gd.closest('#notebook-container');\n",
       "if (notebookContainer) {{\n",
       "    x.observe(notebookContainer, {childList: true});\n",
       "}}\n",
       "\n",
       "// Listen for the clearing of the current output cell\n",
       "var outputEl = gd.closest('.output');\n",
       "if (outputEl) {{\n",
       "    x.observe(outputEl, {childList: true});\n",
       "}}\n",
       "\n",
       "                        })\n",
       "                };\n",
       "                });\n",
       "            </script>\n",
       "        </div>"
      ]
     },
     "metadata": {},
     "output_type": "display_data"
    }
   ],
   "source": [
    "import plotly as py\n",
    "import plotly.graph_objects as go\n",
    "from plotly.offline import init_notebook_mode\n",
    "from plotly.subplots import make_subplots\n",
    "\n",
    "init_notebook_mode(connected=True)\n",
    "\n",
    "fig = make_subplots(\n",
    "    rows=4, cols=1, shared_xaxes=True, vertical_spacing=0.01,\n",
    "    specs=[[{\"rowspan\": 3}],\n",
    "           [None],\n",
    "           [None],\n",
    "           [{}]]      \n",
    ")\n",
    "\n",
    "fig.add_trace(go.Scatter(x=winter_x, y=winter_temp,\n",
    "    fill='toself',\n",
    "    mode='lines',\n",
    "    line_color='blue',\n",
    "    name='Winter'),\n",
    "    row=1,col=1)\n",
    "\n",
    "fig.add_trace(go.Scatter(x=spring_x, y=spring_temp,\n",
    "    fill='toself',\n",
    "    mode='lines',\n",
    "    line_color='green',\n",
    "    name='Spring'),\n",
    "    row=1,col=1)\n",
    "\n",
    "fig.add_trace(go.Scatter(x=summer_x, y=summer_temp,\n",
    "    fill='toself',\n",
    "    mode='lines',\n",
    "    line_color='red',\n",
    "    name='Summer'),\n",
    "    row=1,col=1)\n",
    "\n",
    "fig.add_trace(go.Scatter(x=autumn_x, y=autumn_temp,\n",
    "    fill='toself',\n",
    "    mode='lines',\n",
    "    line_color='orange',\n",
    "    name='Autumn'),\n",
    "    row=1,col=1)\n",
    "\n",
    "\n",
    "fig.add_trace(go.Scatter(\n",
    "    x=rain_x,\n",
    "    y=rain,\n",
    "    fill='none',\n",
    "    mode='lines',\n",
    "    line_color='blue',\n",
    "    name='Rain'),\n",
    "    row=4,col=1)\n",
    "\n",
    "fig.update_yaxes(title_text=\"Temperature (\\u00B0C)\", title_font=dict(size=11), row=1, col=1)\n",
    "fig.update_yaxes(title_text=\"Rainfall mm\", title_font=dict(size=11), row=4, col=1)\n",
    "\n",
    "fig.update_layout(\n",
    "    title=go.layout.Title(\n",
    "        text=\"Adelaide, Australia - Temperature and Rainfall\"\n",
    "    ))\n",
    "\n",
    "\n",
    "py.offline.iplot(fig)"
   ]
  }
 ],
 "metadata": {
  "kernelspec": {
   "display_name": "Python 3",
   "language": "python",
   "name": "python3"
  },
  "language_info": {
   "codemirror_mode": {
    "name": "ipython",
    "version": 3
   },
   "file_extension": ".py",
   "mimetype": "text/x-python",
   "name": "python",
   "nbconvert_exporter": "python",
   "pygments_lexer": "ipython3",
   "version": "3.6.6"
  }
 },
 "nbformat": 4,
 "nbformat_minor": 2
}
